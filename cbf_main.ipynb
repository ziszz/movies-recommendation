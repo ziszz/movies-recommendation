{
    "cells": [
        {
            "cell_type": "code",
            "execution_count": 1,
            "metadata": {},
            "outputs": [
                {
                    "name": "stderr",
                    "output_type": "stream",
                    "text": [
                        "c:\\Users\\zis\\anaconda3\\envs\\movies-rec\\lib\\site-packages\\paramiko\\transport.py:219: CryptographyDeprecationWarning: Blowfish has been deprecated\n",
                        "  \"class\": algorithms.Blowfish,\n"
                    ]
                }
            ],
            "source": [
                "import os\n",
                "import glob\n",
                "import pandas as pd\n",
                "import tensorflow as tf\n",
                "from absl import logging\n",
                "from modules import components, pipeline\n",
                "from modules.utils import merge_dataset\n",
                "from tfx.orchestration.beam.beam_dag_runner import BeamDagRunner"
            ]
        },
        {
            "cell_type": "code",
            "execution_count": 2,
            "metadata": {},
            "outputs": [],
            "source": [
                "PIPELINE_NAME = \"cbf_pipeline\"\n",
                "\n",
                "# pipeline inputs\n",
                "DATA_ROOT = \"data/merge\"\n",
                "TRANSFORM_MODULE_FILE = \"modules/cbf_transform.py\"\n",
                "TUNER_MODULE_FILE = \"modules/cbf_tuner.py\"\n",
                "TRAINER_MODULE_FILE = \"modules/cbf_trainer.py\"\n",
                "\n",
                "# pipeline outputs\n",
                "OUTPUT_BASE = \"outputs\"\n",
                "\n",
                "serving_model_dir = os.path.join(OUTPUT_BASE, \"serving_model\")\n",
                "pipeline_root = os.path.join(OUTPUT_BASE, PIPELINE_NAME)\n",
                "metadata_path = os.path.join(pipeline_root, \"metadata.sqlite\")"
            ]
        },
        {
            "cell_type": "code",
            "execution_count": 3,
            "metadata": {},
            "outputs": [
                {
                    "name": "stdout",
                    "output_type": "stream",
                    "text": [
                        "Trial 10 Complete [00h 00m 46s]\n",
                        "multi_objective: 9.465736865997314\n",
                        "\n",
                        "Best multi_objective So Far: 9.455041408538818\n",
                        "Total elapsed time: 00h 05m 06s\n",
                        "INFO:tensorflow:Oracle triggered exit\n"
                    ]
                },
                {
                    "name": "stderr",
                    "output_type": "stream",
                    "text": [
                        "INFO:tensorflow:Oracle triggered exit\n",
                        "WARNING:absl:ArtifactQuery.property_predicate is not supported.\n",
                        "WARNING:absl:ArtifactQuery.property_predicate is not supported.\n",
                        "WARNING:absl:ArtifactQuery.property_predicate is not supported.\n",
                        "WARNING:absl:ArtifactQuery.property_predicate is not supported.\n"
                    ]
                },
                {
                    "name": "stdout",
                    "output_type": "stream",
                    "text": [
                        "Results summary\n",
                        "Results in outputs\\cbf_pipeline\\Tuner\\.system\\executor_execution\\196\\.temp\\196\\kt_hyperband\n",
                        "Showing 10 best trials\n",
                        "<keras_tuner.engine.objective.MultiObjective object at 0x000001FEBC8E6A00>\n",
                        "Trial summary\n",
                        "Hyperparameters:\n",
                        "dense_unit1: 232\n",
                        "dense_unit2: 80\n",
                        "dense_unit3: 128\n",
                        "learning_rate: 0.1\n",
                        "tuner/epochs: 5\n",
                        "tuner/initial_epoch: 0\n",
                        "tuner/bracket: 0\n",
                        "tuner/round: 0\n",
                        "Score: 9.455041408538818\n",
                        "Trial summary\n",
                        "Hyperparameters:\n",
                        "dense_unit1: 488\n",
                        "dense_unit2: 48\n",
                        "dense_unit3: 64\n",
                        "learning_rate: 0.01\n",
                        "tuner/epochs: 5\n",
                        "tuner/initial_epoch: 0\n",
                        "tuner/bracket: 0\n",
                        "tuner/round: 0\n",
                        "Score: 9.455075979232788\n",
                        "Trial summary\n",
                        "Hyperparameters:\n",
                        "dense_unit1: 456\n",
                        "dense_unit2: 208\n",
                        "dense_unit3: 64\n",
                        "learning_rate: 0.1\n",
                        "tuner/epochs: 5\n",
                        "tuner/initial_epoch: 2\n",
                        "tuner/bracket: 1\n",
                        "tuner/round: 1\n",
                        "tuner/trial_id: 0000\n",
                        "Score: 9.455078840255737\n",
                        "Trial summary\n",
                        "Hyperparameters:\n",
                        "dense_unit1: 200\n",
                        "dense_unit2: 240\n",
                        "dense_unit3: 96\n",
                        "learning_rate: 0.0001\n",
                        "tuner/epochs: 5\n",
                        "tuner/initial_epoch: 2\n",
                        "tuner/bracket: 1\n",
                        "tuner/round: 1\n",
                        "tuner/trial_id: 0003\n",
                        "Score: 9.457191228866577\n",
                        "Trial summary\n",
                        "Hyperparameters:\n",
                        "dense_unit1: 200\n",
                        "dense_unit2: 240\n",
                        "dense_unit3: 96\n",
                        "learning_rate: 0.0001\n",
                        "tuner/epochs: 2\n",
                        "tuner/initial_epoch: 0\n",
                        "tuner/bracket: 1\n",
                        "tuner/round: 0\n",
                        "Score: 9.45837950706482\n",
                        "Trial summary\n",
                        "Hyperparameters:\n",
                        "dense_unit1: 456\n",
                        "dense_unit2: 208\n",
                        "dense_unit3: 64\n",
                        "learning_rate: 0.1\n",
                        "tuner/epochs: 2\n",
                        "tuner/initial_epoch: 0\n",
                        "tuner/bracket: 1\n",
                        "tuner/round: 0\n",
                        "Score: 9.459583044052124\n",
                        "Trial summary\n",
                        "Hyperparameters:\n",
                        "dense_unit1: 488\n",
                        "dense_unit2: 144\n",
                        "dense_unit3: 32\n",
                        "learning_rate: 0.1\n",
                        "tuner/epochs: 2\n",
                        "tuner/initial_epoch: 0\n",
                        "tuner/bracket: 1\n",
                        "tuner/round: 0\n",
                        "Score: 9.459657430648804\n",
                        "Trial summary\n",
                        "Hyperparameters:\n",
                        "dense_unit1: 424\n",
                        "dense_unit2: 80\n",
                        "dense_unit3: 96\n",
                        "learning_rate: 0.001\n",
                        "tuner/epochs: 2\n",
                        "tuner/initial_epoch: 0\n",
                        "tuner/bracket: 1\n",
                        "tuner/round: 0\n",
                        "Score: 9.461138010025024\n",
                        "Trial summary\n",
                        "Hyperparameters:\n",
                        "dense_unit1: 296\n",
                        "dense_unit2: 208\n",
                        "dense_unit3: 64\n",
                        "learning_rate: 0.1\n",
                        "tuner/epochs: 2\n",
                        "tuner/initial_epoch: 0\n",
                        "tuner/bracket: 1\n",
                        "tuner/round: 0\n",
                        "Score: 9.462002992630005\n",
                        "Trial summary\n",
                        "Hyperparameters:\n",
                        "dense_unit1: 296\n",
                        "dense_unit2: 208\n",
                        "dense_unit3: 32\n",
                        "learning_rate: 0.0001\n",
                        "tuner/epochs: 5\n",
                        "tuner/initial_epoch: 0\n",
                        "tuner/bracket: 0\n",
                        "tuner/round: 0\n",
                        "Score: 9.465736865997314\n"
                    ]
                },
                {
                    "name": "stderr",
                    "output_type": "stream",
                    "text": [
                        "WARNING:absl:Examples artifact does not have payload_format custom property. Falling back to FORMAT_TF_EXAMPLE\n",
                        "WARNING:absl:Examples artifact does not have payload_format custom property. Falling back to FORMAT_TF_EXAMPLE\n",
                        "WARNING:absl:Examples artifact does not have payload_format custom property. Falling back to FORMAT_TF_EXAMPLE\n"
                    ]
                },
                {
                    "name": "stdout",
                    "output_type": "stream",
                    "text": [
                        "Model: \"model_1\"\n",
                        "__________________________________________________________________________________________________\n",
                        " Layer (type)                   Output Shape         Param #     Connected to                     \n",
                        "==================================================================================================\n",
                        " userid_xf (InputLayer)         [(None, 1)]          0           []                               \n",
                        "                                                                                                  \n",
                        " genres_xf (InputLayer)         [(None, 1)]          0           []                               \n",
                        "                                                                                                  \n",
                        " sequential_2 (Sequential)      (None, 128)          29472       ['userid_xf[0][0]']              \n",
                        "                                                                                                  \n",
                        " sequential_3 (Sequential)      (None, 128)          29472       ['genres_xf[0][0]']              \n",
                        "                                                                                                  \n",
                        " tf.math.l2_normalize_2 (TFOpLa  (None, 128)         0           ['sequential_2[0][0]']           \n",
                        " mbda)                                                                                            \n",
                        "                                                                                                  \n",
                        " tf.math.l2_normalize_3 (TFOpLa  (None, 128)         0           ['sequential_3[0][0]']           \n",
                        " mbda)                                                                                            \n",
                        "                                                                                                  \n",
                        " dot_1 (Dot)                    (None, 1)            0           ['tf.math.l2_normalize_2[0][0]', \n",
                        "                                                                  'tf.math.l2_normalize_3[0][0]'] \n",
                        "                                                                                                  \n",
                        "==================================================================================================\n",
                        "Total params: 58,944\n",
                        "Trainable params: 58,944\n",
                        "Non-trainable params: 0\n",
                        "__________________________________________________________________________________________________\n",
                        "Epoch 1/25\n",
                        "1000/1000 [==============================] - 10s 9ms/step - loss: 7.0419 - root_mean_squared_error: 2.6537 - val_loss: 6.8455 - val_root_mean_squared_error: 2.6164\n",
                        "Epoch 2/25\n",
                        "1000/1000 [==============================] - 9s 9ms/step - loss: 6.6868 - root_mean_squared_error: 2.5859 - val_loss: 6.8407 - val_root_mean_squared_error: 2.6155\n",
                        "Epoch 3/25\n",
                        "1000/1000 [==============================] - 10s 10ms/step - loss: 7.0218 - root_mean_squared_error: 2.6499 - val_loss: 6.8456 - val_root_mean_squared_error: 2.6164\n",
                        "Epoch 4/25\n",
                        "1000/1000 [==============================] - 12s 12ms/step - loss: 6.7035 - root_mean_squared_error: 2.5891 - val_loss: 6.8431 - val_root_mean_squared_error: 2.6159\n",
                        "Epoch 5/25\n",
                        "1000/1000 [==============================] - 9s 9ms/step - loss: 6.9992 - root_mean_squared_error: 2.6456 - val_loss: 6.8418 - val_root_mean_squared_error: 2.6157\n",
                        "Epoch 6/25\n",
                        "1000/1000 [==============================] - 10s 10ms/step - loss: 6.7141 - root_mean_squared_error: 2.5912 - val_loss: 6.8474 - val_root_mean_squared_error: 2.6168\n",
                        "Epoch 7/25\n",
                        "1000/1000 [==============================] - 9s 9ms/step - loss: 6.9942 - root_mean_squared_error: 2.6447 - val_loss: 6.8429 - val_root_mean_squared_error: 2.6159\n",
                        "Epoch 8/25\n",
                        "1000/1000 [==============================] - 9s 9ms/step - loss: 6.7300 - root_mean_squared_error: 2.5942 - val_loss: 6.8432 - val_root_mean_squared_error: 2.6159\n",
                        "Epoch 9/25\n",
                        "1000/1000 [==============================] - 9s 9ms/step - loss: 6.9686 - root_mean_squared_error: 2.6398 - val_loss: 6.8458 - val_root_mean_squared_error: 2.6164\n",
                        "Epoch 10/25\n",
                        "1000/1000 [==============================] - 9s 9ms/step - loss: 6.7630 - root_mean_squared_error: 2.6006 - val_loss: 6.8447 - val_root_mean_squared_error: 2.6162\n",
                        "Epoch 11/25\n",
                        "1000/1000 [==============================] - 10s 10ms/step - loss: 6.9382 - root_mean_squared_error: 2.6340 - val_loss: 6.8437 - val_root_mean_squared_error: 2.6160\n",
                        "Epoch 12/25\n",
                        "1000/1000 [==============================] - 9s 9ms/step - loss: 6.8046 - root_mean_squared_error: 2.6086 - val_loss: 6.8440 - val_root_mean_squared_error: 2.6161\n",
                        "Epoch 12: early stopping\n",
                        "Epoch 12: early stopping\n",
                        "INFO:tensorflow:struct2tensor is not available.\n"
                    ]
                },
                {
                    "name": "stderr",
                    "output_type": "stream",
                    "text": [
                        "INFO:tensorflow:struct2tensor is not available.\n"
                    ]
                },
                {
                    "name": "stdout",
                    "output_type": "stream",
                    "text": [
                        "INFO:tensorflow:tensorflow_decision_forests is not available.\n"
                    ]
                },
                {
                    "name": "stderr",
                    "output_type": "stream",
                    "text": [
                        "INFO:tensorflow:tensorflow_decision_forests is not available.\n"
                    ]
                },
                {
                    "name": "stdout",
                    "output_type": "stream",
                    "text": [
                        "INFO:tensorflow:tensorflow_text is not available.\n"
                    ]
                },
                {
                    "name": "stderr",
                    "output_type": "stream",
                    "text": [
                        "INFO:tensorflow:tensorflow_text is not available.\n"
                    ]
                },
                {
                    "name": "stdout",
                    "output_type": "stream",
                    "text": [
                        "INFO:tensorflow:Assets written to: outputs\\cbf_pipeline\\Trainer\\model\\197\\Format-Serving\\assets\n"
                    ]
                },
                {
                    "name": "stderr",
                    "output_type": "stream",
                    "text": [
                        "INFO:tensorflow:Assets written to: outputs\\cbf_pipeline\\Trainer\\model\\197\\Format-Serving\\assets\n",
                        "WARNING:absl:ArtifactQuery.property_predicate is not supported.\n",
                        "WARNING:absl:ArtifactQuery.property_predicate is not supported.\n",
                        "WARNING:absl:ArtifactQuery.property_predicate is not supported.\n",
                        "WARNING:absl:ArtifactQuery.property_predicate is not supported.\n"
                    ]
                },
                {
                    "name": "stdout",
                    "output_type": "stream",
                    "text": [
                        "WARNING:tensorflow:Inconsistent references when loading the checkpoint into this object graph. For example, in the saved checkpoint object, `model.layer.weight` and `model.layer_copy.weight` reference the same variable, while in the current object these are two different variables. The referenced variables are:(<keras.saving.saved_model.load.TensorFlowTransform>TransformFeaturesLayer object at 0x000001FEBC933F40> and <keras.engine.input_layer.InputLayer object at 0x000001FE40AE5C40>).\n"
                    ]
                },
                {
                    "name": "stderr",
                    "output_type": "stream",
                    "text": [
                        "WARNING:tensorflow:Inconsistent references when loading the checkpoint into this object graph. For example, in the saved checkpoint object, `model.layer.weight` and `model.layer_copy.weight` reference the same variable, while in the current object these are two different variables. The referenced variables are:(<keras.saving.saved_model.load.TensorFlowTransform>TransformFeaturesLayer object at 0x000001FEBC933F40> and <keras.engine.input_layer.InputLayer object at 0x000001FE40AE5C40>).\n"
                    ]
                },
                {
                    "name": "stdout",
                    "output_type": "stream",
                    "text": [
                        "WARNING:tensorflow:Inconsistent references when loading the checkpoint into this object graph. For example, in the saved checkpoint object, `model.layer.weight` and `model.layer_copy.weight` reference the same variable, while in the current object these are two different variables. The referenced variables are:(<keras.saving.saved_model.load.TensorFlowTransform>TransformFeaturesLayer object at 0x000001FE529F0880> and <keras.engine.input_layer.InputLayer object at 0x000001FE40AE0190>).\n"
                    ]
                },
                {
                    "name": "stderr",
                    "output_type": "stream",
                    "text": [
                        "WARNING:tensorflow:Inconsistent references when loading the checkpoint into this object graph. For example, in the saved checkpoint object, `model.layer.weight` and `model.layer_copy.weight` reference the same variable, while in the current object these are two different variables. The referenced variables are:(<keras.saving.saved_model.load.TensorFlowTransform>TransformFeaturesLayer object at 0x000001FE529F0880> and <keras.engine.input_layer.InputLayer object at 0x000001FE40AE0190>).\n"
                    ]
                },
                {
                    "name": "stdout",
                    "output_type": "stream",
                    "text": [
                        "WARNING:tensorflow:Inconsistent references when loading the checkpoint into this object graph. For example, in the saved checkpoint object, `model.layer.weight` and `model.layer_copy.weight` reference the same variable, while in the current object these are two different variables. The referenced variables are:(<keras.saving.saved_model.load.TensorFlowTransform>TransformFeaturesLayer object at 0x000001FE68A954C0> and <keras.engine.input_layer.InputLayer object at 0x000001FE68A9EDF0>).\n"
                    ]
                },
                {
                    "name": "stderr",
                    "output_type": "stream",
                    "text": [
                        "WARNING:tensorflow:Inconsistent references when loading the checkpoint into this object graph. For example, in the saved checkpoint object, `model.layer.weight` and `model.layer_copy.weight` reference the same variable, while in the current object these are two different variables. The referenced variables are:(<keras.saving.saved_model.load.TensorFlowTransform>TransformFeaturesLayer object at 0x000001FE68A954C0> and <keras.engine.input_layer.InputLayer object at 0x000001FE68A9EDF0>).\n"
                    ]
                },
                {
                    "name": "stdout",
                    "output_type": "stream",
                    "text": [
                        "WARNING:tensorflow:Inconsistent references when loading the checkpoint into this object graph. For example, in the saved checkpoint object, `model.layer.weight` and `model.layer_copy.weight` reference the same variable, while in the current object these are two different variables. The referenced variables are:(<keras.saving.saved_model.load.TensorFlowTransform>TransformFeaturesLayer object at 0x000001FEC60713D0> and <keras.engine.input_layer.InputLayer object at 0x000001FEC602FD90>).\n"
                    ]
                },
                {
                    "name": "stderr",
                    "output_type": "stream",
                    "text": [
                        "WARNING:tensorflow:Inconsistent references when loading the checkpoint into this object graph. For example, in the saved checkpoint object, `model.layer.weight` and `model.layer_copy.weight` reference the same variable, while in the current object these are two different variables. The referenced variables are:(<keras.saving.saved_model.load.TensorFlowTransform>TransformFeaturesLayer object at 0x000001FEC60713D0> and <keras.engine.input_layer.InputLayer object at 0x000001FEC602FD90>).\n"
                    ]
                },
                {
                    "name": "stdout",
                    "output_type": "stream",
                    "text": [
                        "WARNING:tensorflow:Inconsistent references when loading the checkpoint into this object graph. For example, in the saved checkpoint object, `model.layer.weight` and `model.layer_copy.weight` reference the same variable, while in the current object these are two different variables. The referenced variables are:(<keras.saving.saved_model.load.TensorFlowTransform>TransformFeaturesLayer object at 0x000001FE5F764160> and <keras.engine.input_layer.InputLayer object at 0x000001FE46CECF40>).\n"
                    ]
                },
                {
                    "name": "stderr",
                    "output_type": "stream",
                    "text": [
                        "WARNING:tensorflow:Inconsistent references when loading the checkpoint into this object graph. For example, in the saved checkpoint object, `model.layer.weight` and `model.layer_copy.weight` reference the same variable, while in the current object these are two different variables. The referenced variables are:(<keras.saving.saved_model.load.TensorFlowTransform>TransformFeaturesLayer object at 0x000001FE5F764160> and <keras.engine.input_layer.InputLayer object at 0x000001FE46CECF40>).\n"
                    ]
                },
                {
                    "name": "stdout",
                    "output_type": "stream",
                    "text": [
                        "WARNING:tensorflow:Inconsistent references when loading the checkpoint into this object graph. For example, in the saved checkpoint object, `model.layer.weight` and `model.layer_copy.weight` reference the same variable, while in the current object these are two different variables. The referenced variables are:(<keras.saving.saved_model.load.TensorFlowTransform>TransformFeaturesLayer object at 0x000001FE4702D3D0> and <keras.engine.input_layer.InputLayer object at 0x000001FEBC94ED30>).\n"
                    ]
                },
                {
                    "name": "stderr",
                    "output_type": "stream",
                    "text": [
                        "WARNING:tensorflow:Inconsistent references when loading the checkpoint into this object graph. For example, in the saved checkpoint object, `model.layer.weight` and `model.layer_copy.weight` reference the same variable, while in the current object these are two different variables. The referenced variables are:(<keras.saving.saved_model.load.TensorFlowTransform>TransformFeaturesLayer object at 0x000001FE4702D3D0> and <keras.engine.input_layer.InputLayer object at 0x000001FEBC94ED30>).\n"
                    ]
                },
                {
                    "name": "stdout",
                    "output_type": "stream",
                    "text": [
                        "WARNING:tensorflow:Inconsistent references when loading the checkpoint into this object graph. For example, in the saved checkpoint object, `model.layer.weight` and `model.layer_copy.weight` reference the same variable, while in the current object these are two different variables. The referenced variables are:(<keras.saving.saved_model.load.TensorFlowTransform>TransformFeaturesLayer object at 0x000001FEE8009DF0> and <keras.engine.input_layer.InputLayer object at 0x000001FEE7FFF640>).\n"
                    ]
                },
                {
                    "name": "stderr",
                    "output_type": "stream",
                    "text": [
                        "WARNING:tensorflow:Inconsistent references when loading the checkpoint into this object graph. For example, in the saved checkpoint object, `model.layer.weight` and `model.layer_copy.weight` reference the same variable, while in the current object these are two different variables. The referenced variables are:(<keras.saving.saved_model.load.TensorFlowTransform>TransformFeaturesLayer object at 0x000001FEE8009DF0> and <keras.engine.input_layer.InputLayer object at 0x000001FEE7FFF640>).\n"
                    ]
                },
                {
                    "name": "stdout",
                    "output_type": "stream",
                    "text": [
                        "WARNING:tensorflow:Inconsistent references when loading the checkpoint into this object graph. For example, in the saved checkpoint object, `model.layer.weight` and `model.layer_copy.weight` reference the same variable, while in the current object these are two different variables. The referenced variables are:(<keras.saving.saved_model.load.TensorFlowTransform>TransformFeaturesLayer object at 0x000001FEF403F0A0> and <keras.engine.input_layer.InputLayer object at 0x000001FECFFBB190>).\n"
                    ]
                },
                {
                    "name": "stderr",
                    "output_type": "stream",
                    "text": [
                        "WARNING:tensorflow:Inconsistent references when loading the checkpoint into this object graph. For example, in the saved checkpoint object, `model.layer.weight` and `model.layer_copy.weight` reference the same variable, while in the current object these are two different variables. The referenced variables are:(<keras.saving.saved_model.load.TensorFlowTransform>TransformFeaturesLayer object at 0x000001FEF403F0A0> and <keras.engine.input_layer.InputLayer object at 0x000001FECFFBB190>).\n"
                    ]
                },
                {
                    "name": "stdout",
                    "output_type": "stream",
                    "text": [
                        "WARNING:tensorflow:Inconsistent references when loading the checkpoint into this object graph. For example, in the saved checkpoint object, `model.layer.weight` and `model.layer_copy.weight` reference the same variable, while in the current object these are two different variables. The referenced variables are:(<keras.saving.saved_model.load.TensorFlowTransform>TransformFeaturesLayer object at 0x000001FF01EEA160> and <keras.engine.input_layer.InputLayer object at 0x000001FF01DA8C70>).\n"
                    ]
                },
                {
                    "name": "stderr",
                    "output_type": "stream",
                    "text": [
                        "WARNING:tensorflow:Inconsistent references when loading the checkpoint into this object graph. For example, in the saved checkpoint object, `model.layer.weight` and `model.layer_copy.weight` reference the same variable, while in the current object these are two different variables. The referenced variables are:(<keras.saving.saved_model.load.TensorFlowTransform>TransformFeaturesLayer object at 0x000001FF01EEA160> and <keras.engine.input_layer.InputLayer object at 0x000001FF01DA8C70>).\n"
                    ]
                },
                {
                    "name": "stdout",
                    "output_type": "stream",
                    "text": [
                        "WARNING:tensorflow:Inconsistent references when loading the checkpoint into this object graph. For example, in the saved checkpoint object, `model.layer.weight` and `model.layer_copy.weight` reference the same variable, while in the current object these are two different variables. The referenced variables are:(<keras.saving.saved_model.load.TensorFlowTransform>TransformFeaturesLayer object at 0x000001FF01832820> and <keras.engine.input_layer.InputLayer object at 0x000001FF00305760>).\n"
                    ]
                },
                {
                    "name": "stderr",
                    "output_type": "stream",
                    "text": [
                        "WARNING:tensorflow:Inconsistent references when loading the checkpoint into this object graph. For example, in the saved checkpoint object, `model.layer.weight` and `model.layer_copy.weight` reference the same variable, while in the current object these are two different variables. The referenced variables are:(<keras.saving.saved_model.load.TensorFlowTransform>TransformFeaturesLayer object at 0x000001FF01832820> and <keras.engine.input_layer.InputLayer object at 0x000001FF00305760>).\n"
                    ]
                },
                {
                    "name": "stdout",
                    "output_type": "stream",
                    "text": [
                        "WARNING:tensorflow:Inconsistent references when loading the checkpoint into this object graph. For example, in the saved checkpoint object, `model.layer.weight` and `model.layer_copy.weight` reference the same variable, while in the current object these are two different variables. The referenced variables are:(<keras.saving.saved_model.load.TensorFlowTransform>TransformFeaturesLayer object at 0x000001FE526F4EB0> and <keras.engine.input_layer.InputLayer object at 0x000001FF01DA0430>).\n"
                    ]
                },
                {
                    "name": "stderr",
                    "output_type": "stream",
                    "text": [
                        "WARNING:tensorflow:Inconsistent references when loading the checkpoint into this object graph. For example, in the saved checkpoint object, `model.layer.weight` and `model.layer_copy.weight` reference the same variable, while in the current object these are two different variables. The referenced variables are:(<keras.saving.saved_model.load.TensorFlowTransform>TransformFeaturesLayer object at 0x000001FE526F4EB0> and <keras.engine.input_layer.InputLayer object at 0x000001FF01DA0430>).\n"
                    ]
                },
                {
                    "name": "stdout",
                    "output_type": "stream",
                    "text": [
                        "WARNING:tensorflow:Inconsistent references when loading the checkpoint into this object graph. For example, in the saved checkpoint object, `model.layer.weight` and `model.layer_copy.weight` reference the same variable, while in the current object these are two different variables. The referenced variables are:(<keras.saving.saved_model.load.TensorFlowTransform>TransformFeaturesLayer object at 0x000001FECFFF5BE0> and <keras.engine.input_layer.InputLayer object at 0x000001FEB79DFEE0>).\n"
                    ]
                },
                {
                    "name": "stderr",
                    "output_type": "stream",
                    "text": [
                        "WARNING:tensorflow:Inconsistent references when loading the checkpoint into this object graph. For example, in the saved checkpoint object, `model.layer.weight` and `model.layer_copy.weight` reference the same variable, while in the current object these are two different variables. The referenced variables are:(<keras.saving.saved_model.load.TensorFlowTransform>TransformFeaturesLayer object at 0x000001FECFFF5BE0> and <keras.engine.input_layer.InputLayer object at 0x000001FEB79DFEE0>).\n"
                    ]
                },
                {
                    "name": "stdout",
                    "output_type": "stream",
                    "text": [
                        "WARNING:tensorflow:Inconsistent references when loading the checkpoint into this object graph. For example, in the saved checkpoint object, `model.layer.weight` and `model.layer_copy.weight` reference the same variable, while in the current object these are two different variables. The referenced variables are:(<keras.saving.saved_model.load.TensorFlowTransform>TransformFeaturesLayer object at 0x000001FF003FD430> and <keras.engine.input_layer.InputLayer object at 0x000001FF003F5AC0>).\n"
                    ]
                },
                {
                    "name": "stderr",
                    "output_type": "stream",
                    "text": [
                        "WARNING:tensorflow:Inconsistent references when loading the checkpoint into this object graph. For example, in the saved checkpoint object, `model.layer.weight` and `model.layer_copy.weight` reference the same variable, while in the current object these are two different variables. The referenced variables are:(<keras.saving.saved_model.load.TensorFlowTransform>TransformFeaturesLayer object at 0x000001FF003FD430> and <keras.engine.input_layer.InputLayer object at 0x000001FF003F5AC0>).\n"
                    ]
                },
                {
                    "name": "stdout",
                    "output_type": "stream",
                    "text": [
                        "WARNING:tensorflow:Inconsistent references when loading the checkpoint into this object graph. For example, in the saved checkpoint object, `model.layer.weight` and `model.layer_copy.weight` reference the same variable, while in the current object these are two different variables. The referenced variables are:(<keras.saving.saved_model.load.TensorFlowTransform>TransformFeaturesLayer object at 0x000001FF01700EB0> and <keras.engine.input_layer.InputLayer object at 0x000001FF003FBDF0>).\n"
                    ]
                },
                {
                    "name": "stderr",
                    "output_type": "stream",
                    "text": [
                        "WARNING:tensorflow:Inconsistent references when loading the checkpoint into this object graph. For example, in the saved checkpoint object, `model.layer.weight` and `model.layer_copy.weight` reference the same variable, while in the current object these are two different variables. The referenced variables are:(<keras.saving.saved_model.load.TensorFlowTransform>TransformFeaturesLayer object at 0x000001FF01700EB0> and <keras.engine.input_layer.InputLayer object at 0x000001FF003FBDF0>).\n"
                    ]
                },
                {
                    "name": "stdout",
                    "output_type": "stream",
                    "text": [
                        "WARNING:tensorflow:Inconsistent references when loading the checkpoint into this object graph. For example, in the saved checkpoint object, `model.layer.weight` and `model.layer_copy.weight` reference the same variable, while in the current object these are two different variables. The referenced variables are:(<keras.saving.saved_model.load.TensorFlowTransform>TransformFeaturesLayer object at 0x000001FF01B6C2B0> and <keras.engine.input_layer.InputLayer object at 0x000001FF01DB0E80>).\n"
                    ]
                },
                {
                    "name": "stderr",
                    "output_type": "stream",
                    "text": [
                        "WARNING:tensorflow:Inconsistent references when loading the checkpoint into this object graph. For example, in the saved checkpoint object, `model.layer.weight` and `model.layer_copy.weight` reference the same variable, while in the current object these are two different variables. The referenced variables are:(<keras.saving.saved_model.load.TensorFlowTransform>TransformFeaturesLayer object at 0x000001FF01B6C2B0> and <keras.engine.input_layer.InputLayer object at 0x000001FF01DB0E80>).\n"
                    ]
                },
                {
                    "name": "stdout",
                    "output_type": "stream",
                    "text": [
                        "WARNING:tensorflow:Inconsistent references when loading the checkpoint into this object graph. For example, in the saved checkpoint object, `model.layer.weight` and `model.layer_copy.weight` reference the same variable, while in the current object these are two different variables. The referenced variables are:(<keras.saving.saved_model.load.TensorFlowTransform>TransformFeaturesLayer object at 0x000001FF0A366130> and <keras.engine.input_layer.InputLayer object at 0x000001FF0A16F940>).\n"
                    ]
                },
                {
                    "name": "stderr",
                    "output_type": "stream",
                    "text": [
                        "WARNING:tensorflow:Inconsistent references when loading the checkpoint into this object graph. For example, in the saved checkpoint object, `model.layer.weight` and `model.layer_copy.weight` reference the same variable, while in the current object these are two different variables. The referenced variables are:(<keras.saving.saved_model.load.TensorFlowTransform>TransformFeaturesLayer object at 0x000001FF0A366130> and <keras.engine.input_layer.InputLayer object at 0x000001FF0A16F940>).\n"
                    ]
                },
                {
                    "name": "stdout",
                    "output_type": "stream",
                    "text": [
                        "WARNING:tensorflow:Inconsistent references when loading the checkpoint into this object graph. For example, in the saved checkpoint object, `model.layer.weight` and `model.layer_copy.weight` reference the same variable, while in the current object these are two different variables. The referenced variables are:(<keras.saving.saved_model.load.TensorFlowTransform>TransformFeaturesLayer object at 0x000001FF0A341190> and <keras.engine.input_layer.InputLayer object at 0x000001FF0A32CAF0>).\n"
                    ]
                },
                {
                    "name": "stderr",
                    "output_type": "stream",
                    "text": [
                        "WARNING:tensorflow:Inconsistent references when loading the checkpoint into this object graph. For example, in the saved checkpoint object, `model.layer.weight` and `model.layer_copy.weight` reference the same variable, while in the current object these are two different variables. The referenced variables are:(<keras.saving.saved_model.load.TensorFlowTransform>TransformFeaturesLayer object at 0x000001FF0A341190> and <keras.engine.input_layer.InputLayer object at 0x000001FF0A32CAF0>).\n"
                    ]
                },
                {
                    "name": "stdout",
                    "output_type": "stream",
                    "text": [
                        "WARNING:tensorflow:Inconsistent references when loading the checkpoint into this object graph. For example, in the saved checkpoint object, `model.layer.weight` and `model.layer_copy.weight` reference the same variable, while in the current object these are two different variables. The referenced variables are:(<keras.saving.saved_model.load.TensorFlowTransform>TransformFeaturesLayer object at 0x000001FF0D6F1040> and <keras.engine.input_layer.InputLayer object at 0x000001FF0B376C10>).\n"
                    ]
                },
                {
                    "name": "stderr",
                    "output_type": "stream",
                    "text": [
                        "WARNING:tensorflow:Inconsistent references when loading the checkpoint into this object graph. For example, in the saved checkpoint object, `model.layer.weight` and `model.layer_copy.weight` reference the same variable, while in the current object these are two different variables. The referenced variables are:(<keras.saving.saved_model.load.TensorFlowTransform>TransformFeaturesLayer object at 0x000001FF0D6F1040> and <keras.engine.input_layer.InputLayer object at 0x000001FF0B376C10>).\n"
                    ]
                },
                {
                    "name": "stdout",
                    "output_type": "stream",
                    "text": [
                        "WARNING:tensorflow:From c:\\Users\\zis\\anaconda3\\envs\\movies-rec\\lib\\site-packages\\tensorflow_model_analysis\\writers\\metrics_plots_and_validations_writer.py:110: tf_record_iterator (from tensorflow.python.lib.io.tf_record) is deprecated and will be removed in a future version.\n",
                        "Instructions for updating:\n",
                        "Use eager execution and: \n",
                        "`tf.data.TFRecordDataset(path)`\n"
                    ]
                },
                {
                    "name": "stderr",
                    "output_type": "stream",
                    "text": [
                        "WARNING:tensorflow:From c:\\Users\\zis\\anaconda3\\envs\\movies-rec\\lib\\site-packages\\tensorflow_model_analysis\\writers\\metrics_plots_and_validations_writer.py:110: tf_record_iterator (from tensorflow.python.lib.io.tf_record) is deprecated and will be removed in a future version.\n",
                        "Instructions for updating:\n",
                        "Use eager execution and: \n",
                        "`tf.data.TFRecordDataset(path)`\n",
                        "WARNING:absl:ArtifactQuery.property_predicate is not supported.\n",
                        "WARNING:absl:ArtifactQuery.property_predicate is not supported.\n"
                    ]
                }
            ],
            "source": [
                "components = components.init_components(\n",
                "    data_dir=DATA_ROOT,\n",
                "    transform_module=TRANSFORM_MODULE_FILE,\n",
                "    tuner_module=TUNER_MODULE_FILE,\n",
                "    trainer_module=TRAINER_MODULE_FILE,\n",
                "    train_steps=1000,\n",
                "    eval_steps=500,\n",
                "    serving_model_dir=os.path.join(\n",
                "        serving_model_dir, \"cbf_model\"),\n",
                "    tuner_epochs=5,\n",
                "    trainer_epochs=25,\n",
                ")\n",
                "\n",
                "pipeline = pipeline.init_pipeline(\n",
                "    pipeline_root=pipeline_root,\n",
                "    pipeline_name=PIPELINE_NAME,\n",
                "    metadata_path=metadata_path,\n",
                "    components=components,\n",
                ")\n",
                "\n",
                "BeamDagRunner().run(pipeline)"
            ]
        }
    ],
    "metadata": {
        "kernelspec": {
            "display_name": "movies-rec",
            "language": "python",
            "name": "python3"
        },
        "language_info": {
            "codemirror_mode": {
                "name": "ipython",
                "version": 3
            },
            "file_extension": ".py",
            "mimetype": "text/x-python",
            "name": "python",
            "nbconvert_exporter": "python",
            "pygments_lexer": "ipython3",
            "version": "3.9.15"
        },
        "orig_nbformat": 4,
        "vscode": {
            "interpreter": {
                "hash": "6e25223de69fee5703ad0c26aae235f0717de5f7833afcaf5995714c1d7d9212"
            }
        }
    },
    "nbformat": 4,
    "nbformat_minor": 2
}
