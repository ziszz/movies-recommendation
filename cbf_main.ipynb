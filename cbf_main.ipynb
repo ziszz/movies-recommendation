{
    "cells": [
        {
            "cell_type": "code",
            "execution_count": null,
            "metadata": {},
            "outputs": [],
            "source": [
                "import os\n",
                "import glob\n",
                "import pandas as pd\n",
                "import tensorflow as tf\n",
                "from absl import logging\n",
                "from modules import components, pipeline\n",
                "from modules.utils import merge_dataset\n",
                "from tfx.orchestration.beam.beam_dag_runner import BeamDagRunner"
            ]
        },
        {
            "cell_type": "code",
            "execution_count": null,
            "metadata": {},
            "outputs": [],
            "source": [
                "PIPELINE_NAME = \"cbf_pipeline\"\n",
                "\n",
                "# pipeline inputs\n",
                "DATA_ROOT = \"data/merge\"\n",
                "TRANSFORM_MODULE_FILE = \"modules/cbf_transform.py\"\n",
                "TUNER_MODULE_FILE = \"modules/cbf_tuner.py\"\n",
                "TRAINER_MODULE_FILE = \"modules/cbf_trainer.py\"\n",
                "\n",
                "# pipeline outputs\n",
                "OUTPUT_BASE = \"outputs\"\n",
                "\n",
                "serving_model_dir = os.path.join(OUTPUT_BASE, \"serving_model\")\n",
                "pipeline_root = os.path.join(OUTPUT_BASE, PIPELINE_NAME)\n",
                "metadata_path = os.path.join(pipeline_root, \"metadata.sqlite\")\n"
            ]
        },
        {
            "cell_type": "code",
            "execution_count": null,
            "metadata": {},
            "outputs": [],
            "source": [
                "components = components.init_components(\n",
                "    data_dir=DATA_ROOT,\n",
                "    transform_module=TRANSFORM_MODULE_FILE,\n",
                "    tuner_module=TUNER_MODULE_FILE,\n",
                "    trainer_module=TRAINER_MODULE_FILE,\n",
                "    train_steps=1000,\n",
                "    eval_steps=500,\n",
                "    serving_model_dir=os.path.join(\n",
                "        serving_model_dir, \"cbf_model\"),\n",
                "    epochs=10,\n",
                ")\n",
                "\n",
                "pipeline = pipeline.init_pipeline(\n",
                "    pipeline_root=pipeline_root,\n",
                "    pipeline_name=PIPELINE_NAME,\n",
                "    metadata_path=metadata_path,\n",
                "    components=components,\n",
                ")\n",
                "\n",
                "BeamDagRunner().run(pipeline)"
            ]
        }
    ],
    "metadata": {
        "kernelspec": {
            "display_name": "movies-rec",
            "language": "python",
            "name": "python3"
        },
        "language_info": {
            "codemirror_mode": {
                "name": "ipython",
                "version": 3
            },
            "file_extension": ".py",
            "mimetype": "text/x-python",
            "name": "python",
            "nbconvert_exporter": "python",
            "pygments_lexer": "ipython3",
            "version": "3.9.15"
        },
        "orig_nbformat": 4,
        "vscode": {
            "interpreter": {
                "hash": "6e25223de69fee5703ad0c26aae235f0717de5f7833afcaf5995714c1d7d9212"
            }
        }
    },
    "nbformat": 4,
    "nbformat_minor": 2
}
