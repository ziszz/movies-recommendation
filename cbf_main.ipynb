{
    "cells": [
        {
            "cell_type": "code",
            "execution_count": 1,
            "metadata": {},
            "outputs": [
                {
                    "name": "stderr",
                    "output_type": "stream",
                    "text": [
                        "c:\\Users\\zis\\anaconda3\\envs\\movies-rec\\lib\\site-packages\\paramiko\\transport.py:219: CryptographyDeprecationWarning: Blowfish has been deprecated\n",
                        "  \"class\": algorithms.Blowfish,\n"
                    ]
                }
            ],
            "source": [
                "import os\n",
                "import glob\n",
                "import pandas as pd\n",
                "import tensorflow as tf\n",
                "from absl import logging\n",
                "from modules import components, pipeline\n",
                "from modules.utils import merge_dataset\n",
                "from tfx.orchestration.beam.beam_dag_runner import BeamDagRunner"
            ]
        },
        {
            "cell_type": "code",
            "execution_count": 2,
            "metadata": {},
            "outputs": [],
            "source": [
                "PIPELINE_NAME = \"cbf_pipeline\"\n",
                "\n",
                "# pipeline inputs\n",
                "DATA_ROOT = \"data/merge\"\n",
                "TRANSFORM_MODULE_FILE = \"modules/cbf_transform.py\"\n",
                "TUNER_MODULE_FILE = \"modules/cbf_tuner.py\"\n",
                "TRAINER_MODULE_FILE = \"modules/cbf_trainer.py\"\n",
                "\n",
                "# pipeline outputs\n",
                "OUTPUT_BASE = \"outputs\"\n",
                "\n",
                "serving_model_dir = os.path.join(OUTPUT_BASE, \"serving_model\")\n",
                "pipeline_root = os.path.join(OUTPUT_BASE, PIPELINE_NAME)\n",
                "metadata_path = os.path.join(pipeline_root, \"metadata.sqlite\")\n"
            ]
        },
        {
            "cell_type": "code",
            "execution_count": 3,
            "metadata": {},
            "outputs": [
                {
                    "name": "stdout",
                    "output_type": "stream",
                    "text": [
                        "Trial 11 Complete [00h 00m 22s]\n",
                        "multi_objective: 3.331780433654785\n",
                        "\n",
                        "Best multi_objective So Far: 2.6181695461273193\n",
                        "Total elapsed time: 00h 03m 31s\n",
                        "\n",
                        "Search: Running Trial #12\n",
                        "\n",
                        "Value             |Best Value So Far |Hyperparameter\n",
                        "232               |264               |dense_unit1\n",
                        "264               |8                 |dense_unit2\n",
                        "40                |40                |dense_unit3\n",
                        "1e-05             |0.001             |learning_rate\n",
                        "2                 |2                 |tuner/epochs\n",
                        "0                 |0                 |tuner/initial_epoch\n",
                        "2                 |2                 |tuner/bracket\n",
                        "0                 |0                 |tuner/round\n",
                        "\n",
                        "Model: \"model\"\n",
                        "__________________________________________________________________________________________________\n",
                        " Layer (type)                   Output Shape         Param #     Connected to                     \n",
                        "==================================================================================================\n",
                        " genres_xf (InputLayer)         [(None, 1)]          0           []                               \n",
                        "                                                                                                  \n",
                        " title_xf (InputLayer)          [(None, 1)]          0           []                               \n",
                        "                                                                                                  \n",
                        " userid_xf (InputLayer)         [(None, 1)]          0           []                               \n",
                        "                                                                                                  \n",
                        " concatenate (Concatenate)      (None, 2)            0           ['genres_xf[0][0]',              \n",
                        "                                                                  'title_xf[0][0]']               \n",
                        "                                                                                                  \n",
                        " sequential (Sequential)        (None, 40)           72576       ['userid_xf[0][0]']              \n",
                        "                                                                                                  \n",
                        " sequential_1 (Sequential)      (None, 40)           72808       ['concatenate[0][0]']            \n",
                        "                                                                                                  \n",
                        " tf.math.l2_normalize (TFOpLamb  (None, 40)          0           ['sequential[0][0]']             \n",
                        " da)                                                                                              \n",
                        "                                                                                                  \n",
                        " tf.math.l2_normalize_1 (TFOpLa  (None, 40)          0           ['sequential_1[0][0]']           \n",
                        " mbda)                                                                                            \n",
                        "                                                                                                  \n",
                        " dot (Dot)                      (None, 1)            0           ['tf.math.l2_normalize[0][0]',   \n",
                        "                                                                  'tf.math.l2_normalize_1[0][0]'] \n",
                        "                                                                                                  \n",
                        "==================================================================================================\n",
                        "Total params: 145,384\n",
                        "Trainable params: 145,384\n",
                        "Non-trainable params: 0\n",
                        "__________________________________________________________________________________________________\n",
                        "Epoch 1/2\n",
                        "1000/1000 [==============================] - 8s 8ms/step - loss: 10.3299 - root_mean_squared_error: 3.2140 - val_loss: 9.5206 - val_root_mean_squared_error: 3.0855\n",
                        "Epoch 2/2\n",
                        " 600/1000 [=================>............] - ETA: 2s - loss: 9.2394 - root_mean_squared_error: 3.0396"
                    ]
                }
            ],
            "source": [
                "components = components.init_components(\n",
                "    data_dir=DATA_ROOT,\n",
                "    transform_module=TRANSFORM_MODULE_FILE,\n",
                "    tuner_module=TUNER_MODULE_FILE,\n",
                "    trainer_module=TRAINER_MODULE_FILE,\n",
                "    train_steps=1000,\n",
                "    eval_steps=500,\n",
                "    serving_model_dir=os.path.join(\n",
                "        serving_model_dir, \"cbf_model\"),\n",
                "    epochs=10,\n",
                ")\n",
                "\n",
                "pipeline = pipeline.init_pipeline(\n",
                "    pipeline_root=pipeline_root,\n",
                "    pipeline_name=PIPELINE_NAME,\n",
                "    metadata_path=metadata_path,\n",
                "    components=components,\n",
                ")\n",
                "\n",
                "BeamDagRunner().run(pipeline)"
            ]
        }
    ],
    "metadata": {
        "kernelspec": {
            "display_name": "movies-rec",
            "language": "python",
            "name": "python3"
        },
        "language_info": {
            "codemirror_mode": {
                "name": "ipython",
                "version": 3
            },
            "file_extension": ".py",
            "mimetype": "text/x-python",
            "name": "python",
            "nbconvert_exporter": "python",
            "pygments_lexer": "ipython3",
            "version": "3.9.15"
        },
        "orig_nbformat": 4,
        "vscode": {
            "interpreter": {
                "hash": "6e25223de69fee5703ad0c26aae235f0717de5f7833afcaf5995714c1d7d9212"
            }
        }
    },
    "nbformat": 4,
    "nbformat_minor": 2
}
