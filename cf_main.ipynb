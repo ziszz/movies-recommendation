{
    "cells": [
        {
            "cell_type": "code",
            "execution_count": 1,
            "metadata": {},
            "outputs": [
                {
                    "name": "stderr",
                    "output_type": "stream",
                    "text": [
                        "c:\\Users\\zis\\anaconda3\\envs\\movies-rec\\lib\\site-packages\\paramiko\\transport.py:219: CryptographyDeprecationWarning: Blowfish has been deprecated\n",
                        "  \"class\": algorithms.Blowfish,\n"
                    ]
                }
            ],
            "source": [
                "import os\n",
                "import pandas as pd\n",
                "import tensorflow as tf\n",
                "from absl import logging\n",
                "from modules import components, pipeline\n",
                "from tfx.orchestration.beam.beam_dag_runner import BeamDagRunner"
            ]
        },
        {
            "cell_type": "code",
            "execution_count": 2,
            "metadata": {},
            "outputs": [],
            "source": [
                "PIPELINE_NAME = \"cf_pipeline\"\n",
                "\n",
                "# pipeline inputs\n",
                "DATA_ROOT = \"data/ratings\"\n",
                "TRANSFORM_MODULE_FILE = \"modules/cf_transform.py\"\n",
                "TUNER_MODULE_FILE = \"modules/cf_tuner.py\"\n",
                "TRAINER_MODULE_FILE = \"modules/cf_trainer.py\"\n",
                "\n",
                "# pipeline outputs\n",
                "OUTPUT_BASE = \"outputs\"\n",
                "\n",
                "serving_model_dir = os.path.join(OUTPUT_BASE, \"serving_model\")\n",
                "pipeline_root = os.path.join(OUTPUT_BASE, PIPELINE_NAME)\n",
                "metadata_path = os.path.join(pipeline_root, \"metadata.sqlite\")"
            ]
        },
        {
            "cell_type": "code",
            "execution_count": 3,
            "metadata": {},
            "outputs": [
                {
                    "name": "stdout",
                    "output_type": "stream",
                    "text": [
                        "Trial 30 Complete [00h 03m 18s]\n",
                        "multi_objective: 1.8499669432640076\n",
                        "\n",
                        "Best multi_objective So Far: 1.7534093856811523\n",
                        "Total elapsed time: 01h 54m 51s\n",
                        "INFO:tensorflow:Oracle triggered exit\n"
                    ]
                },
                {
                    "name": "stderr",
                    "output_type": "stream",
                    "text": [
                        "INFO:tensorflow:Oracle triggered exit\n"
                    ]
                },
                {
                    "name": "stdout",
                    "output_type": "stream",
                    "text": [
                        "Results summary\n",
                        "Results in outputs\\cf_pipeline\\Tuner\\.system\\executor_execution\\21\\.temp\\21\\kt_hyperband\n",
                        "Showing 10 best trials\n",
                        "<keras_tuner.engine.objective.MultiObjective object at 0x000002400533C3A0>\n",
                        "Trial summary\n",
                        "Hyperparameters:\n",
                        "embedding_dims: 48\n",
                        "l2_regularizers: 1e-05\n",
                        "num_hidden_layers: 2\n",
                        "dense_unit: 168\n",
                        "dropout_rate: 0.6\n",
                        "learning_rate: 0.0001\n",
                        "tuner/epochs: 10\n",
                        "tuner/initial_epoch: 4\n",
                        "tuner/bracket: 2\n",
                        "tuner/round: 2\n",
                        "tuner/trial_id: 0013\n",
                        "Score: 1.7534093856811523\n",
                        "Trial summary\n",
                        "Hyperparameters:\n",
                        "embedding_dims: 752\n",
                        "l2_regularizers: 1e-05\n",
                        "num_hidden_layers: 1\n",
                        "dense_unit: 488\n",
                        "dropout_rate: 0.5\n",
                        "learning_rate: 1e-05\n",
                        "tuner/epochs: 10\n",
                        "tuner/initial_epoch: 0\n",
                        "tuner/bracket: 0\n",
                        "tuner/round: 0\n",
                        "Score: 1.7618640065193176\n",
                        "Trial summary\n",
                        "Hyperparameters:\n",
                        "embedding_dims: 752\n",
                        "l2_regularizers: 1e-05\n",
                        "num_hidden_layers: 1\n",
                        "dense_unit: 40\n",
                        "dropout_rate: 0.5\n",
                        "learning_rate: 0.0001\n",
                        "tuner/epochs: 10\n",
                        "tuner/initial_epoch: 0\n",
                        "tuner/bracket: 0\n",
                        "tuner/round: 0\n",
                        "Score: 1.764075756072998\n",
                        "Trial summary\n",
                        "Hyperparameters:\n",
                        "embedding_dims: 528\n",
                        "l2_regularizers: 1e-05\n",
                        "num_hidden_layers: 3\n",
                        "dense_unit: 136\n",
                        "dropout_rate: 0.1\n",
                        "learning_rate: 0.001\n",
                        "tuner/epochs: 4\n",
                        "tuner/initial_epoch: 0\n",
                        "tuner/bracket: 1\n",
                        "tuner/round: 0\n",
                        "Score: 1.7826284170150757\n",
                        "Trial summary\n",
                        "Hyperparameters:\n",
                        "embedding_dims: 912\n",
                        "l2_regularizers: 1e-05\n",
                        "num_hidden_layers: 2\n",
                        "dense_unit: 296\n",
                        "dropout_rate: 0.5\n",
                        "learning_rate: 0.0001\n",
                        "tuner/epochs: 10\n",
                        "tuner/initial_epoch: 4\n",
                        "tuner/bracket: 2\n",
                        "tuner/round: 2\n",
                        "tuner/trial_id: 0012\n",
                        "Score: 1.787766695022583\n",
                        "Trial summary\n",
                        "Hyperparameters:\n",
                        "embedding_dims: 912\n",
                        "l2_regularizers: 1e-05\n",
                        "num_hidden_layers: 2\n",
                        "dense_unit: 296\n",
                        "dropout_rate: 0.5\n",
                        "learning_rate: 0.0001\n",
                        "tuner/epochs: 2\n",
                        "tuner/initial_epoch: 0\n",
                        "tuner/bracket: 2\n",
                        "tuner/round: 0\n",
                        "Score: 1.7942919731140137\n",
                        "Trial summary\n",
                        "Hyperparameters:\n",
                        "embedding_dims: 912\n",
                        "l2_regularizers: 1e-05\n",
                        "num_hidden_layers: 2\n",
                        "dense_unit: 296\n",
                        "dropout_rate: 0.5\n",
                        "learning_rate: 0.0001\n",
                        "tuner/epochs: 4\n",
                        "tuner/initial_epoch: 2\n",
                        "tuner/bracket: 2\n",
                        "tuner/round: 1\n",
                        "tuner/trial_id: 0005\n",
                        "Score: 1.8139251470565796\n",
                        "Trial summary\n",
                        "Hyperparameters:\n",
                        "embedding_dims: 528\n",
                        "l2_regularizers: 1e-05\n",
                        "num_hidden_layers: 3\n",
                        "dense_unit: 136\n",
                        "dropout_rate: 0.1\n",
                        "learning_rate: 0.001\n",
                        "tuner/epochs: 10\n",
                        "tuner/initial_epoch: 4\n",
                        "tuner/bracket: 1\n",
                        "tuner/round: 1\n",
                        "tuner/trial_id: 0022\n",
                        "Score: 1.8146514296531677\n",
                        "Trial summary\n",
                        "Hyperparameters:\n",
                        "embedding_dims: 464\n",
                        "l2_regularizers: 0.0001\n",
                        "num_hidden_layers: 2\n",
                        "dense_unit: 488\n",
                        "dropout_rate: 0.6\n",
                        "learning_rate: 0.0001\n",
                        "tuner/epochs: 4\n",
                        "tuner/initial_epoch: 0\n",
                        "tuner/bracket: 1\n",
                        "tuner/round: 0\n",
                        "Score: 1.8297751545906067\n",
                        "Trial summary\n",
                        "Hyperparameters:\n",
                        "embedding_dims: 464\n",
                        "l2_regularizers: 0.0001\n",
                        "num_hidden_layers: 2\n",
                        "dense_unit: 488\n",
                        "dropout_rate: 0.6\n",
                        "learning_rate: 0.0001\n",
                        "tuner/epochs: 10\n",
                        "tuner/initial_epoch: 4\n",
                        "tuner/bracket: 1\n",
                        "tuner/round: 1\n",
                        "tuner/trial_id: 0023\n",
                        "Score: 1.8345632553100586\n"
                    ]
                },
                {
                    "name": "stderr",
                    "output_type": "stream",
                    "text": [
                        "WARNING:absl:ArtifactQuery.property_predicate is not supported.\n",
                        "WARNING:absl:ArtifactQuery.property_predicate is not supported.\n",
                        "WARNING:absl:ArtifactQuery.property_predicate is not supported.\n",
                        "WARNING:absl:ArtifactQuery.property_predicate is not supported.\n",
                        "WARNING:absl:Examples artifact does not have payload_format custom property. Falling back to FORMAT_TF_EXAMPLE\n",
                        "WARNING:absl:Examples artifact does not have payload_format custom property. Falling back to FORMAT_TF_EXAMPLE\n",
                        "WARNING:absl:Examples artifact does not have payload_format custom property. Falling back to FORMAT_TF_EXAMPLE\n"
                    ]
                },
                {
                    "name": "stdout",
                    "output_type": "stream",
                    "text": [
                        "Model: \"model_1\"\n",
                        "__________________________________________________________________________________________________\n",
                        " Layer (type)                   Output Shape         Param #     Connected to                     \n",
                        "==================================================================================================\n",
                        " userid_xf (InputLayer)         [(None, 1)]          0           []                               \n",
                        "                                                                                                  \n",
                        " movieid_xf (InputLayer)        [(None, 1)]          0           []                               \n",
                        "                                                                                                  \n",
                        " embedding_2 (Embedding)        (None, 1, 48)        32112       ['userid_xf[0][0]']              \n",
                        "                                                                                                  \n",
                        " embedding_3 (Embedding)        (None, 1, 48)        456912      ['movieid_xf[0][0]']             \n",
                        "                                                                                                  \n",
                        " concatenate_1 (Concatenate)    (None, 1, 96)        0           ['embedding_2[0][0]',            \n",
                        "                                                                  'embedding_3[0][0]']            \n",
                        "                                                                                                  \n",
                        " dense_5 (Dense)                (None, 1, 168)       16296       ['concatenate_1[0][0]']          \n",
                        "                                                                                                  \n",
                        " dense_6 (Dense)                (None, 1, 168)       28392       ['dense_5[0][0]']                \n",
                        "                                                                                                  \n",
                        " dropout_3 (Dropout)            (None, 1, 168)       0           ['dense_6[0][0]']                \n",
                        "                                                                                                  \n",
                        " dense_7 (Dense)                (None, 1, 168)       28392       ['dropout_3[0][0]']              \n",
                        "                                                                                                  \n",
                        " dropout_4 (Dropout)            (None, 1, 168)       0           ['dense_7[0][0]']                \n",
                        "                                                                                                  \n",
                        " dense_8 (Dense)                (None, 1, 1)         169         ['dropout_4[0][0]']              \n",
                        "                                                                                                  \n",
                        "==================================================================================================\n",
                        "Total params: 562,273\n",
                        "Trainable params: 562,273\n",
                        "Non-trainable params: 0\n",
                        "__________________________________________________________________________________________________\n",
                        "Epoch 1/10\n",
                        "1000/1000 [==============================] - 8s 7ms/step - loss: 2.6417 - root_mean_squared_error: 1.6250 - val_loss: 0.9349 - val_root_mean_squared_error: 0.9664\n",
                        "Epoch 2/10\n",
                        "1000/1000 [==============================] - 7s 7ms/step - loss: 1.1474 - root_mean_squared_error: 1.0707 - val_loss: 0.9914 - val_root_mean_squared_error: 0.9952\n",
                        "Epoch 3/10\n",
                        "1000/1000 [==============================] - 7s 7ms/step - loss: 1.0927 - root_mean_squared_error: 1.0448 - val_loss: 0.8535 - val_root_mean_squared_error: 0.9233\n",
                        "Epoch 4/10\n",
                        "1000/1000 [==============================] - 7s 7ms/step - loss: 1.0343 - root_mean_squared_error: 1.0165 - val_loss: 0.8743 - val_root_mean_squared_error: 0.9345\n",
                        "Epoch 5/10\n",
                        "1000/1000 [==============================] - 6s 6ms/step - loss: 1.0132 - root_mean_squared_error: 1.0060 - val_loss: 0.8424 - val_root_mean_squared_error: 0.9172\n",
                        "Epoch 6/10\n",
                        "1000/1000 [==============================] - 6s 6ms/step - loss: 0.9656 - root_mean_squared_error: 0.9821 - val_loss: 0.8413 - val_root_mean_squared_error: 0.9166\n",
                        "Epoch 7/10\n",
                        "1000/1000 [==============================] - 6s 6ms/step - loss: 0.9429 - root_mean_squared_error: 0.9704 - val_loss: 0.8288 - val_root_mean_squared_error: 0.9097\n",
                        "Epoch 8/10\n",
                        "1000/1000 [==============================] - 7s 7ms/step - loss: 0.9117 - root_mean_squared_error: 0.9542 - val_loss: 0.8393 - val_root_mean_squared_error: 0.9154\n",
                        "Epoch 9/10\n",
                        "1000/1000 [==============================] - 7s 7ms/step - loss: 0.8774 - root_mean_squared_error: 0.9360 - val_loss: 0.8334 - val_root_mean_squared_error: 0.9122\n",
                        "Epoch 10/10\n",
                        "1000/1000 [==============================] - 7s 7ms/step - loss: 0.8361 - root_mean_squared_error: 0.9136 - val_loss: 0.8401 - val_root_mean_squared_error: 0.9158\n",
                        "INFO:tensorflow:struct2tensor is not available.\n"
                    ]
                },
                {
                    "name": "stderr",
                    "output_type": "stream",
                    "text": [
                        "INFO:tensorflow:struct2tensor is not available.\n"
                    ]
                },
                {
                    "name": "stdout",
                    "output_type": "stream",
                    "text": [
                        "INFO:tensorflow:tensorflow_decision_forests is not available.\n"
                    ]
                },
                {
                    "name": "stderr",
                    "output_type": "stream",
                    "text": [
                        "INFO:tensorflow:tensorflow_decision_forests is not available.\n"
                    ]
                },
                {
                    "name": "stdout",
                    "output_type": "stream",
                    "text": [
                        "INFO:tensorflow:tensorflow_text is not available.\n"
                    ]
                },
                {
                    "name": "stderr",
                    "output_type": "stream",
                    "text": [
                        "INFO:tensorflow:tensorflow_text is not available.\n"
                    ]
                },
                {
                    "name": "stdout",
                    "output_type": "stream",
                    "text": [
                        "INFO:tensorflow:Assets written to: outputs\\cf_pipeline\\Trainer\\model\\22\\Format-Serving\\assets\n"
                    ]
                },
                {
                    "name": "stderr",
                    "output_type": "stream",
                    "text": [
                        "INFO:tensorflow:Assets written to: outputs\\cf_pipeline\\Trainer\\model\\22\\Format-Serving\\assets\n",
                        "WARNING:absl:ArtifactQuery.property_predicate is not supported.\n",
                        "WARNING:absl:ArtifactQuery.property_predicate is not supported.\n",
                        "WARNING:absl:ArtifactQuery.property_predicate is not supported.\n"
                    ]
                },
                {
                    "name": "stdout",
                    "output_type": "stream",
                    "text": [
                        "WARNING:tensorflow:Inconsistent references when loading the checkpoint into this object graph. For example, in the saved checkpoint object, `model.layer.weight` and `model.layer_copy.weight` reference the same variable, while in the current object these are two different variables. The referenced variables are:(<keras.saving.saved_model.load.TensorFlowTransform>TransformFeaturesLayer object at 0x0000024004D68190> and <keras.engine.input_layer.InputLayer object at 0x0000024009EDC940>).\n"
                    ]
                },
                {
                    "name": "stderr",
                    "output_type": "stream",
                    "text": [
                        "WARNING:tensorflow:Inconsistent references when loading the checkpoint into this object graph. For example, in the saved checkpoint object, `model.layer.weight` and `model.layer_copy.weight` reference the same variable, while in the current object these are two different variables. The referenced variables are:(<keras.saving.saved_model.load.TensorFlowTransform>TransformFeaturesLayer object at 0x0000024004D68190> and <keras.engine.input_layer.InputLayer object at 0x0000024009EDC940>).\n"
                    ]
                },
                {
                    "name": "stdout",
                    "output_type": "stream",
                    "text": [
                        "WARNING:tensorflow:Inconsistent references when loading the checkpoint into this object graph. For example, in the saved checkpoint object, `model.layer.weight` and `model.layer_copy.weight` reference the same variable, while in the current object these are two different variables. The referenced variables are:(<keras.saving.saved_model.load.TensorFlowTransform>TransformFeaturesLayer object at 0x00000240BC6651C0> and <keras.engine.input_layer.InputLayer object at 0x00000240C05FF220>).\n"
                    ]
                },
                {
                    "name": "stderr",
                    "output_type": "stream",
                    "text": [
                        "WARNING:tensorflow:Inconsistent references when loading the checkpoint into this object graph. For example, in the saved checkpoint object, `model.layer.weight` and `model.layer_copy.weight` reference the same variable, while in the current object these are two different variables. The referenced variables are:(<keras.saving.saved_model.load.TensorFlowTransform>TransformFeaturesLayer object at 0x00000240BC6651C0> and <keras.engine.input_layer.InputLayer object at 0x00000240C05FF220>).\n"
                    ]
                },
                {
                    "name": "stdout",
                    "output_type": "stream",
                    "text": [
                        "WARNING:tensorflow:Inconsistent references when loading the checkpoint into this object graph. For example, in the saved checkpoint object, `model.layer.weight` and `model.layer_copy.weight` reference the same variable, while in the current object these are two different variables. The referenced variables are:(<keras.saving.saved_model.load.TensorFlowTransform>TransformFeaturesLayer object at 0x00000240E37B5FD0> and <keras.engine.input_layer.InputLayer object at 0x00000240E18F6AC0>).\n"
                    ]
                },
                {
                    "name": "stderr",
                    "output_type": "stream",
                    "text": [
                        "WARNING:tensorflow:Inconsistent references when loading the checkpoint into this object graph. For example, in the saved checkpoint object, `model.layer.weight` and `model.layer_copy.weight` reference the same variable, while in the current object these are two different variables. The referenced variables are:(<keras.saving.saved_model.load.TensorFlowTransform>TransformFeaturesLayer object at 0x00000240E37B5FD0> and <keras.engine.input_layer.InputLayer object at 0x00000240E18F6AC0>).\n"
                    ]
                },
                {
                    "name": "stdout",
                    "output_type": "stream",
                    "text": [
                        "WARNING:tensorflow:Inconsistent references when loading the checkpoint into this object graph. For example, in the saved checkpoint object, `model.layer.weight` and `model.layer_copy.weight` reference the same variable, while in the current object these are two different variables. The referenced variables are:(<keras.saving.saved_model.load.TensorFlowTransform>TransformFeaturesLayer object at 0x00000240BF9A2C40> and <keras.engine.input_layer.InputLayer object at 0x0000024009E8CC70>).\n"
                    ]
                },
                {
                    "name": "stderr",
                    "output_type": "stream",
                    "text": [
                        "WARNING:tensorflow:Inconsistent references when loading the checkpoint into this object graph. For example, in the saved checkpoint object, `model.layer.weight` and `model.layer_copy.weight` reference the same variable, while in the current object these are two different variables. The referenced variables are:(<keras.saving.saved_model.load.TensorFlowTransform>TransformFeaturesLayer object at 0x00000240BF9A2C40> and <keras.engine.input_layer.InputLayer object at 0x0000024009E8CC70>).\n"
                    ]
                },
                {
                    "name": "stdout",
                    "output_type": "stream",
                    "text": [
                        "WARNING:tensorflow:Inconsistent references when loading the checkpoint into this object graph. For example, in the saved checkpoint object, `model.layer.weight` and `model.layer_copy.weight` reference the same variable, while in the current object these are two different variables. The referenced variables are:(<keras.saving.saved_model.load.TensorFlowTransform>TransformFeaturesLayer object at 0x00000240EE231C40> and <keras.engine.input_layer.InputLayer object at 0x00000240EE1BA190>).\n"
                    ]
                },
                {
                    "name": "stderr",
                    "output_type": "stream",
                    "text": [
                        "WARNING:tensorflow:Inconsistent references when loading the checkpoint into this object graph. For example, in the saved checkpoint object, `model.layer.weight` and `model.layer_copy.weight` reference the same variable, while in the current object these are two different variables. The referenced variables are:(<keras.saving.saved_model.load.TensorFlowTransform>TransformFeaturesLayer object at 0x00000240EE231C40> and <keras.engine.input_layer.InputLayer object at 0x00000240EE1BA190>).\n"
                    ]
                },
                {
                    "name": "stdout",
                    "output_type": "stream",
                    "text": [
                        "WARNING:tensorflow:Inconsistent references when loading the checkpoint into this object graph. For example, in the saved checkpoint object, `model.layer.weight` and `model.layer_copy.weight` reference the same variable, while in the current object these are two different variables. The referenced variables are:(<keras.saving.saved_model.load.TensorFlowTransform>TransformFeaturesLayer object at 0x00000240F57E4AF0> and <keras.engine.input_layer.InputLayer object at 0x00000240F57C4880>).\n"
                    ]
                },
                {
                    "name": "stderr",
                    "output_type": "stream",
                    "text": [
                        "WARNING:tensorflow:Inconsistent references when loading the checkpoint into this object graph. For example, in the saved checkpoint object, `model.layer.weight` and `model.layer_copy.weight` reference the same variable, while in the current object these are two different variables. The referenced variables are:(<keras.saving.saved_model.load.TensorFlowTransform>TransformFeaturesLayer object at 0x00000240F57E4AF0> and <keras.engine.input_layer.InputLayer object at 0x00000240F57C4880>).\n"
                    ]
                },
                {
                    "name": "stdout",
                    "output_type": "stream",
                    "text": [
                        "WARNING:tensorflow:Inconsistent references when loading the checkpoint into this object graph. For example, in the saved checkpoint object, `model.layer.weight` and `model.layer_copy.weight` reference the same variable, while in the current object these are two different variables. The referenced variables are:(<keras.saving.saved_model.load.TensorFlowTransform>TransformFeaturesLayer object at 0x00000240F7CDD910> and <keras.engine.input_layer.InputLayer object at 0x00000240F5D1D6A0>).\n"
                    ]
                },
                {
                    "name": "stderr",
                    "output_type": "stream",
                    "text": [
                        "WARNING:tensorflow:Inconsistent references when loading the checkpoint into this object graph. For example, in the saved checkpoint object, `model.layer.weight` and `model.layer_copy.weight` reference the same variable, while in the current object these are two different variables. The referenced variables are:(<keras.saving.saved_model.load.TensorFlowTransform>TransformFeaturesLayer object at 0x00000240F7CDD910> and <keras.engine.input_layer.InputLayer object at 0x00000240F5D1D6A0>).\n"
                    ]
                },
                {
                    "name": "stdout",
                    "output_type": "stream",
                    "text": [
                        "WARNING:tensorflow:Inconsistent references when loading the checkpoint into this object graph. For example, in the saved checkpoint object, `model.layer.weight` and `model.layer_copy.weight` reference the same variable, while in the current object these are two different variables. The referenced variables are:(<keras.saving.saved_model.load.TensorFlowTransform>TransformFeaturesLayer object at 0x00000240EE204AC0> and <keras.engine.input_layer.InputLayer object at 0x00000240F7CDD7C0>).\n"
                    ]
                },
                {
                    "name": "stderr",
                    "output_type": "stream",
                    "text": [
                        "WARNING:tensorflow:Inconsistent references when loading the checkpoint into this object graph. For example, in the saved checkpoint object, `model.layer.weight` and `model.layer_copy.weight` reference the same variable, while in the current object these are two different variables. The referenced variables are:(<keras.saving.saved_model.load.TensorFlowTransform>TransformFeaturesLayer object at 0x00000240EE204AC0> and <keras.engine.input_layer.InputLayer object at 0x00000240F7CDD7C0>).\n"
                    ]
                },
                {
                    "name": "stdout",
                    "output_type": "stream",
                    "text": [
                        "WARNING:tensorflow:From c:\\Users\\zis\\anaconda3\\envs\\movies-rec\\lib\\site-packages\\tensorflow_model_analysis\\writers\\metrics_plots_and_validations_writer.py:110: tf_record_iterator (from tensorflow.python.lib.io.tf_record) is deprecated and will be removed in a future version.\n",
                        "Instructions for updating:\n",
                        "Use eager execution and: \n",
                        "`tf.data.TFRecordDataset(path)`\n"
                    ]
                },
                {
                    "name": "stderr",
                    "output_type": "stream",
                    "text": [
                        "WARNING:tensorflow:From c:\\Users\\zis\\anaconda3\\envs\\movies-rec\\lib\\site-packages\\tensorflow_model_analysis\\writers\\metrics_plots_and_validations_writer.py:110: tf_record_iterator (from tensorflow.python.lib.io.tf_record) is deprecated and will be removed in a future version.\n",
                        "Instructions for updating:\n",
                        "Use eager execution and: \n",
                        "`tf.data.TFRecordDataset(path)`\n",
                        "WARNING:absl:ArtifactQuery.property_predicate is not supported.\n",
                        "WARNING:absl:ArtifactQuery.property_predicate is not supported.\n"
                    ]
                }
            ],
            "source": [
                "components = components.init_components(\n",
                "    data_dir=DATA_ROOT,\n",
                "    transform_module=TRANSFORM_MODULE_FILE,\n",
                "    tuner_module=TUNER_MODULE_FILE,\n",
                "    trainer_module=TRAINER_MODULE_FILE,\n",
                "    train_steps=1000,\n",
                "    eval_steps=500,\n",
                "    serving_model_dir=os.path.join(\n",
                "        serving_model_dir, \"cf_model\"),\n",
                "    epochs=10,\n",
                ")\n",
                "\n",
                "pipeline = pipeline.init_pipeline(\n",
                "    pipeline_root=pipeline_root,\n",
                "    pipeline_name=PIPELINE_NAME,\n",
                "    metadata_path=metadata_path,\n",
                "    components=components,\n",
                ")\n",
                "\n",
                "BeamDagRunner().run(pipeline)"
            ]
        }
    ],
    "metadata": {
        "kernelspec": {
            "display_name": "movies-rec",
            "language": "python",
            "name": "python3"
        },
        "language_info": {
            "codemirror_mode": {
                "name": "ipython",
                "version": 3
            },
            "file_extension": ".py",
            "mimetype": "text/x-python",
            "name": "python",
            "nbconvert_exporter": "python",
            "pygments_lexer": "ipython3",
            "version": "3.9.15"
        },
        "orig_nbformat": 4,
        "vscode": {
            "interpreter": {
                "hash": "6e25223de69fee5703ad0c26aae235f0717de5f7833afcaf5995714c1d7d9212"
            }
        }
    },
    "nbformat": 4,
    "nbformat_minor": 2
}
