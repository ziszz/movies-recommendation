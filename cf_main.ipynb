{
    "cells": [
        {
            "cell_type": "code",
            "execution_count": 1,
            "metadata": {},
            "outputs": [
                {
                    "name": "stderr",
                    "output_type": "stream",
                    "text": [
                        "c:\\Users\\zis\\anaconda3\\envs\\movies-rec\\lib\\site-packages\\paramiko\\transport.py:219: CryptographyDeprecationWarning: Blowfish has been deprecated\n",
                        "  \"class\": algorithms.Blowfish,\n"
                    ]
                }
            ],
            "source": [
                "import os\n",
                "import pandas as pd\n",
                "import tensorflow as tf\n",
                "from absl import logging\n",
                "from modules import components, pipeline\n",
                "from tfx.orchestration.beam.beam_dag_runner import BeamDagRunner"
            ]
        },
        {
            "cell_type": "code",
            "execution_count": 2,
            "metadata": {},
            "outputs": [],
            "source": [
                "PIPELINE_NAME = \"cf_pipeline\"\n",
                "\n",
                "# pipeline inputs\n",
                "DATA_ROOT = \"data/ratings\"\n",
                "TRANSFORM_MODULE_FILE = \"modules/cf_transform.py\"\n",
                "TUNER_MODULE_FILE = \"modules/cf_tuner.py\"\n",
                "TRAINER_MODULE_FILE = \"modules/cf_trainer.py\"\n",
                "\n",
                "# pipeline outputs\n",
                "OUTPUT_BASE = \"outputs\"\n",
                "\n",
                "serving_model_dir = os.path.join(OUTPUT_BASE, \"serving_model\")\n",
                "pipeline_root = os.path.join(OUTPUT_BASE, PIPELINE_NAME)\n",
                "metadata_path = os.path.join(pipeline_root, \"metadata.sqlite\")"
            ]
        },
        {
            "cell_type": "code",
            "execution_count": 3,
            "metadata": {},
            "outputs": [
                {
                    "data": {
                        "application/javascript": "\n        if (typeof window.interactive_beam_jquery == 'undefined') {\n          var jqueryScript = document.createElement('script');\n          jqueryScript.src = 'https://code.jquery.com/jquery-3.4.1.slim.min.js';\n          jqueryScript.type = 'text/javascript';\n          jqueryScript.onload = function() {\n            var datatableScript = document.createElement('script');\n            datatableScript.src = 'https://cdn.datatables.net/1.10.20/js/jquery.dataTables.min.js';\n            datatableScript.type = 'text/javascript';\n            datatableScript.onload = function() {\n              window.interactive_beam_jquery = jQuery.noConflict(true);\n              window.interactive_beam_jquery(document).ready(function($){\n                \n              });\n            }\n            document.head.appendChild(datatableScript);\n          };\n          document.head.appendChild(jqueryScript);\n        } else {\n          window.interactive_beam_jquery(document).ready(function($){\n            \n          });\n        }"
                    },
                    "metadata": {},
                    "output_type": "display_data"
                },
                {
                    "name": "stderr",
                    "output_type": "stream",
                    "text": [
                        "WARNING:absl:ArtifactQuery.property_predicate is not supported.\n",
                        "WARNING:absl:ArtifactQuery.property_predicate is not supported.\n",
                        "WARNING:absl:ArtifactQuery.property_predicate is not supported.\n",
                        "WARNING:absl:ArtifactQuery.property_predicate is not supported.\n",
                        "WARNING:absl:ArtifactQuery.property_predicate is not supported.\n",
                        "WARNING:absl:ArtifactQuery.property_predicate is not supported.\n"
                    ]
                },
                {
                    "name": "stdout",
                    "output_type": "stream",
                    "text": [
                        "WARNING:tensorflow:From c:\\Users\\zis\\anaconda3\\envs\\movies-rec\\lib\\site-packages\\tensorflow_transform\\tf_utils.py:325: Tensor.experimental_ref (from tensorflow.python.framework.ops) is deprecated and will be removed in a future version.\n",
                        "Instructions for updating:\n",
                        "Use ref() instead.\n"
                    ]
                },
                {
                    "name": "stderr",
                    "output_type": "stream",
                    "text": [
                        "WARNING:tensorflow:From c:\\Users\\zis\\anaconda3\\envs\\movies-rec\\lib\\site-packages\\tensorflow_transform\\tf_utils.py:325: Tensor.experimental_ref (from tensorflow.python.framework.ops) is deprecated and will be removed in a future version.\n",
                        "Instructions for updating:\n",
                        "Use ref() instead.\n",
                        "WARNING:root:This output type hint will be ignored and not used for type-checking purposes. Typically, output type hints for a PTransform are single (or nested) types wrapped by a PCollection, PDone, or None. Got: Tuple[Dict[<class 'str'>, Union[<class 'NoneType'>, <class 'tfx.components.transform.executor._Dataset'>]], Union[<class 'NoneType'>, Dict[<class 'str'>, Dict[<class 'str'>, <class 'apache_beam.pvalue.PCollection'>]]], <class 'int'>] instead.\n",
                        "WARNING:absl:Tables initialized inside a tf.function  will be re-initialized on every invocation of the function. This  re-initialization can have significant impact on performance. Consider lifting  them out of the graph context using  `tf.init_scope`.: compute_and_apply_vocabulary/apply_vocab/text_file_init/InitializeTableFromTextFileV2\n",
                        "WARNING:absl:Tables initialized inside a tf.function  will be re-initialized on every invocation of the function. This  re-initialization can have significant impact on performance. Consider lifting  them out of the graph context using  `tf.init_scope`.: compute_and_apply_vocabulary_1/apply_vocab/text_file_init/InitializeTableFromTextFileV2\n",
                        "WARNING:absl:Tables initialized inside a tf.function  will be re-initialized on every invocation of the function. This  re-initialization can have significant impact on performance. Consider lifting  them out of the graph context using  `tf.init_scope`.: compute_and_apply_vocabulary/apply_vocab/text_file_init/InitializeTableFromTextFileV2\n",
                        "WARNING:absl:Tables initialized inside a tf.function  will be re-initialized on every invocation of the function. This  re-initialization can have significant impact on performance. Consider lifting  them out of the graph context using  `tf.init_scope`.: compute_and_apply_vocabulary_1/apply_vocab/text_file_init/InitializeTableFromTextFileV2\n",
                        "WARNING:root:This output type hint will be ignored and not used for type-checking purposes. Typically, output type hints for a PTransform are single (or nested) types wrapped by a PCollection, PDone, or None. Got: Tuple[Dict[<class 'str'>, Union[<class 'NoneType'>, <class 'tfx.components.transform.executor._Dataset'>]], Union[<class 'NoneType'>, Dict[<class 'str'>, Dict[<class 'str'>, <class 'apache_beam.pvalue.PCollection'>]]], <class 'int'>] instead.\n",
                        "WARNING:root:This input type hint will be ignored and not used for type-checking purposes. Typically, input type hints for a PTransform are single (or nested) types wrapped by a PCollection, or PBegin. Got: Dict[<class 'tensorflow_transform.beam.analyzer_cache.DatasetKey'>, <class 'tensorflow_transform.beam.analyzer_cache.DatasetCache'>] instead.\n",
                        "WARNING:root:This output type hint will be ignored and not used for type-checking purposes. Typically, output type hints for a PTransform are single (or nested) types wrapped by a PCollection, PDone, or None. Got: List[<class 'apache_beam.pvalue.PDone'>] instead.\n",
                        "WARNING:root:This input type hint will be ignored and not used for type-checking purposes. Typically, input type hints for a PTransform are single (or nested) types wrapped by a PCollection, or PBegin. Got: Dict[<class 'tensorflow_transform.beam.analyzer_cache.DatasetKey'>, <class 'tensorflow_transform.beam.analyzer_cache.DatasetCache'>] instead.\n",
                        "WARNING:root:This output type hint will be ignored and not used for type-checking purposes. Typically, output type hints for a PTransform are single (or nested) types wrapped by a PCollection, PDone, or None. Got: List[<class 'apache_beam.pvalue.PDone'>] instead.\n"
                    ]
                },
                {
                    "name": "stdout",
                    "output_type": "stream",
                    "text": [
                        "INFO:tensorflow:Assets written to: outputs\\cf_pipeline\\Transform\\transform_graph\\6\\.temp_path\\tftransform_tmp\\e75c3539a67f48f4ac752f0330725cff\\assets\n"
                    ]
                },
                {
                    "name": "stderr",
                    "output_type": "stream",
                    "text": [
                        "INFO:tensorflow:Assets written to: outputs\\cf_pipeline\\Transform\\transform_graph\\6\\.temp_path\\tftransform_tmp\\e75c3539a67f48f4ac752f0330725cff\\assets\n"
                    ]
                },
                {
                    "name": "stdout",
                    "output_type": "stream",
                    "text": [
                        "INFO:tensorflow:struct2tensor is not available.\n"
                    ]
                },
                {
                    "name": "stderr",
                    "output_type": "stream",
                    "text": [
                        "INFO:tensorflow:struct2tensor is not available.\n"
                    ]
                },
                {
                    "name": "stdout",
                    "output_type": "stream",
                    "text": [
                        "INFO:tensorflow:tensorflow_decision_forests is not available.\n"
                    ]
                },
                {
                    "name": "stderr",
                    "output_type": "stream",
                    "text": [
                        "INFO:tensorflow:tensorflow_decision_forests is not available.\n"
                    ]
                },
                {
                    "name": "stdout",
                    "output_type": "stream",
                    "text": [
                        "INFO:tensorflow:tensorflow_text is not available.\n"
                    ]
                },
                {
                    "name": "stderr",
                    "output_type": "stream",
                    "text": [
                        "INFO:tensorflow:tensorflow_text is not available.\n"
                    ]
                },
                {
                    "name": "stdout",
                    "output_type": "stream",
                    "text": [
                        "INFO:tensorflow:Assets written to: outputs\\cf_pipeline\\Transform\\transform_graph\\6\\.temp_path\\tftransform_tmp\\6589eb1a089c4624906e1461fd5e0383\\assets\n"
                    ]
                },
                {
                    "name": "stderr",
                    "output_type": "stream",
                    "text": [
                        "INFO:tensorflow:Assets written to: outputs\\cf_pipeline\\Transform\\transform_graph\\6\\.temp_path\\tftransform_tmp\\6589eb1a089c4624906e1461fd5e0383\\assets\n"
                    ]
                },
                {
                    "name": "stdout",
                    "output_type": "stream",
                    "text": [
                        "INFO:tensorflow:struct2tensor is not available.\n"
                    ]
                },
                {
                    "name": "stderr",
                    "output_type": "stream",
                    "text": [
                        "INFO:tensorflow:struct2tensor is not available.\n"
                    ]
                },
                {
                    "name": "stdout",
                    "output_type": "stream",
                    "text": [
                        "INFO:tensorflow:tensorflow_decision_forests is not available.\n"
                    ]
                },
                {
                    "name": "stderr",
                    "output_type": "stream",
                    "text": [
                        "INFO:tensorflow:tensorflow_decision_forests is not available.\n"
                    ]
                },
                {
                    "name": "stdout",
                    "output_type": "stream",
                    "text": [
                        "INFO:tensorflow:tensorflow_text is not available.\n"
                    ]
                },
                {
                    "name": "stderr",
                    "output_type": "stream",
                    "text": [
                        "INFO:tensorflow:tensorflow_text is not available.\n"
                    ]
                },
                {
                    "name": "stdout",
                    "output_type": "stream",
                    "text": [
                        "INFO:tensorflow:struct2tensor is not available.\n"
                    ]
                },
                {
                    "name": "stderr",
                    "output_type": "stream",
                    "text": [
                        "INFO:tensorflow:struct2tensor is not available.\n"
                    ]
                },
                {
                    "name": "stdout",
                    "output_type": "stream",
                    "text": [
                        "INFO:tensorflow:tensorflow_decision_forests is not available.\n"
                    ]
                },
                {
                    "name": "stderr",
                    "output_type": "stream",
                    "text": [
                        "INFO:tensorflow:tensorflow_decision_forests is not available.\n"
                    ]
                },
                {
                    "name": "stdout",
                    "output_type": "stream",
                    "text": [
                        "INFO:tensorflow:tensorflow_text is not available.\n"
                    ]
                },
                {
                    "name": "stderr",
                    "output_type": "stream",
                    "text": [
                        "INFO:tensorflow:tensorflow_text is not available.\n",
                        "WARNING:absl:ArtifactQuery.property_predicate is not supported.\n",
                        "WARNING:absl:ArtifactQuery.property_predicate is not supported.\n",
                        "WARNING:absl:ArtifactQuery.property_predicate is not supported.\n",
                        "WARNING:absl:Examples artifact does not have payload_format custom property. Falling back to FORMAT_TF_EXAMPLE\n",
                        "WARNING:absl:Examples artifact does not have payload_format custom property. Falling back to FORMAT_TF_EXAMPLE\n",
                        "WARNING:absl:Examples artifact does not have payload_format custom property. Falling back to FORMAT_TF_EXAMPLE\n",
                        "ERROR:absl:ERROR IN tuner_fn after tuning:\n",
                        "input_fn() got multiple values for argument 'batch_size'\n",
                        "ERROR:absl:Execution 7 failed.\n"
                    ]
                },
                {
                    "ename": "AttributeError",
                    "evalue": "'NoneType' object has no attribute 'tuner' [while running 'Run[Tuner]']",
                    "output_type": "error",
                    "traceback": [
                        "\u001b[1;31m---------------------------------------------------------------------------\u001b[0m",
                        "\u001b[1;31mAttributeError\u001b[0m                            Traceback (most recent call last)",
                        "\u001b[1;32mc:\\Users\\zis\\anaconda3\\envs\\movies-rec\\lib\\site-packages\\apache_beam\\runners\\common.cp39-win_amd64.pyd\u001b[0m in \u001b[0;36mapache_beam.runners.common.DoFnRunner.process\u001b[1;34m()\u001b[0m\n",
                        "\u001b[1;32mc:\\Users\\zis\\anaconda3\\envs\\movies-rec\\lib\\site-packages\\apache_beam\\runners\\common.cp39-win_amd64.pyd\u001b[0m in \u001b[0;36mapache_beam.runners.common.PerWindowInvoker.invoke_process\u001b[1;34m()\u001b[0m\n",
                        "\u001b[1;32mc:\\Users\\zis\\anaconda3\\envs\\movies-rec\\lib\\site-packages\\apache_beam\\runners\\common.cp39-win_amd64.pyd\u001b[0m in \u001b[0;36mapache_beam.runners.common.PerWindowInvoker._invoke_process_per_window\u001b[1;34m()\u001b[0m\n",
                        "\u001b[1;32mc:\\Users\\zis\\anaconda3\\envs\\movies-rec\\lib\\site-packages\\tfx\\orchestration\\beam\\beam_dag_runner.py\u001b[0m in \u001b[0;36mprocess\u001b[1;34m(self, element, *signals)\u001b[0m\n\u001b[0;32m     89\u001b[0m     \u001b[0mlogging\u001b[0m\u001b[1;33m.\u001b[0m\u001b[0minfo\u001b[0m\u001b[1;33m(\u001b[0m\u001b[1;34m'node %s is running.'\u001b[0m\u001b[1;33m,\u001b[0m \u001b[0mself\u001b[0m\u001b[1;33m.\u001b[0m\u001b[0m_node_id\u001b[0m\u001b[1;33m)\u001b[0m\u001b[1;33m\u001b[0m\u001b[1;33m\u001b[0m\u001b[0m\n\u001b[1;32m---> 90\u001b[1;33m     \u001b[0mself\u001b[0m\u001b[1;33m.\u001b[0m\u001b[0m_run_node\u001b[0m\u001b[1;33m(\u001b[0m\u001b[1;33m)\u001b[0m\u001b[1;33m\u001b[0m\u001b[1;33m\u001b[0m\u001b[0m\n\u001b[0m\u001b[0;32m     91\u001b[0m     \u001b[0mlogging\u001b[0m\u001b[1;33m.\u001b[0m\u001b[0minfo\u001b[0m\u001b[1;33m(\u001b[0m\u001b[1;34m'node %s is finished.'\u001b[0m\u001b[1;33m,\u001b[0m \u001b[0mself\u001b[0m\u001b[1;33m.\u001b[0m\u001b[0m_node_id\u001b[0m\u001b[1;33m)\u001b[0m\u001b[1;33m\u001b[0m\u001b[1;33m\u001b[0m\u001b[0m\n",
                        "\u001b[1;32mc:\\Users\\zis\\anaconda3\\envs\\movies-rec\\lib\\site-packages\\tfx\\orchestration\\beam\\beam_dag_runner.py\u001b[0m in \u001b[0;36m_run_node\u001b[1;34m(self)\u001b[0m\n\u001b[0;32m     98\u001b[0m         \u001b[0mpartial_run_utils\u001b[0m\u001b[1;33m.\u001b[0m\u001b[0msnapshot\u001b[0m\u001b[1;33m(\u001b[0m\u001b[0mmlmd_handle\u001b[0m\u001b[1;33m,\u001b[0m \u001b[0mself\u001b[0m\u001b[1;33m.\u001b[0m\u001b[0m_pipeline\u001b[0m\u001b[1;33m)\u001b[0m\u001b[1;33m\u001b[0m\u001b[1;33m\u001b[0m\u001b[0m\n\u001b[1;32m---> 99\u001b[1;33m     launcher.Launcher(\n\u001b[0m\u001b[0;32m    100\u001b[0m         \u001b[0mpipeline_node\u001b[0m\u001b[1;33m=\u001b[0m\u001b[0mself\u001b[0m\u001b[1;33m.\u001b[0m\u001b[0m_pipeline_node\u001b[0m\u001b[1;33m,\u001b[0m\u001b[1;33m\u001b[0m\u001b[1;33m\u001b[0m\u001b[0m\n",
                        "\u001b[1;32mc:\\Users\\zis\\anaconda3\\envs\\movies-rec\\lib\\site-packages\\tfx\\orchestration\\portable\\launcher.py\u001b[0m in \u001b[0;36mlaunch\u001b[1;34m(self)\u001b[0m\n\u001b[0;32m    572\u001b[0m           \u001b[0mexecutor_watcher\u001b[0m\u001b[1;33m.\u001b[0m\u001b[0mstart\u001b[0m\u001b[1;33m(\u001b[0m\u001b[1;33m)\u001b[0m\u001b[1;33m\u001b[0m\u001b[1;33m\u001b[0m\u001b[0m\n\u001b[1;32m--> 573\u001b[1;33m         \u001b[0mexecutor_output\u001b[0m \u001b[1;33m=\u001b[0m \u001b[0mself\u001b[0m\u001b[1;33m.\u001b[0m\u001b[0m_run_executor\u001b[0m\u001b[1;33m(\u001b[0m\u001b[0mexecution_info\u001b[0m\u001b[1;33m)\u001b[0m\u001b[1;33m\u001b[0m\u001b[1;33m\u001b[0m\u001b[0m\n\u001b[0m\u001b[0;32m    574\u001b[0m       \u001b[1;32mexcept\u001b[0m \u001b[0mException\u001b[0m \u001b[1;32mas\u001b[0m \u001b[0me\u001b[0m\u001b[1;33m:\u001b[0m  \u001b[1;31m# pylint: disable=broad-except\u001b[0m\u001b[1;33m\u001b[0m\u001b[1;33m\u001b[0m\u001b[0m\n",
                        "\u001b[1;32mc:\\Users\\zis\\anaconda3\\envs\\movies-rec\\lib\\site-packages\\tfx\\orchestration\\portable\\launcher.py\u001b[0m in \u001b[0;36m_run_executor\u001b[1;34m(self, execution_info)\u001b[0m\n\u001b[0;32m    447\u001b[0m     \u001b[1;32mtry\u001b[0m\u001b[1;33m:\u001b[0m\u001b[1;33m\u001b[0m\u001b[1;33m\u001b[0m\u001b[0m\n\u001b[1;32m--> 448\u001b[1;33m       \u001b[0mexecutor_output\u001b[0m \u001b[1;33m=\u001b[0m \u001b[0mself\u001b[0m\u001b[1;33m.\u001b[0m\u001b[0m_executor_operator\u001b[0m\u001b[1;33m.\u001b[0m\u001b[0mrun_executor\u001b[0m\u001b[1;33m(\u001b[0m\u001b[0mexecution_info\u001b[0m\u001b[1;33m)\u001b[0m\u001b[1;33m\u001b[0m\u001b[1;33m\u001b[0m\u001b[0m\n\u001b[0m\u001b[0;32m    449\u001b[0m       \u001b[0mcode\u001b[0m \u001b[1;33m=\u001b[0m \u001b[0mexecutor_output\u001b[0m\u001b[1;33m.\u001b[0m\u001b[0mexecution_result\u001b[0m\u001b[1;33m.\u001b[0m\u001b[0mcode\u001b[0m\u001b[1;33m\u001b[0m\u001b[1;33m\u001b[0m\u001b[0m\n",
                        "\u001b[1;32mc:\\Users\\zis\\anaconda3\\envs\\movies-rec\\lib\\site-packages\\tfx\\orchestration\\portable\\python_executor_operator.py\u001b[0m in \u001b[0;36mrun_executor\u001b[1;34m(self, execution_info)\u001b[0m\n\u001b[0;32m    134\u001b[0m     \u001b[0mexecutor\u001b[0m \u001b[1;33m=\u001b[0m \u001b[0mself\u001b[0m\u001b[1;33m.\u001b[0m\u001b[0m_executor_cls\u001b[0m\u001b[1;33m(\u001b[0m\u001b[0mcontext\u001b[0m\u001b[1;33m=\u001b[0m\u001b[0mcontext\u001b[0m\u001b[1;33m)\u001b[0m\u001b[1;33m\u001b[0m\u001b[1;33m\u001b[0m\u001b[0m\n\u001b[1;32m--> 135\u001b[1;33m     \u001b[1;32mreturn\u001b[0m \u001b[0mrun_with_executor\u001b[0m\u001b[1;33m(\u001b[0m\u001b[0mexecution_info\u001b[0m\u001b[1;33m,\u001b[0m \u001b[0mexecutor\u001b[0m\u001b[1;33m)\u001b[0m\u001b[1;33m\u001b[0m\u001b[1;33m\u001b[0m\u001b[0m\n\u001b[0m",
                        "\u001b[1;32mc:\\Users\\zis\\anaconda3\\envs\\movies-rec\\lib\\site-packages\\tfx\\orchestration\\portable\\python_executor_operator.py\u001b[0m in \u001b[0;36mrun_with_executor\u001b[1;34m(execution_info, executor)\u001b[0m\n\u001b[0;32m     57\u001b[0m   \u001b[0moutput_dict\u001b[0m \u001b[1;33m=\u001b[0m \u001b[0mcopy\u001b[0m\u001b[1;33m.\u001b[0m\u001b[0mdeepcopy\u001b[0m\u001b[1;33m(\u001b[0m\u001b[0mexecution_info\u001b[0m\u001b[1;33m.\u001b[0m\u001b[0moutput_dict\u001b[0m\u001b[1;33m)\u001b[0m\u001b[1;33m\u001b[0m\u001b[1;33m\u001b[0m\u001b[0m\n\u001b[1;32m---> 58\u001b[1;33m   result = executor.Do(execution_info.input_dict, output_dict,\n\u001b[0m\u001b[0;32m     59\u001b[0m                        execution_info.exec_properties)\n",
                        "\u001b[1;32mc:\\Users\\zis\\anaconda3\\envs\\movies-rec\\lib\\site-packages\\tfx\\components\\tuner\\executor.py\u001b[0m in \u001b[0;36mDo\u001b[1;34m(self, input_dict, output_dict, exec_properties)\u001b[0m\n\u001b[0;32m    121\u001b[0m \u001b[1;33m\u001b[0m\u001b[0m\n\u001b[1;32m--> 122\u001b[1;33m     \u001b[0mtuner\u001b[0m \u001b[1;33m=\u001b[0m \u001b[0msearch\u001b[0m\u001b[1;33m(\u001b[0m\u001b[0minput_dict\u001b[0m\u001b[1;33m,\u001b[0m \u001b[0mexec_properties\u001b[0m\u001b[1;33m,\u001b[0m \u001b[0mself\u001b[0m\u001b[1;33m.\u001b[0m\u001b[0m_get_tmp_dir\u001b[0m\u001b[1;33m(\u001b[0m\u001b[1;33m)\u001b[0m\u001b[1;33m)\u001b[0m\u001b[1;33m\u001b[0m\u001b[1;33m\u001b[0m\u001b[0m\n\u001b[0m\u001b[0;32m    123\u001b[0m \u001b[1;33m\u001b[0m\u001b[0m\n",
                        "\u001b[1;32mc:\\Users\\zis\\anaconda3\\envs\\movies-rec\\lib\\site-packages\\tfx\\components\\tuner\\executor.py\u001b[0m in \u001b[0;36msearch\u001b[1;34m(input_dict, exec_properties, working_dir)\u001b[0m\n\u001b[0;32m    100\u001b[0m   \u001b[0mtuner_fn_result\u001b[0m \u001b[1;33m=\u001b[0m \u001b[0mtuner_fn\u001b[0m\u001b[1;33m(\u001b[0m\u001b[0mfn_args\u001b[0m\u001b[1;33m)\u001b[0m\u001b[1;33m\u001b[0m\u001b[1;33m\u001b[0m\u001b[0m\n\u001b[1;32m--> 101\u001b[1;33m   \u001b[0mresult\u001b[0m \u001b[1;33m=\u001b[0m \u001b[0mtuner_fn_result\u001b[0m\u001b[1;33m.\u001b[0m\u001b[0mtuner\u001b[0m\u001b[1;33m\u001b[0m\u001b[1;33m\u001b[0m\u001b[0m\n\u001b[0m\u001b[0;32m    102\u001b[0m \u001b[1;33m\u001b[0m\u001b[0m\n",
                        "\u001b[1;31mAttributeError\u001b[0m: 'NoneType' object has no attribute 'tuner'",
                        "\nDuring handling of the above exception, another exception occurred:\n",
                        "\u001b[1;31mAttributeError\u001b[0m                            Traceback (most recent call last)",
                        "\u001b[1;32m~\\AppData\\Local\\Temp\\ipykernel_22324\\265514840.py\u001b[0m in \u001b[0;36m<cell line: 20>\u001b[1;34m()\u001b[0m\n\u001b[0;32m     18\u001b[0m )\n\u001b[0;32m     19\u001b[0m \u001b[1;33m\u001b[0m\u001b[0m\n\u001b[1;32m---> 20\u001b[1;33m \u001b[0mBeamDagRunner\u001b[0m\u001b[1;33m(\u001b[0m\u001b[1;33m)\u001b[0m\u001b[1;33m.\u001b[0m\u001b[0mrun\u001b[0m\u001b[1;33m(\u001b[0m\u001b[0mpipeline\u001b[0m\u001b[1;33m)\u001b[0m\u001b[1;33m\u001b[0m\u001b[1;33m\u001b[0m\u001b[0m\n\u001b[0m",
                        "\u001b[1;32mc:\\Users\\zis\\anaconda3\\envs\\movies-rec\\lib\\site-packages\\tfx\\orchestration\\portable\\tfx_runner.py\u001b[0m in \u001b[0;36mrun\u001b[1;34m(self, pipeline, run_options, **kwargs)\u001b[0m\n\u001b[0;32m    122\u001b[0m     \u001b[1;32melse\u001b[0m\u001b[1;33m:\u001b[0m\u001b[1;33m\u001b[0m\u001b[1;33m\u001b[0m\u001b[0m\n\u001b[0;32m    123\u001b[0m       \u001b[0mrun_options_pb\u001b[0m \u001b[1;33m=\u001b[0m \u001b[1;32mNone\u001b[0m\u001b[1;33m\u001b[0m\u001b[1;33m\u001b[0m\u001b[0m\n\u001b[1;32m--> 124\u001b[1;33m     \u001b[1;32mreturn\u001b[0m \u001b[0mself\u001b[0m\u001b[1;33m.\u001b[0m\u001b[0mrun_with_ir\u001b[0m\u001b[1;33m(\u001b[0m\u001b[0mpipeline_pb\u001b[0m\u001b[1;33m,\u001b[0m \u001b[0mrun_options\u001b[0m\u001b[1;33m=\u001b[0m\u001b[0mrun_options_pb\u001b[0m\u001b[1;33m,\u001b[0m \u001b[1;33m**\u001b[0m\u001b[0mkwargs\u001b[0m\u001b[1;33m)\u001b[0m\u001b[1;33m\u001b[0m\u001b[1;33m\u001b[0m\u001b[0m\n\u001b[0m",
                        "\u001b[1;32mc:\\Users\\zis\\anaconda3\\envs\\movies-rec\\lib\\site-packages\\tfx\\orchestration\\beam\\beam_dag_runner.py\u001b[0m in \u001b[0;36mrun_with_ir\u001b[1;34m(self, pipeline, run_options)\u001b[0m\n\u001b[0;32m    295\u001b[0m                       pipeline=pipeline),\n\u001b[0;32m    296\u001b[0m                   *[beam.pvalue.AsIter(s) for s in signals_to_wait]))\n\u001b[1;32m--> 297\u001b[1;33m           \u001b[0mlogging\u001b[0m\u001b[1;33m.\u001b[0m\u001b[0minfo\u001b[0m\u001b[1;33m(\u001b[0m\u001b[1;34m'Node %s is scheduled.'\u001b[0m\u001b[1;33m,\u001b[0m \u001b[0mnode_id\u001b[0m\u001b[1;33m)\u001b[0m\u001b[1;33m\u001b[0m\u001b[1;33m\u001b[0m\u001b[0m\n\u001b[0m",
                        "\u001b[1;32mc:\\Users\\zis\\anaconda3\\envs\\movies-rec\\lib\\site-packages\\apache_beam\\pipeline.py\u001b[0m in \u001b[0;36m__exit__\u001b[1;34m(self, exc_type, exc_val, exc_tb)\u001b[0m\n\u001b[0;32m    595\u001b[0m     \u001b[1;32mtry\u001b[0m\u001b[1;33m:\u001b[0m\u001b[1;33m\u001b[0m\u001b[1;33m\u001b[0m\u001b[0m\n\u001b[0;32m    596\u001b[0m       \u001b[1;32mif\u001b[0m \u001b[1;32mnot\u001b[0m \u001b[0mexc_type\u001b[0m\u001b[1;33m:\u001b[0m\u001b[1;33m\u001b[0m\u001b[1;33m\u001b[0m\u001b[0m\n\u001b[1;32m--> 597\u001b[1;33m         \u001b[0mself\u001b[0m\u001b[1;33m.\u001b[0m\u001b[0mresult\u001b[0m \u001b[1;33m=\u001b[0m \u001b[0mself\u001b[0m\u001b[1;33m.\u001b[0m\u001b[0mrun\u001b[0m\u001b[1;33m(\u001b[0m\u001b[1;33m)\u001b[0m\u001b[1;33m\u001b[0m\u001b[1;33m\u001b[0m\u001b[0m\n\u001b[0m\u001b[0;32m    598\u001b[0m         \u001b[0mself\u001b[0m\u001b[1;33m.\u001b[0m\u001b[0mresult\u001b[0m\u001b[1;33m.\u001b[0m\u001b[0mwait_until_finish\u001b[0m\u001b[1;33m(\u001b[0m\u001b[1;33m)\u001b[0m\u001b[1;33m\u001b[0m\u001b[1;33m\u001b[0m\u001b[0m\n\u001b[0;32m    599\u001b[0m     \u001b[1;32mfinally\u001b[0m\u001b[1;33m:\u001b[0m\u001b[1;33m\u001b[0m\u001b[1;33m\u001b[0m\u001b[0m\n",
                        "\u001b[1;32mc:\\Users\\zis\\anaconda3\\envs\\movies-rec\\lib\\site-packages\\apache_beam\\pipeline.py\u001b[0m in \u001b[0;36mrun\u001b[1;34m(self, test_runner_api)\u001b[0m\n\u001b[0;32m    572\u001b[0m         \u001b[1;32mfinally\u001b[0m\u001b[1;33m:\u001b[0m\u001b[1;33m\u001b[0m\u001b[1;33m\u001b[0m\u001b[0m\n\u001b[0;32m    573\u001b[0m           \u001b[0mshutil\u001b[0m\u001b[1;33m.\u001b[0m\u001b[0mrmtree\u001b[0m\u001b[1;33m(\u001b[0m\u001b[0mtmpdir\u001b[0m\u001b[1;33m)\u001b[0m\u001b[1;33m\u001b[0m\u001b[1;33m\u001b[0m\u001b[0m\n\u001b[1;32m--> 574\u001b[1;33m       \u001b[1;32mreturn\u001b[0m \u001b[0mself\u001b[0m\u001b[1;33m.\u001b[0m\u001b[0mrunner\u001b[0m\u001b[1;33m.\u001b[0m\u001b[0mrun_pipeline\u001b[0m\u001b[1;33m(\u001b[0m\u001b[0mself\u001b[0m\u001b[1;33m,\u001b[0m \u001b[0mself\u001b[0m\u001b[1;33m.\u001b[0m\u001b[0m_options\u001b[0m\u001b[1;33m)\u001b[0m\u001b[1;33m\u001b[0m\u001b[1;33m\u001b[0m\u001b[0m\n\u001b[0m\u001b[0;32m    575\u001b[0m     \u001b[1;32mfinally\u001b[0m\u001b[1;33m:\u001b[0m\u001b[1;33m\u001b[0m\u001b[1;33m\u001b[0m\u001b[0m\n\u001b[0;32m    576\u001b[0m       \u001b[1;32mif\u001b[0m \u001b[1;32mnot\u001b[0m \u001b[0mis_in_ipython\u001b[0m\u001b[1;33m(\u001b[0m\u001b[1;33m)\u001b[0m\u001b[1;33m:\u001b[0m\u001b[1;33m\u001b[0m\u001b[1;33m\u001b[0m\u001b[0m\n",
                        "\u001b[1;32mc:\\Users\\zis\\anaconda3\\envs\\movies-rec\\lib\\site-packages\\apache_beam\\runners\\direct\\direct_runner.py\u001b[0m in \u001b[0;36mrun_pipeline\u001b[1;34m(self, pipeline, options)\u001b[0m\n\u001b[0;32m    129\u001b[0m       \u001b[0mrunner\u001b[0m \u001b[1;33m=\u001b[0m \u001b[0mBundleBasedDirectRunner\u001b[0m\u001b[1;33m(\u001b[0m\u001b[1;33m)\u001b[0m\u001b[1;33m\u001b[0m\u001b[1;33m\u001b[0m\u001b[0m\n\u001b[0;32m    130\u001b[0m \u001b[1;33m\u001b[0m\u001b[0m\n\u001b[1;32m--> 131\u001b[1;33m     \u001b[1;32mreturn\u001b[0m \u001b[0mrunner\u001b[0m\u001b[1;33m.\u001b[0m\u001b[0mrun_pipeline\u001b[0m\u001b[1;33m(\u001b[0m\u001b[0mpipeline\u001b[0m\u001b[1;33m,\u001b[0m \u001b[0moptions\u001b[0m\u001b[1;33m)\u001b[0m\u001b[1;33m\u001b[0m\u001b[1;33m\u001b[0m\u001b[0m\n\u001b[0m\u001b[0;32m    132\u001b[0m \u001b[1;33m\u001b[0m\u001b[0m\n\u001b[0;32m    133\u001b[0m \u001b[1;33m\u001b[0m\u001b[0m\n",
                        "\u001b[1;32mc:\\Users\\zis\\anaconda3\\envs\\movies-rec\\lib\\site-packages\\apache_beam\\runners\\portability\\fn_api_runner\\fn_runner.py\u001b[0m in \u001b[0;36mrun_pipeline\u001b[1;34m(self, pipeline, options)\u001b[0m\n\u001b[0;32m    197\u001b[0m         options.view_as(pipeline_options.ProfilingOptions))\n\u001b[0;32m    198\u001b[0m \u001b[1;33m\u001b[0m\u001b[0m\n\u001b[1;32m--> 199\u001b[1;33m     self._latest_run_result = self.run_via_runner_api(\n\u001b[0m\u001b[0;32m    200\u001b[0m         \u001b[0mpipeline\u001b[0m\u001b[1;33m.\u001b[0m\u001b[0mto_runner_api\u001b[0m\u001b[1;33m(\u001b[0m\u001b[0mdefault_environment\u001b[0m\u001b[1;33m=\u001b[0m\u001b[0mself\u001b[0m\u001b[1;33m.\u001b[0m\u001b[0m_default_environment\u001b[0m\u001b[1;33m)\u001b[0m\u001b[1;33m,\u001b[0m\u001b[1;33m\u001b[0m\u001b[1;33m\u001b[0m\u001b[0m\n\u001b[0;32m    201\u001b[0m         options)\n",
                        "\u001b[1;32mc:\\Users\\zis\\anaconda3\\envs\\movies-rec\\lib\\site-packages\\apache_beam\\runners\\portability\\fn_api_runner\\fn_runner.py\u001b[0m in \u001b[0;36mrun_via_runner_api\u001b[1;34m(self, pipeline_proto, options)\u001b[0m\n\u001b[0;32m    210\u001b[0m       \u001b[0mpipeline_proto\u001b[0m \u001b[1;33m=\u001b[0m \u001b[0mself\u001b[0m\u001b[1;33m.\u001b[0m\u001b[0membed_default_docker_image\u001b[0m\u001b[1;33m(\u001b[0m\u001b[0mpipeline_proto\u001b[0m\u001b[1;33m)\u001b[0m\u001b[1;33m\u001b[0m\u001b[1;33m\u001b[0m\u001b[0m\n\u001b[0;32m    211\u001b[0m     \u001b[0mstage_context\u001b[0m\u001b[1;33m,\u001b[0m \u001b[0mstages\u001b[0m \u001b[1;33m=\u001b[0m \u001b[0mself\u001b[0m\u001b[1;33m.\u001b[0m\u001b[0mcreate_stages\u001b[0m\u001b[1;33m(\u001b[0m\u001b[0mpipeline_proto\u001b[0m\u001b[1;33m)\u001b[0m\u001b[1;33m\u001b[0m\u001b[1;33m\u001b[0m\u001b[0m\n\u001b[1;32m--> 212\u001b[1;33m     \u001b[1;32mreturn\u001b[0m \u001b[0mself\u001b[0m\u001b[1;33m.\u001b[0m\u001b[0mrun_stages\u001b[0m\u001b[1;33m(\u001b[0m\u001b[0mstage_context\u001b[0m\u001b[1;33m,\u001b[0m \u001b[0mstages\u001b[0m\u001b[1;33m)\u001b[0m\u001b[1;33m\u001b[0m\u001b[1;33m\u001b[0m\u001b[0m\n\u001b[0m\u001b[0;32m    213\u001b[0m \u001b[1;33m\u001b[0m\u001b[0m\n\u001b[0;32m    214\u001b[0m   \u001b[1;32mdef\u001b[0m \u001b[0membed_default_docker_image\u001b[0m\u001b[1;33m(\u001b[0m\u001b[0mself\u001b[0m\u001b[1;33m,\u001b[0m \u001b[0mpipeline_proto\u001b[0m\u001b[1;33m)\u001b[0m\u001b[1;33m:\u001b[0m\u001b[1;33m\u001b[0m\u001b[1;33m\u001b[0m\u001b[0m\n",
                        "\u001b[1;32mc:\\Users\\zis\\anaconda3\\envs\\movies-rec\\lib\\site-packages\\apache_beam\\runners\\portability\\fn_api_runner\\fn_runner.py\u001b[0m in \u001b[0;36mrun_stages\u001b[1;34m(self, stage_context, stages)\u001b[0m\n\u001b[0;32m    440\u001b[0m \u001b[1;33m\u001b[0m\u001b[0m\n\u001b[0;32m    441\u001b[0m           \u001b[0mbundle_counter\u001b[0m \u001b[1;33m+=\u001b[0m \u001b[1;36m1\u001b[0m\u001b[1;33m\u001b[0m\u001b[1;33m\u001b[0m\u001b[0m\n\u001b[1;32m--> 442\u001b[1;33m           bundle_results = self._execute_bundle(\n\u001b[0m\u001b[0;32m    443\u001b[0m               runner_execution_context, bundle_context_manager, bundle_input)\n\u001b[0;32m    444\u001b[0m \u001b[1;33m\u001b[0m\u001b[0m\n",
                        "\u001b[1;32mc:\\Users\\zis\\anaconda3\\envs\\movies-rec\\lib\\site-packages\\apache_beam\\runners\\portability\\fn_api_runner\\fn_runner.py\u001b[0m in \u001b[0;36m_execute_bundle\u001b[1;34m(self, runner_execution_context, bundle_context_manager, bundle_input)\u001b[0m\n\u001b[0;32m    768\u001b[0m \u001b[1;33m\u001b[0m\u001b[0m\n\u001b[0;32m    769\u001b[0m     last_result, deferred_inputs, newly_set_timers, watermark_updates = (\n\u001b[1;32m--> 770\u001b[1;33m         self._run_bundle(\n\u001b[0m\u001b[0;32m    771\u001b[0m             \u001b[0mrunner_execution_context\u001b[0m\u001b[1;33m,\u001b[0m\u001b[1;33m\u001b[0m\u001b[1;33m\u001b[0m\u001b[0m\n\u001b[0;32m    772\u001b[0m             \u001b[0mbundle_context_manager\u001b[0m\u001b[1;33m,\u001b[0m\u001b[1;33m\u001b[0m\u001b[1;33m\u001b[0m\u001b[0m\n",
                        "\u001b[1;32mc:\\Users\\zis\\anaconda3\\envs\\movies-rec\\lib\\site-packages\\apache_beam\\runners\\portability\\fn_api_runner\\fn_runner.py\u001b[0m in \u001b[0;36m_run_bundle\u001b[1;34m(self, runner_execution_context, bundle_context_manager, bundle_input, data_output, expected_timer_output, bundle_manager)\u001b[0m\n\u001b[0;32m    997\u001b[0m         expected_timer_output)\n\u001b[0;32m    998\u001b[0m \u001b[1;33m\u001b[0m\u001b[0m\n\u001b[1;32m--> 999\u001b[1;33m     result, splits = bundle_manager.process_bundle(\n\u001b[0m\u001b[0;32m   1000\u001b[0m         data_input, data_output, input_timers, expected_timer_output)\n\u001b[0;32m   1001\u001b[0m     \u001b[1;31m# Now we collect all the deferred inputs remaining from bundle execution.\u001b[0m\u001b[1;33m\u001b[0m\u001b[1;33m\u001b[0m\u001b[0m\n",
                        "\u001b[1;32mc:\\Users\\zis\\anaconda3\\envs\\movies-rec\\lib\\site-packages\\apache_beam\\runners\\portability\\fn_api_runner\\fn_runner.py\u001b[0m in \u001b[0;36mprocess_bundle\u001b[1;34m(self, inputs, expected_outputs, fired_timers, expected_output_timers, dry_run)\u001b[0m\n\u001b[0;32m   1307\u001b[0m             \u001b[0mprocess_bundle_descriptor\u001b[0m\u001b[1;33m.\u001b[0m\u001b[0mid\u001b[0m\u001b[1;33m,\u001b[0m\u001b[1;33m\u001b[0m\u001b[1;33m\u001b[0m\u001b[0m\n\u001b[0;32m   1308\u001b[0m             cache_tokens=[next(self._cache_token_generator)]))\n\u001b[1;32m-> 1309\u001b[1;33m     \u001b[0mresult_future\u001b[0m \u001b[1;33m=\u001b[0m \u001b[0mself\u001b[0m\u001b[1;33m.\u001b[0m\u001b[0m_worker_handler\u001b[0m\u001b[1;33m.\u001b[0m\u001b[0mcontrol_conn\u001b[0m\u001b[1;33m.\u001b[0m\u001b[0mpush\u001b[0m\u001b[1;33m(\u001b[0m\u001b[0mprocess_bundle_req\u001b[0m\u001b[1;33m)\u001b[0m\u001b[1;33m\u001b[0m\u001b[1;33m\u001b[0m\u001b[0m\n\u001b[0m\u001b[0;32m   1310\u001b[0m \u001b[1;33m\u001b[0m\u001b[0m\n\u001b[0;32m   1311\u001b[0m     \u001b[0msplit_results\u001b[0m \u001b[1;33m=\u001b[0m \u001b[1;33m[\u001b[0m\u001b[1;33m]\u001b[0m  \u001b[1;31m# type: List[beam_fn_api_pb2.ProcessBundleSplitResponse]\u001b[0m\u001b[1;33m\u001b[0m\u001b[1;33m\u001b[0m\u001b[0m\n",
                        "\u001b[1;32mc:\\Users\\zis\\anaconda3\\envs\\movies-rec\\lib\\site-packages\\apache_beam\\runners\\portability\\fn_api_runner\\worker_handlers.py\u001b[0m in \u001b[0;36mpush\u001b[1;34m(self, request)\u001b[0m\n\u001b[0;32m    377\u001b[0m       \u001b[0mself\u001b[0m\u001b[1;33m.\u001b[0m\u001b[0m_uid_counter\u001b[0m \u001b[1;33m+=\u001b[0m \u001b[1;36m1\u001b[0m\u001b[1;33m\u001b[0m\u001b[1;33m\u001b[0m\u001b[0m\n\u001b[0;32m    378\u001b[0m       \u001b[0mrequest\u001b[0m\u001b[1;33m.\u001b[0m\u001b[0minstruction_id\u001b[0m \u001b[1;33m=\u001b[0m \u001b[1;34m'control_%s'\u001b[0m \u001b[1;33m%\u001b[0m \u001b[0mself\u001b[0m\u001b[1;33m.\u001b[0m\u001b[0m_uid_counter\u001b[0m\u001b[1;33m\u001b[0m\u001b[1;33m\u001b[0m\u001b[0m\n\u001b[1;32m--> 379\u001b[1;33m     \u001b[0mresponse\u001b[0m \u001b[1;33m=\u001b[0m \u001b[0mself\u001b[0m\u001b[1;33m.\u001b[0m\u001b[0mworker\u001b[0m\u001b[1;33m.\u001b[0m\u001b[0mdo_instruction\u001b[0m\u001b[1;33m(\u001b[0m\u001b[0mrequest\u001b[0m\u001b[1;33m)\u001b[0m\u001b[1;33m\u001b[0m\u001b[1;33m\u001b[0m\u001b[0m\n\u001b[0m\u001b[0;32m    380\u001b[0m     \u001b[1;32mreturn\u001b[0m \u001b[0mControlFuture\u001b[0m\u001b[1;33m(\u001b[0m\u001b[0mrequest\u001b[0m\u001b[1;33m.\u001b[0m\u001b[0minstruction_id\u001b[0m\u001b[1;33m,\u001b[0m \u001b[0mresponse\u001b[0m\u001b[1;33m)\u001b[0m\u001b[1;33m\u001b[0m\u001b[1;33m\u001b[0m\u001b[0m\n\u001b[0;32m    381\u001b[0m \u001b[1;33m\u001b[0m\u001b[0m\n",
                        "\u001b[1;32mc:\\Users\\zis\\anaconda3\\envs\\movies-rec\\lib\\site-packages\\apache_beam\\runners\\worker\\sdk_worker.py\u001b[0m in \u001b[0;36mdo_instruction\u001b[1;34m(self, request)\u001b[0m\n\u001b[0;32m    594\u001b[0m     \u001b[1;32mif\u001b[0m \u001b[0mrequest_type\u001b[0m\u001b[1;33m:\u001b[0m\u001b[1;33m\u001b[0m\u001b[1;33m\u001b[0m\u001b[0m\n\u001b[0;32m    595\u001b[0m       \u001b[1;31m# E.g. if register is set, this will call self.register(request.register))\u001b[0m\u001b[1;33m\u001b[0m\u001b[1;33m\u001b[0m\u001b[0m\n\u001b[1;32m--> 596\u001b[1;33m       return getattr(self, request_type)(\n\u001b[0m\u001b[0;32m    597\u001b[0m           getattr(request, request_type), request.instruction_id)\n\u001b[0;32m    598\u001b[0m     \u001b[1;32melse\u001b[0m\u001b[1;33m:\u001b[0m\u001b[1;33m\u001b[0m\u001b[1;33m\u001b[0m\u001b[0m\n",
                        "\u001b[1;32mc:\\Users\\zis\\anaconda3\\envs\\movies-rec\\lib\\site-packages\\apache_beam\\runners\\worker\\sdk_worker.py\u001b[0m in \u001b[0;36mprocess_bundle\u001b[1;34m(self, request, instruction_id)\u001b[0m\n\u001b[0;32m    632\u001b[0m         \u001b[1;32mwith\u001b[0m \u001b[0mself\u001b[0m\u001b[1;33m.\u001b[0m\u001b[0mmaybe_profile\u001b[0m\u001b[1;33m(\u001b[0m\u001b[0minstruction_id\u001b[0m\u001b[1;33m)\u001b[0m\u001b[1;33m:\u001b[0m\u001b[1;33m\u001b[0m\u001b[1;33m\u001b[0m\u001b[0m\n\u001b[0;32m    633\u001b[0m           delayed_applications, requests_finalization = (\n\u001b[1;32m--> 634\u001b[1;33m               bundle_processor.process_bundle(instruction_id))\n\u001b[0m\u001b[0;32m    635\u001b[0m           \u001b[0mmonitoring_infos\u001b[0m \u001b[1;33m=\u001b[0m \u001b[0mbundle_processor\u001b[0m\u001b[1;33m.\u001b[0m\u001b[0mmonitoring_infos\u001b[0m\u001b[1;33m(\u001b[0m\u001b[1;33m)\u001b[0m\u001b[1;33m\u001b[0m\u001b[1;33m\u001b[0m\u001b[0m\n\u001b[0;32m    636\u001b[0m           response = beam_fn_api_pb2.InstructionResponse(\n",
                        "\u001b[1;32mc:\\Users\\zis\\anaconda3\\envs\\movies-rec\\lib\\site-packages\\apache_beam\\runners\\worker\\bundle_processor.py\u001b[0m in \u001b[0;36mprocess_bundle\u001b[1;34m(self, instruction_id)\u001b[0m\n\u001b[0;32m   1001\u001b[0m                   element.timer_family_id, timer_data)\n\u001b[0;32m   1002\u001b[0m           \u001b[1;32melif\u001b[0m \u001b[0misinstance\u001b[0m\u001b[1;33m(\u001b[0m\u001b[0melement\u001b[0m\u001b[1;33m,\u001b[0m \u001b[0mbeam_fn_api_pb2\u001b[0m\u001b[1;33m.\u001b[0m\u001b[0mElements\u001b[0m\u001b[1;33m.\u001b[0m\u001b[0mData\u001b[0m\u001b[1;33m)\u001b[0m\u001b[1;33m:\u001b[0m\u001b[1;33m\u001b[0m\u001b[1;33m\u001b[0m\u001b[0m\n\u001b[1;32m-> 1003\u001b[1;33m             input_op_by_transform_id[element.transform_id].process_encoded(\n\u001b[0m\u001b[0;32m   1004\u001b[0m                 element.data)\n\u001b[0;32m   1005\u001b[0m \u001b[1;33m\u001b[0m\u001b[0m\n",
                        "\u001b[1;32mc:\\Users\\zis\\anaconda3\\envs\\movies-rec\\lib\\site-packages\\apache_beam\\runners\\worker\\bundle_processor.py\u001b[0m in \u001b[0;36mprocess_encoded\u001b[1;34m(self, encoded_windowed_values)\u001b[0m\n\u001b[0;32m    225\u001b[0m       decoded_value = self.windowed_coder_impl.decode_from_stream(\n\u001b[0;32m    226\u001b[0m           input_stream, True)\n\u001b[1;32m--> 227\u001b[1;33m       \u001b[0mself\u001b[0m\u001b[1;33m.\u001b[0m\u001b[0moutput\u001b[0m\u001b[1;33m(\u001b[0m\u001b[0mdecoded_value\u001b[0m\u001b[1;33m)\u001b[0m\u001b[1;33m\u001b[0m\u001b[1;33m\u001b[0m\u001b[0m\n\u001b[0m\u001b[0;32m    228\u001b[0m \u001b[1;33m\u001b[0m\u001b[0m\n\u001b[0;32m    229\u001b[0m   \u001b[1;32mdef\u001b[0m \u001b[0mmonitoring_infos\u001b[0m\u001b[1;33m(\u001b[0m\u001b[0mself\u001b[0m\u001b[1;33m,\u001b[0m \u001b[0mtransform_id\u001b[0m\u001b[1;33m,\u001b[0m \u001b[0mtag_to_pcollection_id\u001b[0m\u001b[1;33m)\u001b[0m\u001b[1;33m:\u001b[0m\u001b[1;33m\u001b[0m\u001b[1;33m\u001b[0m\u001b[0m\n",
                        "\u001b[1;32mc:\\Users\\zis\\anaconda3\\envs\\movies-rec\\lib\\site-packages\\apache_beam\\runners\\worker\\operations.cp39-win_amd64.pyd\u001b[0m in \u001b[0;36mapache_beam.runners.worker.operations.Operation.output\u001b[1;34m()\u001b[0m\n",
                        "\u001b[1;32mc:\\Users\\zis\\anaconda3\\envs\\movies-rec\\lib\\site-packages\\apache_beam\\runners\\worker\\operations.cp39-win_amd64.pyd\u001b[0m in \u001b[0;36mapache_beam.runners.worker.operations.Operation.output\u001b[1;34m()\u001b[0m\n",
                        "\u001b[1;32mc:\\Users\\zis\\anaconda3\\envs\\movies-rec\\lib\\site-packages\\apache_beam\\runners\\worker\\operations.cp39-win_amd64.pyd\u001b[0m in \u001b[0;36mapache_beam.runners.worker.operations.SingletonElementConsumerSet.receive\u001b[1;34m()\u001b[0m\n",
                        "\u001b[1;32mc:\\Users\\zis\\anaconda3\\envs\\movies-rec\\lib\\site-packages\\apache_beam\\runners\\worker\\operations.cp39-win_amd64.pyd\u001b[0m in \u001b[0;36mapache_beam.runners.worker.operations.SingletonElementConsumerSet.receive\u001b[1;34m()\u001b[0m\n",
                        "\u001b[1;32mc:\\Users\\zis\\anaconda3\\envs\\movies-rec\\lib\\site-packages\\apache_beam\\runners\\worker\\operations.cp39-win_amd64.pyd\u001b[0m in \u001b[0;36mapache_beam.runners.worker.operations.DoOperation.process\u001b[1;34m()\u001b[0m\n",
                        "\u001b[1;32mc:\\Users\\zis\\anaconda3\\envs\\movies-rec\\lib\\site-packages\\apache_beam\\runners\\worker\\operations.cp39-win_amd64.pyd\u001b[0m in \u001b[0;36mapache_beam.runners.worker.operations.DoOperation.process\u001b[1;34m()\u001b[0m\n",
                        "\u001b[1;32mc:\\Users\\zis\\anaconda3\\envs\\movies-rec\\lib\\site-packages\\apache_beam\\runners\\common.cp39-win_amd64.pyd\u001b[0m in \u001b[0;36mapache_beam.runners.common.DoFnRunner.process\u001b[1;34m()\u001b[0m\n",
                        "\u001b[1;32mc:\\Users\\zis\\anaconda3\\envs\\movies-rec\\lib\\site-packages\\apache_beam\\runners\\common.cp39-win_amd64.pyd\u001b[0m in \u001b[0;36mapache_beam.runners.common.DoFnRunner._reraise_augmented\u001b[1;34m()\u001b[0m\n",
                        "\u001b[1;32mc:\\Users\\zis\\anaconda3\\envs\\movies-rec\\lib\\site-packages\\apache_beam\\runners\\common.cp39-win_amd64.pyd\u001b[0m in \u001b[0;36mapache_beam.runners.common.DoFnRunner.process\u001b[1;34m()\u001b[0m\n",
                        "\u001b[1;32mc:\\Users\\zis\\anaconda3\\envs\\movies-rec\\lib\\site-packages\\apache_beam\\runners\\common.cp39-win_amd64.pyd\u001b[0m in \u001b[0;36mapache_beam.runners.common.PerWindowInvoker.invoke_process\u001b[1;34m()\u001b[0m\n",
                        "\u001b[1;32mc:\\Users\\zis\\anaconda3\\envs\\movies-rec\\lib\\site-packages\\apache_beam\\runners\\common.cp39-win_amd64.pyd\u001b[0m in \u001b[0;36mapache_beam.runners.common.PerWindowInvoker._invoke_process_per_window\u001b[1;34m()\u001b[0m\n",
                        "\u001b[1;32mc:\\Users\\zis\\anaconda3\\envs\\movies-rec\\lib\\site-packages\\tfx\\orchestration\\beam\\beam_dag_runner.py\u001b[0m in \u001b[0;36mprocess\u001b[1;34m(self, element, *signals)\u001b[0m\n\u001b[0;32m     88\u001b[0m \u001b[1;33m\u001b[0m\u001b[0m\n\u001b[0;32m     89\u001b[0m     \u001b[0mlogging\u001b[0m\u001b[1;33m.\u001b[0m\u001b[0minfo\u001b[0m\u001b[1;33m(\u001b[0m\u001b[1;34m'node %s is running.'\u001b[0m\u001b[1;33m,\u001b[0m \u001b[0mself\u001b[0m\u001b[1;33m.\u001b[0m\u001b[0m_node_id\u001b[0m\u001b[1;33m)\u001b[0m\u001b[1;33m\u001b[0m\u001b[1;33m\u001b[0m\u001b[0m\n\u001b[1;32m---> 90\u001b[1;33m     \u001b[0mself\u001b[0m\u001b[1;33m.\u001b[0m\u001b[0m_run_node\u001b[0m\u001b[1;33m(\u001b[0m\u001b[1;33m)\u001b[0m\u001b[1;33m\u001b[0m\u001b[1;33m\u001b[0m\u001b[0m\n\u001b[0m\u001b[0;32m     91\u001b[0m     \u001b[0mlogging\u001b[0m\u001b[1;33m.\u001b[0m\u001b[0minfo\u001b[0m\u001b[1;33m(\u001b[0m\u001b[1;34m'node %s is finished.'\u001b[0m\u001b[1;33m,\u001b[0m \u001b[0mself\u001b[0m\u001b[1;33m.\u001b[0m\u001b[0m_node_id\u001b[0m\u001b[1;33m)\u001b[0m\u001b[1;33m\u001b[0m\u001b[1;33m\u001b[0m\u001b[0m\n\u001b[0;32m     92\u001b[0m \u001b[1;33m\u001b[0m\u001b[0m\n",
                        "\u001b[1;32mc:\\Users\\zis\\anaconda3\\envs\\movies-rec\\lib\\site-packages\\tfx\\orchestration\\beam\\beam_dag_runner.py\u001b[0m in \u001b[0;36m_run_node\u001b[1;34m(self)\u001b[0m\n\u001b[0;32m     97\u001b[0m       \u001b[1;32mwith\u001b[0m \u001b[0mmetadata\u001b[0m\u001b[1;33m.\u001b[0m\u001b[0mMetadata\u001b[0m\u001b[1;33m(\u001b[0m\u001b[0mself\u001b[0m\u001b[1;33m.\u001b[0m\u001b[0m_mlmd_connection_config\u001b[0m\u001b[1;33m)\u001b[0m \u001b[1;32mas\u001b[0m \u001b[0mmlmd_handle\u001b[0m\u001b[1;33m:\u001b[0m\u001b[1;33m\u001b[0m\u001b[1;33m\u001b[0m\u001b[0m\n\u001b[0;32m     98\u001b[0m         \u001b[0mpartial_run_utils\u001b[0m\u001b[1;33m.\u001b[0m\u001b[0msnapshot\u001b[0m\u001b[1;33m(\u001b[0m\u001b[0mmlmd_handle\u001b[0m\u001b[1;33m,\u001b[0m \u001b[0mself\u001b[0m\u001b[1;33m.\u001b[0m\u001b[0m_pipeline\u001b[0m\u001b[1;33m)\u001b[0m\u001b[1;33m\u001b[0m\u001b[1;33m\u001b[0m\u001b[0m\n\u001b[1;32m---> 99\u001b[1;33m     launcher.Launcher(\n\u001b[0m\u001b[0;32m    100\u001b[0m         \u001b[0mpipeline_node\u001b[0m\u001b[1;33m=\u001b[0m\u001b[0mself\u001b[0m\u001b[1;33m.\u001b[0m\u001b[0m_pipeline_node\u001b[0m\u001b[1;33m,\u001b[0m\u001b[1;33m\u001b[0m\u001b[1;33m\u001b[0m\u001b[0m\n\u001b[0;32m    101\u001b[0m         \u001b[0mmlmd_connection\u001b[0m\u001b[1;33m=\u001b[0m\u001b[0mmetadata\u001b[0m\u001b[1;33m.\u001b[0m\u001b[0mMetadata\u001b[0m\u001b[1;33m(\u001b[0m\u001b[0mself\u001b[0m\u001b[1;33m.\u001b[0m\u001b[0m_mlmd_connection_config\u001b[0m\u001b[1;33m)\u001b[0m\u001b[1;33m,\u001b[0m\u001b[1;33m\u001b[0m\u001b[1;33m\u001b[0m\u001b[0m\n",
                        "\u001b[1;32mc:\\Users\\zis\\anaconda3\\envs\\movies-rec\\lib\\site-packages\\tfx\\orchestration\\portable\\launcher.py\u001b[0m in \u001b[0;36mlaunch\u001b[1;34m(self)\u001b[0m\n\u001b[0;32m    571\u001b[0m               executor_watcher.address)\n\u001b[0;32m    572\u001b[0m           \u001b[0mexecutor_watcher\u001b[0m\u001b[1;33m.\u001b[0m\u001b[0mstart\u001b[0m\u001b[1;33m(\u001b[0m\u001b[1;33m)\u001b[0m\u001b[1;33m\u001b[0m\u001b[1;33m\u001b[0m\u001b[0m\n\u001b[1;32m--> 573\u001b[1;33m         \u001b[0mexecutor_output\u001b[0m \u001b[1;33m=\u001b[0m \u001b[0mself\u001b[0m\u001b[1;33m.\u001b[0m\u001b[0m_run_executor\u001b[0m\u001b[1;33m(\u001b[0m\u001b[0mexecution_info\u001b[0m\u001b[1;33m)\u001b[0m\u001b[1;33m\u001b[0m\u001b[1;33m\u001b[0m\u001b[0m\n\u001b[0m\u001b[0;32m    574\u001b[0m       \u001b[1;32mexcept\u001b[0m \u001b[0mException\u001b[0m \u001b[1;32mas\u001b[0m \u001b[0me\u001b[0m\u001b[1;33m:\u001b[0m  \u001b[1;31m# pylint: disable=broad-except\u001b[0m\u001b[1;33m\u001b[0m\u001b[1;33m\u001b[0m\u001b[0m\n\u001b[0;32m    575\u001b[0m         execution_output = (\n",
                        "\u001b[1;32mc:\\Users\\zis\\anaconda3\\envs\\movies-rec\\lib\\site-packages\\tfx\\orchestration\\portable\\launcher.py\u001b[0m in \u001b[0;36m_run_executor\u001b[1;34m(self, execution_info)\u001b[0m\n\u001b[0;32m    446\u001b[0m     \u001b[0moutputs_utils\u001b[0m\u001b[1;33m.\u001b[0m\u001b[0mmake_output_dirs\u001b[0m\u001b[1;33m(\u001b[0m\u001b[0mexecution_info\u001b[0m\u001b[1;33m.\u001b[0m\u001b[0moutput_dict\u001b[0m\u001b[1;33m)\u001b[0m\u001b[1;33m\u001b[0m\u001b[1;33m\u001b[0m\u001b[0m\n\u001b[0;32m    447\u001b[0m     \u001b[1;32mtry\u001b[0m\u001b[1;33m:\u001b[0m\u001b[1;33m\u001b[0m\u001b[1;33m\u001b[0m\u001b[0m\n\u001b[1;32m--> 448\u001b[1;33m       \u001b[0mexecutor_output\u001b[0m \u001b[1;33m=\u001b[0m \u001b[0mself\u001b[0m\u001b[1;33m.\u001b[0m\u001b[0m_executor_operator\u001b[0m\u001b[1;33m.\u001b[0m\u001b[0mrun_executor\u001b[0m\u001b[1;33m(\u001b[0m\u001b[0mexecution_info\u001b[0m\u001b[1;33m)\u001b[0m\u001b[1;33m\u001b[0m\u001b[1;33m\u001b[0m\u001b[0m\n\u001b[0m\u001b[0;32m    449\u001b[0m       \u001b[0mcode\u001b[0m \u001b[1;33m=\u001b[0m \u001b[0mexecutor_output\u001b[0m\u001b[1;33m.\u001b[0m\u001b[0mexecution_result\u001b[0m\u001b[1;33m.\u001b[0m\u001b[0mcode\u001b[0m\u001b[1;33m\u001b[0m\u001b[1;33m\u001b[0m\u001b[0m\n\u001b[0;32m    450\u001b[0m       \u001b[1;32mif\u001b[0m \u001b[0mcode\u001b[0m \u001b[1;33m!=\u001b[0m \u001b[1;36m0\u001b[0m\u001b[1;33m:\u001b[0m\u001b[1;33m\u001b[0m\u001b[1;33m\u001b[0m\u001b[0m\n",
                        "\u001b[1;32mc:\\Users\\zis\\anaconda3\\envs\\movies-rec\\lib\\site-packages\\tfx\\orchestration\\portable\\python_executor_operator.py\u001b[0m in \u001b[0;36mrun_executor\u001b[1;34m(self, execution_info)\u001b[0m\n\u001b[0;32m    133\u001b[0m         pipeline_run_id=execution_info.pipeline_run_id)\n\u001b[0;32m    134\u001b[0m     \u001b[0mexecutor\u001b[0m \u001b[1;33m=\u001b[0m \u001b[0mself\u001b[0m\u001b[1;33m.\u001b[0m\u001b[0m_executor_cls\u001b[0m\u001b[1;33m(\u001b[0m\u001b[0mcontext\u001b[0m\u001b[1;33m=\u001b[0m\u001b[0mcontext\u001b[0m\u001b[1;33m)\u001b[0m\u001b[1;33m\u001b[0m\u001b[1;33m\u001b[0m\u001b[0m\n\u001b[1;32m--> 135\u001b[1;33m     \u001b[1;32mreturn\u001b[0m \u001b[0mrun_with_executor\u001b[0m\u001b[1;33m(\u001b[0m\u001b[0mexecution_info\u001b[0m\u001b[1;33m,\u001b[0m \u001b[0mexecutor\u001b[0m\u001b[1;33m)\u001b[0m\u001b[1;33m\u001b[0m\u001b[1;33m\u001b[0m\u001b[0m\n\u001b[0m",
                        "\u001b[1;32mc:\\Users\\zis\\anaconda3\\envs\\movies-rec\\lib\\site-packages\\tfx\\orchestration\\portable\\python_executor_operator.py\u001b[0m in \u001b[0;36mrun_with_executor\u001b[1;34m(execution_info, executor)\u001b[0m\n\u001b[0;32m     56\u001b[0m \u001b[1;33m\u001b[0m\u001b[0m\n\u001b[0;32m     57\u001b[0m   \u001b[0moutput_dict\u001b[0m \u001b[1;33m=\u001b[0m \u001b[0mcopy\u001b[0m\u001b[1;33m.\u001b[0m\u001b[0mdeepcopy\u001b[0m\u001b[1;33m(\u001b[0m\u001b[0mexecution_info\u001b[0m\u001b[1;33m.\u001b[0m\u001b[0moutput_dict\u001b[0m\u001b[1;33m)\u001b[0m\u001b[1;33m\u001b[0m\u001b[1;33m\u001b[0m\u001b[0m\n\u001b[1;32m---> 58\u001b[1;33m   result = executor.Do(execution_info.input_dict, output_dict,\n\u001b[0m\u001b[0;32m     59\u001b[0m                        execution_info.exec_properties)\n\u001b[0;32m     60\u001b[0m   \u001b[1;32mif\u001b[0m \u001b[1;32mnot\u001b[0m \u001b[0mresult\u001b[0m\u001b[1;33m:\u001b[0m\u001b[1;33m\u001b[0m\u001b[1;33m\u001b[0m\u001b[0m\n",
                        "\u001b[1;32mc:\\Users\\zis\\anaconda3\\envs\\movies-rec\\lib\\site-packages\\tfx\\components\\tuner\\executor.py\u001b[0m in \u001b[0;36mDo\u001b[1;34m(self, input_dict, output_dict, exec_properties)\u001b[0m\n\u001b[0;32m    120\u001b[0m       \u001b[1;32mraise\u001b[0m \u001b[0mValueError\u001b[0m\u001b[1;33m(\u001b[0m\u001b[1;34m\"TuneArgs is not supported by this Tuner's Executor.\"\u001b[0m\u001b[1;33m)\u001b[0m\u001b[1;33m\u001b[0m\u001b[1;33m\u001b[0m\u001b[0m\n\u001b[0;32m    121\u001b[0m \u001b[1;33m\u001b[0m\u001b[0m\n\u001b[1;32m--> 122\u001b[1;33m     \u001b[0mtuner\u001b[0m \u001b[1;33m=\u001b[0m \u001b[0msearch\u001b[0m\u001b[1;33m(\u001b[0m\u001b[0minput_dict\u001b[0m\u001b[1;33m,\u001b[0m \u001b[0mexec_properties\u001b[0m\u001b[1;33m,\u001b[0m \u001b[0mself\u001b[0m\u001b[1;33m.\u001b[0m\u001b[0m_get_tmp_dir\u001b[0m\u001b[1;33m(\u001b[0m\u001b[1;33m)\u001b[0m\u001b[1;33m)\u001b[0m\u001b[1;33m\u001b[0m\u001b[1;33m\u001b[0m\u001b[0m\n\u001b[0m\u001b[0;32m    123\u001b[0m \u001b[1;33m\u001b[0m\u001b[0m\n\u001b[0;32m    124\u001b[0m     \u001b[0mwrite_best_hyperparameters\u001b[0m\u001b[1;33m(\u001b[0m\u001b[0mtuner\u001b[0m\u001b[1;33m,\u001b[0m \u001b[0moutput_dict\u001b[0m\u001b[1;33m)\u001b[0m\u001b[1;33m\u001b[0m\u001b[1;33m\u001b[0m\u001b[0m\n",
                        "\u001b[1;32mc:\\Users\\zis\\anaconda3\\envs\\movies-rec\\lib\\site-packages\\tfx\\components\\tuner\\executor.py\u001b[0m in \u001b[0;36msearch\u001b[1;34m(input_dict, exec_properties, working_dir)\u001b[0m\n\u001b[0;32m     99\u001b[0m \u001b[1;33m\u001b[0m\u001b[0m\n\u001b[0;32m    100\u001b[0m   \u001b[0mtuner_fn_result\u001b[0m \u001b[1;33m=\u001b[0m \u001b[0mtuner_fn\u001b[0m\u001b[1;33m(\u001b[0m\u001b[0mfn_args\u001b[0m\u001b[1;33m)\u001b[0m\u001b[1;33m\u001b[0m\u001b[1;33m\u001b[0m\u001b[0m\n\u001b[1;32m--> 101\u001b[1;33m   \u001b[0mresult\u001b[0m \u001b[1;33m=\u001b[0m \u001b[0mtuner_fn_result\u001b[0m\u001b[1;33m.\u001b[0m\u001b[0mtuner\u001b[0m\u001b[1;33m\u001b[0m\u001b[1;33m\u001b[0m\u001b[0m\n\u001b[0m\u001b[0;32m    102\u001b[0m \u001b[1;33m\u001b[0m\u001b[0m\n\u001b[0;32m    103\u001b[0m   \u001b[1;31m# TODO(b/156966497): set logger for printing.\u001b[0m\u001b[1;33m\u001b[0m\u001b[1;33m\u001b[0m\u001b[0m\n",
                        "\u001b[1;31mAttributeError\u001b[0m: 'NoneType' object has no attribute 'tuner' [while running 'Run[Tuner]']"
                    ]
                }
            ],
            "source": [
                "components = components.init_components(\n",
                "    data_dir=DATA_ROOT,\n",
                "    transform_module=TRANSFORM_MODULE_FILE,\n",
                "    tuner_module=TUNER_MODULE_FILE,\n",
                "    trainer_module=TRAINER_MODULE_FILE,\n",
                "    train_steps=1000,\n",
                "    eval_steps=500,\n",
                "    serving_model_dir=os.path.join(\n",
                "        serving_model_dir, \"cf_model\"),\n",
                "    epochs=10,\n",
                ")\n",
                "\n",
                "pipeline = pipeline.init_pipeline(\n",
                "    pipeline_root=pipeline_root,\n",
                "    pipeline_name=PIPELINE_NAME,\n",
                "    metadata_path=metadata_path,\n",
                "    components=components,\n",
                ")\n",
                "\n",
                "BeamDagRunner().run(pipeline)"
            ]
        }
    ],
    "metadata": {
        "kernelspec": {
            "display_name": "movies-rec",
            "language": "python",
            "name": "python3"
        },
        "language_info": {
            "codemirror_mode": {
                "name": "ipython",
                "version": 3
            },
            "file_extension": ".py",
            "mimetype": "text/x-python",
            "name": "python",
            "nbconvert_exporter": "python",
            "pygments_lexer": "ipython3",
            "version": "3.9.15"
        },
        "orig_nbformat": 4,
        "vscode": {
            "interpreter": {
                "hash": "6e25223de69fee5703ad0c26aae235f0717de5f7833afcaf5995714c1d7d9212"
            }
        }
    },
    "nbformat": 4,
    "nbformat_minor": 2
}
