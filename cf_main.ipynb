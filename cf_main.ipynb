{
    "cells": [
        {
            "cell_type": "code",
            "execution_count": 1,
            "metadata": {},
            "outputs": [
                {
                    "name": "stderr",
                    "output_type": "stream",
                    "text": [
                        "c:\\Users\\zis\\anaconda3\\envs\\movies-rec\\lib\\site-packages\\paramiko\\transport.py:219: CryptographyDeprecationWarning: Blowfish has been deprecated\n",
                        "  \"class\": algorithms.Blowfish,\n"
                    ]
                }
            ],
            "source": [
                "import os\n",
                "import pandas as pd\n",
                "import tensorflow as tf\n",
                "from absl import logging\n",
                "from modules import components, pipeline\n",
                "from tfx.orchestration.beam.beam_dag_runner import BeamDagRunner"
            ]
        },
        {
            "cell_type": "code",
            "execution_count": 2,
            "metadata": {},
            "outputs": [],
            "source": [
                "PIPELINE_NAME = \"cf_pipeline\"\n",
                "\n",
                "# pipeline inputs\n",
                "DATA_ROOT = \"data/ratings\"\n",
                "TRANSFORM_MODULE_FILE = \"modules/cf_transform.py\"\n",
                "TUNER_MODULE_FILE = \"modules/cf_tuner.py\"\n",
                "TRAINER_MODULE_FILE = \"modules/cf_trainer.py\"\n",
                "\n",
                "# pipeline outputs\n",
                "OUTPUT_BASE = \"outputs\"\n",
                "\n",
                "serving_model_dir = os.path.join(OUTPUT_BASE, \"serving_model\")\n",
                "pipeline_root = os.path.join(OUTPUT_BASE, PIPELINE_NAME)\n",
                "metadata_path = os.path.join(pipeline_root, \"metadata.sqlite\")"
            ]
        },
        {
            "cell_type": "code",
            "execution_count": 3,
            "metadata": {},
            "outputs": [
                {
                    "name": "stdout",
                    "output_type": "stream",
                    "text": [
                        "Trial 2 Complete [00h 01m 06s]\n",
                        "multi_objective: 2.3746834993362427\n",
                        "\n",
                        "Best multi_objective So Far: 2.2972474098205566\n",
                        "Total elapsed time: 00h 02m 11s\n",
                        "\n",
                        "Search: Running Trial #3\n",
                        "\n",
                        "Value             |Best Value So Far |Hyperparameter\n",
                        "528               |208               |embedding_dims\n",
                        "0.001             |0.001             |l2_regularizers\n",
                        "3                 |3                 |num_hidden_layers\n",
                        "232               |424               |dense_unit\n",
                        "0.6               |0.2               |dropout_rate\n",
                        "0.001             |0.01              |learning_rate\n",
                        "2                 |2                 |tuner/epochs\n",
                        "0                 |0                 |tuner/initial_epoch\n",
                        "1                 |1                 |tuner/bracket\n",
                        "0                 |0                 |tuner/round\n",
                        "\n",
                        "Model: \"model\"\n",
                        "__________________________________________________________________________________________________\n",
                        " Layer (type)                   Output Shape         Param #     Connected to                     \n",
                        "==================================================================================================\n",
                        " userid_xf (InputLayer)         [(None, 1)]          0           []                               \n",
                        "                                                                                                  \n",
                        " movieid_xf (InputLayer)        [(None, 1)]          0           []                               \n",
                        "                                                                                                  \n",
                        " embedding (Embedding)          (None, 1, 528)       353232      ['userid_xf[0][0]']              \n",
                        "                                                                                                  \n",
                        " embedding_1 (Embedding)        (None, 1, 528)       5026032     ['movieid_xf[0][0]']             \n",
                        "                                                                                                  \n",
                        " concatenate (Concatenate)      (None, 1, 1056)      0           ['embedding[0][0]',              \n",
                        "                                                                  'embedding_1[0][0]']            \n",
                        "                                                                                                  \n",
                        " dense (Dense)                  (None, 1, 232)       245224      ['concatenate[0][0]']            \n",
                        "                                                                                                  \n",
                        " dense_1 (Dense)                (None, 1, 232)       54056       ['dense[0][0]']                  \n",
                        "                                                                                                  \n",
                        " dropout (Dropout)              (None, 1, 232)       0           ['dense_1[0][0]']                \n",
                        "                                                                                                  \n",
                        " dense_2 (Dense)                (None, 1, 232)       54056       ['dropout[0][0]']                \n",
                        "                                                                                                  \n",
                        " dropout_1 (Dropout)            (None, 1, 232)       0           ['dense_2[0][0]']                \n",
                        "                                                                                                  \n",
                        " dense_3 (Dense)                (None, 1, 232)       54056       ['dropout_1[0][0]']              \n",
                        "                                                                                                  \n",
                        " dropout_2 (Dropout)            (None, 1, 232)       0           ['dense_3[0][0]']                \n",
                        "                                                                                                  \n",
                        " dense_4 (Dense)                (None, 1, 1)         233         ['dropout_2[0][0]']              \n",
                        "                                                                                                  \n",
                        "==================================================================================================\n",
                        "Total params: 5,786,889\n",
                        "Trainable params: 5,786,889\n",
                        "Non-trainable params: 0\n",
                        "__________________________________________________________________________________________________\n",
                        "Epoch 1/2\n",
                        "   6/1000 [..............................] - ETA: 22s - loss: 8.3007 - root_mean_squared_error: 2.6093  WARNING:tensorflow:Callback method `on_train_batch_end` is slow compared to the batch time (batch time: 0.0089s vs `on_train_batch_end` time: 0.0158s). Check your callbacks.\n"
                    ]
                },
                {
                    "name": "stderr",
                    "output_type": "stream",
                    "text": [
                        "WARNING:tensorflow:Callback method `on_train_batch_end` is slow compared to the batch time (batch time: 0.0089s vs `on_train_batch_end` time: 0.0158s). Check your callbacks.\n"
                    ]
                },
                {
                    "name": "stdout",
                    "output_type": "stream",
                    "text": [
                        "1000/1000 [==============================] - 25s 23ms/step - loss: 1.3369 - root_mean_squared_error: 1.1126 - val_loss: 1.0121 - val_root_mean_squared_error: 0.9891\n",
                        "Epoch 2/2\n",
                        " 922/1000 [==========================>...] - ETA: 0s - loss: 1.0602 - root_mean_squared_error: 1.0156"
                    ]
                }
            ],
            "source": [
                "components = components.init_components(\n",
                "    data_dir=DATA_ROOT,\n",
                "    transform_module=TRANSFORM_MODULE_FILE,\n",
                "    tuner_module=TUNER_MODULE_FILE,\n",
                "    trainer_module=TRAINER_MODULE_FILE,\n",
                "    train_steps=1000,\n",
                "    eval_steps=500,\n",
                "    serving_model_dir=os.path.join(\n",
                "        serving_model_dir, \"cf_model\"),\n",
                "    tuner_epochs=5,\n",
                "    trainer_epochs=25,\n",
                ")\n",
                "\n",
                "pipeline = pipeline.init_pipeline(\n",
                "    pipeline_root=pipeline_root,\n",
                "    pipeline_name=PIPELINE_NAME,\n",
                "    metadata_path=metadata_path,\n",
                "    components=components,\n",
                ")\n",
                "\n",
                "BeamDagRunner().run(pipeline)"
            ]
        }
    ],
    "metadata": {
        "kernelspec": {
            "display_name": "movies-rec",
            "language": "python",
            "name": "python3"
        },
        "language_info": {
            "codemirror_mode": {
                "name": "ipython",
                "version": 3
            },
            "file_extension": ".py",
            "mimetype": "text/x-python",
            "name": "python",
            "nbconvert_exporter": "python",
            "pygments_lexer": "ipython3",
            "version": "3.9.15"
        },
        "orig_nbformat": 4,
        "vscode": {
            "interpreter": {
                "hash": "6e25223de69fee5703ad0c26aae235f0717de5f7833afcaf5995714c1d7d9212"
            }
        }
    },
    "nbformat": 4,
    "nbformat_minor": 2
}
