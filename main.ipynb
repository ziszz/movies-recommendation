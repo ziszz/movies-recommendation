{
    "cells": [
        {
            "cell_type": "code",
            "execution_count": null,
            "metadata": {},
            "outputs": [],
            "source": [
                "import os\n",
                "import tensorflow as tf\n",
                "from typing import Any, Dict, Text\n",
                "from modules.merge_dataset import merge_dataset\n",
                "from tfx.orchestration.beam.beam_dag_runner import BeamDagRunner\n",
                "from modules import pipeline, components\n",
                "from absl import logging\n",
                "from tfx import components\n",
                "from tfx.dsl.components.common.resolver import Resolver\n",
                "from tfx.dsl.input_resolution.strategies.latest_blessed_model_strategy import \\\n",
                "    LatestBlessedModelStrategy\n",
                "from tfx.proto import example_gen_pb2, pusher_pb2, trainer_pb2\n",
                "from tfx.types import Channel\n",
                "from tfx.types.standard_artifacts import Model, ModelBlessing\n",
                "from tfx.orchestration.experimental.interactive.interactive_context import InteractiveContext"
            ]
        },
        {
            "cell_type": "code",
            "execution_count": null,
            "metadata": {},
            "outputs": [],
            "source": [
                "PIPELINE_NAME = \"movie-recommender-pipeline\"\n",
                "\n",
                "# pipeline inputs\n",
                "MOVIES_DATA_ROOT = \"data/movies\"\n",
                "RATING_DATA_ROOT = \"data/merge\"\n",
                "MOVIES_TRANSFORM_MODULE_FILE = \"modules/movies_transform.py\"\n",
                "RATING_TRANSFORM_MODULE_FILE = \"modules/rating_transform.py\"\n",
                "TUNER_MODULE_FILE = \"modules/tuner.py\"\n",
                "TRAINER_MODULE_FILE = \"modules/trainer.py\"\n",
                "\n",
                "# pipeline outputs\n",
                "OUTPUT_BASE = \"outputs\"\n",
                "\n",
                "serving_model_dir = os.path.join(OUTPUT_BASE, \"serving_model\")\n",
                "pipeline_root = os.path.join(OUTPUT_BASE, PIPELINE_NAME)\n",
                "metadata_path = os.path.join(pipeline_root, \"metadata.sqlite\")"
            ]
        },
        {
            "cell_type": "code",
            "execution_count": null,
            "metadata": {},
            "outputs": [],
            "source": [
                "context = InteractiveContext(pipeline_root=pipeline_root)"
            ]
        },
        {
            "cell_type": "code",
            "execution_count": null,
            "metadata": {},
            "outputs": [],
            "source": [
                "output = example_gen_pb2.Output(\n",
                "    split_config=example_gen_pb2.SplitConfig(splits=[\n",
                "        example_gen_pb2.SplitConfig.Split(\n",
                "            name=\"train\", hash_buckets=8),\n",
                "        example_gen_pb2.SplitConfig.Split(name=\"eval\", hash_buckets=2),\n",
                "    ])\n",
                ")       "
            ]
        },
        {
            "cell_type": "code",
            "execution_count": null,
            "metadata": {},
            "outputs": [],
            "source": [
                "movies_example_gen = components.CsvExampleGen(\n",
                "    input_base=MOVIES_DATA_ROOT,\n",
                "    output_config=output\n",
                ")\n",
                "context.run(movies_example_gen)"
            ]
        },
        {
            "cell_type": "code",
            "execution_count": null,
            "metadata": {},
            "outputs": [],
            "source": [
                "rating_example_gen = components.CsvExampleGen(\n",
                "    input_base=RATING_DATA_ROOT,\n",
                "    output_config=output\n",
                ")\n",
                "context.run(rating_example_gen)"
            ]
        },
        {
            "cell_type": "code",
            "execution_count": null,
            "metadata": {},
            "outputs": [],
            "source": [
                "movies_statistics_gen = components.StatisticsGen(\n",
                "    examples=movies_example_gen.outputs[\"examples\"]\n",
                ")\n",
                "context.run(movies_statistics_gen)"
            ]
        },
        {
            "cell_type": "code",
            "execution_count": null,
            "metadata": {},
            "outputs": [],
            "source": [
                "rating_statistics_gen = components.StatisticsGen(\n",
                "    examples=rating_example_gen.outputs[\"examples\"]\n",
                ")\n",
                "context.run(rating_statistics_gen)"
            ]
        },
        {
            "cell_type": "code",
            "execution_count": null,
            "metadata": {},
            "outputs": [],
            "source": [
                "movies_schema_gen = components.SchemaGen(\n",
                "    statistics=movies_statistics_gen.outputs[\"statistics\"]\n",
                ")\n",
                "context.run(movies_schema_gen)"
            ]
        },
        {
            "cell_type": "code",
            "execution_count": null,
            "metadata": {},
            "outputs": [],
            "source": [
                "rating_schema_gen = components.SchemaGen(\n",
                "    statistics=rating_statistics_gen.outputs[\"statistics\"]\n",
                ")\n",
                "context.run(rating_schema_gen)"
            ]
        },
        {
            "cell_type": "code",
            "execution_count": null,
            "metadata": {},
            "outputs": [],
            "source": [
                "movies_example_validator = components.ExampleValidator(\n",
                "    statistics=movies_statistics_gen.outputs[\"statistics\"],\n",
                "    schema=movies_schema_gen.outputs[\"schema\"],\n",
                ")\n",
                "context.run(movies_example_validator)"
            ]
        },
        {
            "cell_type": "code",
            "execution_count": null,
            "metadata": {},
            "outputs": [],
            "source": [
                "rating_example_validator = components.ExampleValidator(\n",
                "    statistics=rating_statistics_gen.outputs[\"statistics\"],\n",
                "    schema=rating_schema_gen.outputs[\"schema\"],\n",
                ")\n",
                "context.run(rating_example_validator)\n"
            ]
        },
        {
            "cell_type": "code",
            "execution_count": null,
            "metadata": {},
            "outputs": [],
            "source": [
                "movies_transform = components.Transform(\n",
                "    examples=movies_example_gen.outputs[\"examples\"],\n",
                "    schema=movies_schema_gen.outputs[\"schema\"],\n",
                "    module_file=os.path.abspath(MOVIES_TRANSFORM_MODULE_FILE)\n",
                ")\n",
                "context.run(movies_transform)"
            ]
        },
        {
            "cell_type": "code",
            "execution_count": null,
            "metadata": {},
            "outputs": [],
            "source": [
                "rating_transform = components.Transform(\n",
                "    examples=rating_example_gen.outputs[\"examples\"],\n",
                "    schema=rating_schema_gen.outputs[\"schema\"],\n",
                "    module_file=os.path.abspath(RATING_TRANSFORM_MODULE_FILE)\n",
                ")\n",
                "context.run(rating_transform)"
            ]
        },
        {
            "cell_type": "code",
            "execution_count": null,
            "metadata": {},
            "outputs": [],
            "source": [
                "trainer = components.Trainer(\n",
                "    module_file=os.path.abspath(TRAINER_MODULE_FILE),\n",
                "    examples=rating_transform.outputs[\"transformed_examples\"],\n",
                "    transform_graph=rating_transform.outputs[\"transform_graph\"],\n",
                "    schema=rating_transform.outputs[\"post_transform_schema\"],\n",
                "    # hyperparameters=tuner.outputs[\"best_hyperparameters\"],\n",
                "    train_args=trainer_pb2.TrainArgs(\n",
                "        splits=[\"train\"],\n",
                "        num_steps=500,\n",
                "    ),\n",
                "    eval_args=trainer_pb2.EvalArgs(\n",
                "        splits=[\"eval\"],\n",
                "        num_steps=100,\n",
                "    ),\n",
                "    custom_config={\n",
                "        \"epochs\": 5,\n",
                "        \"movies\": movies_transform.outputs[\"transformed_examples\"],\n",
                "        \"movies_schema\": movies_transform.outputs[\"post_transform_schema\"],\n",
                "    }\n",
                ")\n",
                "context.run(trainer)\n"
            ]
        },
        {
            "cell_type": "code",
            "execution_count": null,
            "metadata": {},
            "outputs": [],
            "source": [
                "model_resolver = Resolver(\n",
                "    strategy_class=LatestBlessedModelStrategy,\n",
                "    model=Channel(type=Model),\n",
                "    model_blessing=Channel(type=ModelBlessing),\n",
                ").with_id(\"Latest_blessed_model_resolve\")\n",
                "context.run(model_resolver)"
            ]
        },
        {
            "cell_type": "code",
            "execution_count": null,
            "metadata": {},
            "outputs": [],
            "source": [
                "pusher = components.Pusher(\n",
                "    model=trainer.outputs[\"model\"],\n",
                "    push_destination=pusher_pb2.PushDestination(\n",
                "        filesystem=pusher_pb2.PushDestination.Filesystem(\n",
                "            base_directory=os.path.join(\n",
                "                serving_model_dir, \"movie-recommender\"\n",
                "            ),\n",
                "        )\n",
                "    )\n",
                ")\n",
                "context.run(pusher)"
            ]
        },
        {
            "cell_type": "code",
            "execution_count": null,
            "metadata": {},
            "outputs": [],
            "source": [
                "try:\n",
                "    loaded = tf.saved_model.load(pusher.outputs['pushed_model'].get()[0].uri)\n",
                "    scores, titles = loaded([\"1\"])\n",
                "    print(f\"Recommendations: {titles[0][:3]}\")\n",
                "except BaseException as err:\n",
                "    logging.error(err)"
            ]
        }
    ],
    "metadata": {
        "kernelspec": {
            "display_name": "Python 3.8.0 ('movies-rec')",
            "language": "python",
            "name": "python3"
        },
        "language_info": {
            "codemirror_mode": {
                "name": "ipython",
                "version": 3
            },
            "file_extension": ".py",
            "mimetype": "text/x-python",
            "name": "python",
            "nbconvert_exporter": "python",
            "pygments_lexer": "ipython3",
            "version": "3.8.0"
        },
        "orig_nbformat": 4,
        "vscode": {
            "interpreter": {
                "hash": "c8bee75823cf711cdc108f50355468f4211d8df5db436ac62360d8c22fcdec6c"
            }
        }
    },
    "nbformat": 4,
    "nbformat_minor": 2
}
