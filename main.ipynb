{
    "cells": [
        {
            "cell_type": "code",
            "execution_count": 1,
            "metadata": {},
            "outputs": [],
            "source": [
                "import os\n",
                "import tensorflow_model_analysis as tfma\n",
                "from modules.merge_dataset import merge_dataset\n",
                "from tfx import components\n",
                "from tfx.proto import example_gen_pb2, trainer_pb2, pusher_pb2\n",
                "from tfx.orchestration.experimental.interactive.interactive_context import InteractiveContext\n",
                "from tfx.dsl.components.common.resolver import Resolver\n",
                "from tfx.dsl.input_resolution.strategies.latest_blessed_model_strategy import LatestBlessedModelStrategy\n",
                "from tfx.types import Channel\n",
                "from tfx.types.standard_artifacts import Model, ModelBlessing"
            ]
        },
        {
            "cell_type": "code",
            "execution_count": 2,
            "metadata": {},
            "outputs": [
                {
                    "data": {
                        "text/plain": [
                            "'Merge dataset success'"
                        ]
                    },
                    "execution_count": 2,
                    "metadata": {},
                    "output_type": "execute_result"
                }
            ],
            "source": [
                "merge_dataset(\"data/movie.csv\", \"data/rating.csv\")"
            ]
        },
        {
            "cell_type": "code",
            "execution_count": 3,
            "metadata": {},
            "outputs": [],
            "source": [
                "PIPELINE_ROOT = \"pipeline\"\n",
                "SCHEMA_PIPELINE_NAME = \"movies-rec\"\n",
                "SERVING_MODEL_DIR = \"serving_model_dir\""
            ]
        },
        {
            "cell_type": "code",
            "execution_count": 4,
            "metadata": {},
            "outputs": [],
            "source": [
                "DATA_ROOT = \"data/merge\""
            ]
        },
        {
            "cell_type": "code",
            "execution_count": 5,
            "metadata": {},
            "outputs": [
                {
                    "name": "stderr",
                    "output_type": "stream",
                    "text": [
                        "WARNING:absl:InteractiveContext metadata_connection_config not provided: using SQLite ML Metadata database at pipeline\\metadata.sqlite.\n"
                    ]
                }
            ],
            "source": [
                "context = InteractiveContext(pipeline_root=PIPELINE_ROOT)"
            ]
        },
        {
            "cell_type": "code",
            "execution_count": 6,
            "metadata": {},
            "outputs": [
                {
                    "name": "stderr",
                    "output_type": "stream",
                    "text": [
                        "WARNING:apache_beam.runners.interactive.interactive_environment:Dependencies required for Interactive Beam PCollection visualization are not available, please use: `pip install apache-beam[interactive]` to install necessary dependencies to enable all data visualization features.\n"
                    ]
                },
                {
                    "data": {
                        "application/javascript": "\n        if (typeof window.interactive_beam_jquery == 'undefined') {\n          var jqueryScript = document.createElement('script');\n          jqueryScript.src = 'https://code.jquery.com/jquery-3.4.1.slim.min.js';\n          jqueryScript.type = 'text/javascript';\n          jqueryScript.onload = function() {\n            var datatableScript = document.createElement('script');\n            datatableScript.src = 'https://cdn.datatables.net/1.10.20/js/jquery.dataTables.min.js';\n            datatableScript.type = 'text/javascript';\n            datatableScript.onload = function() {\n              window.interactive_beam_jquery = jQuery.noConflict(true);\n              window.interactive_beam_jquery(document).ready(function($){\n                \n              });\n            }\n            document.head.appendChild(datatableScript);\n          };\n          document.head.appendChild(jqueryScript);\n        } else {\n          window.interactive_beam_jquery(document).ready(function($){\n            \n          });\n        }"
                    },
                    "metadata": {},
                    "output_type": "display_data"
                }
            ],
            "source": [
                "output = example_gen_pb2.Output(\n",
                "    split_config=example_gen_pb2.SplitConfig(splits=[\n",
                "        example_gen_pb2.SplitConfig.Split(name=\"train\", hash_buckets=8),\n",
                "        example_gen_pb2.SplitConfig.Split(name=\"eval\", hash_buckets=2),\n",
                "    ])\n",
                ")\n",
                "\n",
                "example_gen = components.CsvExampleGen(\n",
                "    input_base=DATA_ROOT,\n",
                "    output_config=output\n",
                ")\n",
                "context.run(example_gen)"
            ]
        },
        {
            "cell_type": "code",
            "execution_count": null,
            "metadata": {},
            "outputs": [],
            "source": [
                "statistics_gen = components.StatisticsGen(\n",
                "    examples=example_gen.outputs[\"examples\"]\n",
                ")\n",
                "context.run(statistics_gen)"
            ]
        },
        {
            "cell_type": "code",
            "execution_count": null,
            "metadata": {},
            "outputs": [],
            "source": [
                "context.show(statistics_gen.outputs[\"statistics\"])"
            ]
        },
        {
            "cell_type": "code",
            "execution_count": null,
            "metadata": {},
            "outputs": [],
            "source": [
                "schema_gen = components.SchemaGen(\n",
                "    statistics=statistics_gen.outputs[\"statistics\"]\n",
                ")\n",
                "context.run(schema_gen)"
            ]
        },
        {
            "cell_type": "code",
            "execution_count": null,
            "metadata": {},
            "outputs": [],
            "source": [
                "example_validator = components.ExampleValidator(\n",
                "    statistics=statistics_gen.outputs[\"statistics\"],\n",
                "    schema=schema_gen.outputs[\"schema\"],\n",
                ")\n",
                "context.run(example_validator)"
            ]
        },
        {
            "cell_type": "code",
            "execution_count": null,
            "metadata": {},
            "outputs": [],
            "source": [
                "context.show(example_validator.outputs[\"anomalies\"])\n"
            ]
        },
        {
            "cell_type": "code",
            "execution_count": null,
            "metadata": {},
            "outputs": [],
            "source": [
                "TRANSFORM_MODULE_FILE = \"modules/transform.py\""
            ]
        },
        {
            "cell_type": "code",
            "execution_count": null,
            "metadata": {},
            "outputs": [],
            "source": [
                "transform = components.Transform(\n",
                "    examples=example_gen.outputs[\"examples\"],\n",
                "    schema=schema_gen.outputs[\"schema\"],\n",
                "    module_file=os.path.abspath(TRANSFORM_MODULE_FILE)\n",
                ")\n",
                "context.run(transform)"
            ]
        },
        {
            "cell_type": "code",
            "execution_count": null,
            "metadata": {},
            "outputs": [],
            "source": [
                "context.show(transform.outputs[\"post_transform_schema\"])"
            ]
        },
        {
            "cell_type": "code",
            "execution_count": null,
            "metadata": {},
            "outputs": [],
            "source": [
                "TRAINER_MODULE_FILE = \"modules/trainer.py\""
            ]
        },
        {
            "cell_type": "code",
            "execution_count": null,
            "metadata": {},
            "outputs": [],
            "source": [
                "trainer = components.Trainer(\n",
                "    module_file=os.path.abspath(TRAINER_MODULE_FILE),\n",
                "    examples=transform.outputs[\"transformed_examples\"],\n",
                "    transform_graph=transform.outputs[\"transform_graph\"],\n",
                "    schema=transform.outputs[\"post_transform_schema\"],\n",
                "    train_args=trainer_pb2.TrainArgs(\n",
                "        splits=[\"train\"], \n",
                "        num_steps=2000,\n",
                "    ),\n",
                "    eval_args=trainer_pb2.EvalArgs(\n",
                "        splits=[\"eval\"],\n",
                "        num_steps=1200,\n",
                "    ),\n",
                "    custom_config={\"epochs\": 5}\n",
                ")\n",
                "\n",
                "context.run(trainer)"
            ]
        },
        {
            "cell_type": "code",
            "execution_count": null,
            "metadata": {},
            "outputs": [],
            "source": [
                "pusher = components.Pusher(\n",
                "    model=trainer.outputs[\"model\"],\n",
                "    push_destination=pusher_pb2.PushDestination(\n",
                "        filesystem=pusher_pb2.PushDestination.Filesystem(\n",
                "            base_directory=os.path.join(\n",
                "                SERVING_MODEL_DIR, \"movie-recommender\"\n",
                "            ),\n",
                "        )\n",
                "    )\n",
                ")\n",
                "\n",
                "context.run(pusher)"
            ]
        }
    ],
    "metadata": {
        "kernelspec": {
            "display_name": "Python 3.8.0 ('movies-rec')",
            "language": "python",
            "name": "python3"
        },
        "language_info": {
            "codemirror_mode": {
                "name": "ipython",
                "version": 3
            },
            "file_extension": ".py",
            "mimetype": "text/x-python",
            "name": "python",
            "nbconvert_exporter": "python",
            "pygments_lexer": "ipython3",
            "version": "3.8.0"
        },
        "orig_nbformat": 4,
        "vscode": {
            "interpreter": {
                "hash": "c8bee75823cf711cdc108f50355468f4211d8df5db436ac62360d8c22fcdec6c"
            }
        }
    },
    "nbformat": 4,
    "nbformat_minor": 2
}
