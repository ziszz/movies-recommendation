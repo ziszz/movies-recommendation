{
    "cells": [
        {
            "cell_type": "code",
            "execution_count": 6,
            "metadata": {},
            "outputs": [],
            "source": [
                "import os\n",
                "import glob\n",
                "import tensorflow as tf\n",
                "from absl import logging\n",
                "from modules import components, pipeline\n",
                "from tfx.orchestration.beam.beam_dag_runner import BeamDagRunner"
            ]
        },
        {
            "cell_type": "code",
            "execution_count": 31,
            "metadata": {},
            "outputs": [],
            "source": [
                "PIPELINE_NAME = \"movie-recommender-pipeline\"\n",
                "\n",
                "# pipeline inputs\n",
                "DATA_ROOT = \"data/ratings\"\n",
                "TRANSFORM_MODULE_FILE = \"modules/transform.py\"\n",
                "TUNER_MODULE_FILE = \"modules/tuner.py\"\n",
                "TRAINER_MODULE_FILE = \"modules/trainer.py\"\n",
                "\n",
                "# pipeline outputs\n",
                "OUTPUT_BASE = \"outputs\"\n",
                "\n",
                "serving_model_dir = os.path.join(OUTPUT_BASE, \"serving_model\")\n",
                "pipeline_root = os.path.join(OUTPUT_BASE, PIPELINE_NAME)\n",
                "metadata_path = os.path.join(pipeline_root, \"metadata.sqlite\")"
            ]
        },
        {
            "cell_type": "code",
            "execution_count": 3,
            "metadata": {},
            "outputs": [
                {
                    "data": {
                        "application/javascript": "\n        if (typeof window.interactive_beam_jquery == 'undefined') {\n          var jqueryScript = document.createElement('script');\n          jqueryScript.src = 'https://code.jquery.com/jquery-3.4.1.slim.min.js';\n          jqueryScript.type = 'text/javascript';\n          jqueryScript.onload = function() {\n            var datatableScript = document.createElement('script');\n            datatableScript.src = 'https://cdn.datatables.net/1.10.20/js/jquery.dataTables.min.js';\n            datatableScript.type = 'text/javascript';\n            datatableScript.onload = function() {\n              window.interactive_beam_jquery = jQuery.noConflict(true);\n              window.interactive_beam_jquery(document).ready(function($){\n                \n              });\n            }\n            document.head.appendChild(datatableScript);\n          };\n          document.head.appendChild(jqueryScript);\n        } else {\n          window.interactive_beam_jquery(document).ready(function($){\n            \n          });\n        }"
                    },
                    "metadata": {},
                    "output_type": "display_data"
                },
                {
                    "name": "stderr",
                    "output_type": "stream",
                    "text": [
                        "WARNING:absl:ContextQuery.property_predicate is not supported.\n",
                        "WARNING:absl:ArtifactQuery.property_predicate is not supported.\n",
                        "WARNING:absl:ContextQuery.property_predicate is not supported.\n",
                        "WARNING:absl:ContextQuery.property_predicate is not supported.\n",
                        "WARNING:absl:ContextQuery.property_predicate is not supported.\n",
                        "WARNING:absl:ContextQuery.property_predicate is not supported.\n",
                        "WARNING:absl:ArtifactQuery.property_predicate is not supported.\n",
                        "WARNING:absl:ContextQuery.property_predicate is not supported.\n",
                        "WARNING:absl:ContextQuery.property_predicate is not supported.\n",
                        "WARNING:absl:ContextQuery.property_predicate is not supported.\n",
                        "WARNING:absl:ArtifactQuery.property_predicate is not supported.\n",
                        "WARNING:absl:ContextQuery.property_predicate is not supported.\n",
                        "WARNING:absl:ContextQuery.property_predicate is not supported.\n",
                        "WARNING:absl:ContextQuery.property_predicate is not supported.\n",
                        "WARNING:absl:ArtifactQuery.property_predicate is not supported.\n",
                        "WARNING:absl:ContextQuery.property_predicate is not supported.\n",
                        "WARNING:absl:ContextQuery.property_predicate is not supported.\n",
                        "WARNING:absl:ContextQuery.property_predicate is not supported.\n",
                        "WARNING:absl:ArtifactQuery.property_predicate is not supported.\n",
                        "WARNING:absl:ContextQuery.property_predicate is not supported.\n",
                        "WARNING:absl:ContextQuery.property_predicate is not supported.\n",
                        "WARNING:absl:ContextQuery.property_predicate is not supported.\n",
                        "WARNING:absl:ArtifactQuery.property_predicate is not supported.\n",
                        "WARNING:absl:ContextQuery.property_predicate is not supported.\n",
                        "WARNING:absl:ContextQuery.property_predicate is not supported.\n",
                        "WARNING:absl:ContextQuery.property_predicate is not supported.\n",
                        "WARNING:absl:ArtifactQuery.property_predicate is not supported.\n"
                    ]
                },
                {
                    "name": "stdout",
                    "output_type": "stream",
                    "text": [
                        "WARNING:tensorflow:From c:\\Users\\Zis\\anaconda3\\envs\\movies-rec\\lib\\site-packages\\tensorflow_transform\\tf_utils.py:325: Tensor.experimental_ref (from tensorflow.python.framework.ops) is deprecated and will be removed in a future version.\n",
                        "Instructions for updating:\n",
                        "Use ref() instead.\n"
                    ]
                },
                {
                    "name": "stderr",
                    "output_type": "stream",
                    "text": [
                        "WARNING:tensorflow:From c:\\Users\\Zis\\anaconda3\\envs\\movies-rec\\lib\\site-packages\\tensorflow_transform\\tf_utils.py:325: Tensor.experimental_ref (from tensorflow.python.framework.ops) is deprecated and will be removed in a future version.\n",
                        "Instructions for updating:\n",
                        "Use ref() instead.\n",
                        "WARNING:root:This output type hint will be ignored and not used for type-checking purposes. Typically, output type hints for a PTransform are single (or nested) types wrapped by a PCollection, PDone, or None. Got: Tuple[Dict[str, Union[NoneType, _Dataset]], Union[Dict[str, Dict[str, PCollection]], NoneType], int] instead.\n",
                        "WARNING:absl:Tables initialized inside a tf.function  will be re-initialized on every invocation of the function. This  re-initialization can have significant impact on performance. Consider lifting  them out of the graph context using  `tf.init_scope`.: compute_and_apply_vocabulary/apply_vocab/text_file_init/InitializeTableFromTextFileV2\n",
                        "WARNING:absl:Tables initialized inside a tf.function  will be re-initialized on every invocation of the function. This  re-initialization can have significant impact on performance. Consider lifting  them out of the graph context using  `tf.init_scope`.: compute_and_apply_vocabulary_1/apply_vocab/text_file_init/InitializeTableFromTextFileV2\n",
                        "WARNING:absl:Tables initialized inside a tf.function  will be re-initialized on every invocation of the function. This  re-initialization can have significant impact on performance. Consider lifting  them out of the graph context using  `tf.init_scope`.: compute_and_apply_vocabulary/apply_vocab/text_file_init/InitializeTableFromTextFileV2\n",
                        "WARNING:absl:Tables initialized inside a tf.function  will be re-initialized on every invocation of the function. This  re-initialization can have significant impact on performance. Consider lifting  them out of the graph context using  `tf.init_scope`.: compute_and_apply_vocabulary_1/apply_vocab/text_file_init/InitializeTableFromTextFileV2\n",
                        "WARNING:root:This output type hint will be ignored and not used for type-checking purposes. Typically, output type hints for a PTransform are single (or nested) types wrapped by a PCollection, PDone, or None. Got: Tuple[Dict[str, Union[NoneType, _Dataset]], Union[Dict[str, Dict[str, PCollection]], NoneType], int] instead.\n",
                        "WARNING:root:This input type hint will be ignored and not used for type-checking purposes. Typically, input type hints for a PTransform are single (or nested) types wrapped by a PCollection, or PBegin. Got: Dict[DatasetKey, DatasetCache] instead.\n",
                        "WARNING:root:This output type hint will be ignored and not used for type-checking purposes. Typically, output type hints for a PTransform are single (or nested) types wrapped by a PCollection, PDone, or None. Got: List[PDone] instead.\n",
                        "WARNING:root:This input type hint will be ignored and not used for type-checking purposes. Typically, input type hints for a PTransform are single (or nested) types wrapped by a PCollection, or PBegin. Got: Dict[DatasetKey, DatasetCache] instead.\n",
                        "WARNING:root:This output type hint will be ignored and not used for type-checking purposes. Typically, output type hints for a PTransform are single (or nested) types wrapped by a PCollection, PDone, or None. Got: List[PDone] instead.\n"
                    ]
                },
                {
                    "name": "stdout",
                    "output_type": "stream",
                    "text": [
                        "INFO:tensorflow:Assets written to: outputs\\movie-recommender-pipeline\\Transform\\transform_graph\\53\\.temp_path\\tftransform_tmp\\798134d3f4f74b7596c10f1d22c304b5\\assets\n"
                    ]
                },
                {
                    "name": "stderr",
                    "output_type": "stream",
                    "text": [
                        "INFO:tensorflow:Assets written to: outputs\\movie-recommender-pipeline\\Transform\\transform_graph\\53\\.temp_path\\tftransform_tmp\\798134d3f4f74b7596c10f1d22c304b5\\assets\n",
                        "WARNING:apache_beam.io.tfrecordio:Couldn't find python-snappy so the implementation of _TFRecordUtil._masked_crc32c is not as fast as it could be.\n"
                    ]
                },
                {
                    "name": "stdout",
                    "output_type": "stream",
                    "text": [
                        "INFO:tensorflow:struct2tensor is not available.\n"
                    ]
                },
                {
                    "name": "stderr",
                    "output_type": "stream",
                    "text": [
                        "INFO:tensorflow:struct2tensor is not available.\n"
                    ]
                },
                {
                    "name": "stdout",
                    "output_type": "stream",
                    "text": [
                        "INFO:tensorflow:tensorflow_decision_forests is not available.\n"
                    ]
                },
                {
                    "name": "stderr",
                    "output_type": "stream",
                    "text": [
                        "INFO:tensorflow:tensorflow_decision_forests is not available.\n"
                    ]
                },
                {
                    "name": "stdout",
                    "output_type": "stream",
                    "text": [
                        "INFO:tensorflow:tensorflow_text is not available.\n"
                    ]
                },
                {
                    "name": "stderr",
                    "output_type": "stream",
                    "text": [
                        "INFO:tensorflow:tensorflow_text is not available.\n"
                    ]
                },
                {
                    "name": "stdout",
                    "output_type": "stream",
                    "text": [
                        "INFO:tensorflow:Assets written to: outputs\\movie-recommender-pipeline\\Transform\\transform_graph\\53\\.temp_path\\tftransform_tmp\\9cb36d8a05f24860a967773a92bf4370\\assets\n"
                    ]
                },
                {
                    "name": "stderr",
                    "output_type": "stream",
                    "text": [
                        "INFO:tensorflow:Assets written to: outputs\\movie-recommender-pipeline\\Transform\\transform_graph\\53\\.temp_path\\tftransform_tmp\\9cb36d8a05f24860a967773a92bf4370\\assets\n"
                    ]
                },
                {
                    "name": "stdout",
                    "output_type": "stream",
                    "text": [
                        "INFO:tensorflow:struct2tensor is not available.\n"
                    ]
                },
                {
                    "name": "stderr",
                    "output_type": "stream",
                    "text": [
                        "INFO:tensorflow:struct2tensor is not available.\n"
                    ]
                },
                {
                    "name": "stdout",
                    "output_type": "stream",
                    "text": [
                        "INFO:tensorflow:tensorflow_decision_forests is not available.\n"
                    ]
                },
                {
                    "name": "stderr",
                    "output_type": "stream",
                    "text": [
                        "INFO:tensorflow:tensorflow_decision_forests is not available.\n"
                    ]
                },
                {
                    "name": "stdout",
                    "output_type": "stream",
                    "text": [
                        "INFO:tensorflow:tensorflow_text is not available.\n"
                    ]
                },
                {
                    "name": "stderr",
                    "output_type": "stream",
                    "text": [
                        "INFO:tensorflow:tensorflow_text is not available.\n"
                    ]
                },
                {
                    "name": "stdout",
                    "output_type": "stream",
                    "text": [
                        "INFO:tensorflow:struct2tensor is not available.\n"
                    ]
                },
                {
                    "name": "stderr",
                    "output_type": "stream",
                    "text": [
                        "INFO:tensorflow:struct2tensor is not available.\n"
                    ]
                },
                {
                    "name": "stdout",
                    "output_type": "stream",
                    "text": [
                        "INFO:tensorflow:tensorflow_decision_forests is not available.\n"
                    ]
                },
                {
                    "name": "stderr",
                    "output_type": "stream",
                    "text": [
                        "INFO:tensorflow:tensorflow_decision_forests is not available.\n"
                    ]
                },
                {
                    "name": "stdout",
                    "output_type": "stream",
                    "text": [
                        "INFO:tensorflow:tensorflow_text is not available.\n"
                    ]
                },
                {
                    "name": "stderr",
                    "output_type": "stream",
                    "text": [
                        "INFO:tensorflow:tensorflow_text is not available.\n",
                        "WARNING:absl:ContextQuery.property_predicate is not supported.\n",
                        "WARNING:absl:ContextQuery.property_predicate is not supported.\n",
                        "WARNING:absl:ContextQuery.property_predicate is not supported.\n",
                        "WARNING:absl:ArtifactQuery.property_predicate is not supported.\n",
                        "WARNING:absl:ContextQuery.property_predicate is not supported.\n",
                        "WARNING:absl:ContextQuery.property_predicate is not supported.\n",
                        "WARNING:absl:ContextQuery.property_predicate is not supported.\n",
                        "WARNING:absl:ArtifactQuery.property_predicate is not supported.\n",
                        "WARNING:absl:ContextQuery.property_predicate is not supported.\n",
                        "WARNING:absl:ContextQuery.property_predicate is not supported.\n",
                        "WARNING:absl:ContextQuery.property_predicate is not supported.\n",
                        "WARNING:absl:ArtifactQuery.property_predicate is not supported.\n",
                        "WARNING:absl:Examples artifact does not have payload_format custom property. Falling back to FORMAT_TF_EXAMPLE\n",
                        "WARNING:absl:Examples artifact does not have payload_format custom property. Falling back to FORMAT_TF_EXAMPLE\n",
                        "WARNING:absl:Examples artifact does not have payload_format custom property. Falling back to FORMAT_TF_EXAMPLE\n"
                    ]
                },
                {
                    "name": "stdout",
                    "output_type": "stream",
                    "text": [
                        "Epoch 1/5\n",
                        "500/500 [==============================] - ETA: 0s - root_mean_squared_error: 0.9752 - loss: 0.9510 - regularization_loss: 0.3942 - total_loss: 1.3452\n",
                        "Epoch 1: val_root_mean_squared_error improved from inf to 0.94369, saving model to outputs\\movie-recommender-pipeline\\Trainer\\model\\54\\Format-Serving\n"
                    ]
                },
                {
                    "name": "stderr",
                    "output_type": "stream",
                    "text": [
                        "WARNING:absl:Found untraced functions such as ranking_layer_call_fn, ranking_layer_call_and_return_conditional_losses while saving (showing 2 of 2). These functions will not be directly callable after loading.\n"
                    ]
                },
                {
                    "name": "stdout",
                    "output_type": "stream",
                    "text": [
                        "INFO:tensorflow:Assets written to: outputs\\movie-recommender-pipeline\\Trainer\\model\\54\\Format-Serving\\assets\n"
                    ]
                },
                {
                    "name": "stderr",
                    "output_type": "stream",
                    "text": [
                        "INFO:tensorflow:Assets written to: outputs\\movie-recommender-pipeline\\Trainer\\model\\54\\Format-Serving\\assets\n"
                    ]
                },
                {
                    "name": "stdout",
                    "output_type": "stream",
                    "text": [
                        "500/500 [==============================] - 29s 55ms/step - root_mean_squared_error: 0.9752 - loss: 0.9505 - regularization_loss: 0.3940 - total_loss: 1.3446 - val_root_mean_squared_error: 0.9437 - val_loss: 0.8242 - val_regularization_loss: 0.2979 - val_total_loss: 1.1221\n",
                        "Epoch 2/5\n",
                        "500/500 [==============================] - ETA: 0s - root_mean_squared_error: 0.9179 - loss: 0.8425 - regularization_loss: 0.2352 - total_loss: 1.0777\n",
                        "Epoch 2: val_root_mean_squared_error improved from 0.94369 to 0.91636, saving model to outputs\\movie-recommender-pipeline\\Trainer\\model\\54\\Format-Serving\n"
                    ]
                },
                {
                    "name": "stderr",
                    "output_type": "stream",
                    "text": [
                        "WARNING:absl:Found untraced functions such as ranking_layer_call_fn, ranking_layer_call_and_return_conditional_losses while saving (showing 2 of 2). These functions will not be directly callable after loading.\n"
                    ]
                },
                {
                    "name": "stdout",
                    "output_type": "stream",
                    "text": [
                        "INFO:tensorflow:Assets written to: outputs\\movie-recommender-pipeline\\Trainer\\model\\54\\Format-Serving\\assets\n"
                    ]
                },
                {
                    "name": "stderr",
                    "output_type": "stream",
                    "text": [
                        "INFO:tensorflow:Assets written to: outputs\\movie-recommender-pipeline\\Trainer\\model\\54\\Format-Serving\\assets\n"
                    ]
                },
                {
                    "name": "stdout",
                    "output_type": "stream",
                    "text": [
                        "500/500 [==============================] - 30s 60ms/step - root_mean_squared_error: 0.9179 - loss: 0.8425 - regularization_loss: 0.2351 - total_loss: 1.0775 - val_root_mean_squared_error: 0.9164 - val_loss: 0.9960 - val_regularization_loss: 0.1846 - val_total_loss: 1.1805\n",
                        "Epoch 3/5\n",
                        "500/500 [==============================] - ETA: 0s - root_mean_squared_error: 0.8914 - loss: 0.7946 - regularization_loss: 0.1515 - total_loss: 0.9460\n",
                        "Epoch 3: val_root_mean_squared_error improved from 0.91636 to 0.91375, saving model to outputs\\movie-recommender-pipeline\\Trainer\\model\\54\\Format-Serving\n"
                    ]
                },
                {
                    "name": "stderr",
                    "output_type": "stream",
                    "text": [
                        "WARNING:absl:Found untraced functions such as ranking_layer_call_fn, ranking_layer_call_and_return_conditional_losses while saving (showing 2 of 2). These functions will not be directly callable after loading.\n"
                    ]
                },
                {
                    "name": "stdout",
                    "output_type": "stream",
                    "text": [
                        "INFO:tensorflow:Assets written to: outputs\\movie-recommender-pipeline\\Trainer\\model\\54\\Format-Serving\\assets\n"
                    ]
                },
                {
                    "name": "stderr",
                    "output_type": "stream",
                    "text": [
                        "INFO:tensorflow:Assets written to: outputs\\movie-recommender-pipeline\\Trainer\\model\\54\\Format-Serving\\assets\n"
                    ]
                },
                {
                    "name": "stdout",
                    "output_type": "stream",
                    "text": [
                        "500/500 [==============================] - 31s 61ms/step - root_mean_squared_error: 0.8914 - loss: 0.7947 - regularization_loss: 0.1514 - total_loss: 0.9461 - val_root_mean_squared_error: 0.9137 - val_loss: 0.9529 - val_regularization_loss: 0.1247 - val_total_loss: 1.0776\n",
                        "Epoch 4/5\n",
                        "500/500 [==============================] - ETA: 0s - root_mean_squared_error: 0.8860 - loss: 0.7850 - regularization_loss: 0.1070 - total_loss: 0.8920\n",
                        "Epoch 4: val_root_mean_squared_error did not improve from 0.91375\n",
                        "500/500 [==============================] - 39s 78ms/step - root_mean_squared_error: 0.8860 - loss: 0.7852 - regularization_loss: 0.1070 - total_loss: 0.8922 - val_root_mean_squared_error: 0.9312 - val_loss: 0.8161 - val_regularization_loss: 0.0946 - val_total_loss: 0.9107\n",
                        "Epoch 5/5\n",
                        "500/500 [==============================] - ETA: 0s - root_mean_squared_error: 0.8860 - loss: 0.7850 - regularization_loss: 0.0841 - total_loss: 0.8691\n",
                        "Epoch 5: val_root_mean_squared_error improved from 0.91375 to 0.90631, saving model to outputs\\movie-recommender-pipeline\\Trainer\\model\\54\\Format-Serving\n"
                    ]
                },
                {
                    "name": "stderr",
                    "output_type": "stream",
                    "text": [
                        "WARNING:absl:Found untraced functions such as ranking_layer_call_fn, ranking_layer_call_and_return_conditional_losses while saving (showing 2 of 2). These functions will not be directly callable after loading.\n"
                    ]
                },
                {
                    "name": "stdout",
                    "output_type": "stream",
                    "text": [
                        "INFO:tensorflow:Assets written to: outputs\\movie-recommender-pipeline\\Trainer\\model\\54\\Format-Serving\\assets\n"
                    ]
                },
                {
                    "name": "stderr",
                    "output_type": "stream",
                    "text": [
                        "INFO:tensorflow:Assets written to: outputs\\movie-recommender-pipeline\\Trainer\\model\\54\\Format-Serving\\assets\n"
                    ]
                },
                {
                    "name": "stdout",
                    "output_type": "stream",
                    "text": [
                        "500/500 [==============================] - 38s 77ms/step - root_mean_squared_error: 0.8860 - loss: 0.7851 - regularization_loss: 0.0841 - total_loss: 0.8692 - val_root_mean_squared_error: 0.9063 - val_loss: 0.7573 - val_regularization_loss: 0.0760 - val_total_loss: 0.8332\n",
                        "INFO:tensorflow:struct2tensor is not available.\n"
                    ]
                },
                {
                    "name": "stderr",
                    "output_type": "stream",
                    "text": [
                        "INFO:tensorflow:struct2tensor is not available.\n"
                    ]
                },
                {
                    "name": "stdout",
                    "output_type": "stream",
                    "text": [
                        "INFO:tensorflow:tensorflow_decision_forests is not available.\n"
                    ]
                },
                {
                    "name": "stderr",
                    "output_type": "stream",
                    "text": [
                        "INFO:tensorflow:tensorflow_decision_forests is not available.\n"
                    ]
                },
                {
                    "name": "stdout",
                    "output_type": "stream",
                    "text": [
                        "INFO:tensorflow:tensorflow_text is not available.\n"
                    ]
                },
                {
                    "name": "stderr",
                    "output_type": "stream",
                    "text": [
                        "INFO:tensorflow:tensorflow_text is not available.\n",
                        "WARNING:absl:Found untraced functions such as ranking_layer_call_fn, ranking_layer_call_and_return_conditional_losses while saving (showing 2 of 2). These functions will not be directly callable after loading.\n"
                    ]
                },
                {
                    "name": "stdout",
                    "output_type": "stream",
                    "text": [
                        "INFO:tensorflow:Assets written to: outputs\\movie-recommender-pipeline\\Trainer\\model\\54\\Format-Serving\\assets\n"
                    ]
                },
                {
                    "name": "stderr",
                    "output_type": "stream",
                    "text": [
                        "INFO:tensorflow:Assets written to: outputs\\movie-recommender-pipeline\\Trainer\\model\\54\\Format-Serving\\assets\n",
                        "WARNING:absl:ContextQuery.property_predicate is not supported.\n",
                        "WARNING:absl:ContextQuery.property_predicate is not supported.\n",
                        "WARNING:absl:ContextQuery.property_predicate is not supported.\n",
                        "WARNING:absl:ArtifactQuery.property_predicate is not supported.\n",
                        "WARNING:absl:Pusher is going to push the model without validation. Consider using Evaluator or InfraValidator in your pipeline.\n"
                    ]
                }
            ],
            "source": [
                "components = components.init_components(\n",
                "    data_dir=DATA_ROOT,\n",
                "    transform_module=TRANSFORM_MODULE_FILE,\n",
                "    # tuner_module=TUNER_MODULE_FILE,\n",
                "    trainer_module=TRAINER_MODULE_FILE,\n",
                "    train_steps=500,\n",
                "    eval_steps=100,\n",
                "    serving_model_dir=serving_model_dir,\n",
                "    epochs=5,\n",
                ")\n",
                "\n",
                "pipeline = pipeline.init_pipeline(\n",
                "    pipeline_root=pipeline_root,\n",
                "    pipeline_name=PIPELINE_NAME,\n",
                "    metadata_path=metadata_path,\n",
                "    components=components,\n",
                ")\n",
                "\n",
                "BeamDagRunner().run(pipeline)"
            ]
        },
        {
            "cell_type": "code",
            "execution_count": 32,
            "metadata": {},
            "outputs": [
                {
                    "name": "stdout",
                    "output_type": "stream",
                    "text": [
                        "[3.4986863]\n"
                    ]
                }
            ],
            "source": [
                "try:\n",
                "    serving_model_dir = os.path.join(serving_model_dir, \"movie-recommender\")\n",
                "    loaded = tf.saved_model.load(max(glob.glob(os.path.join(serving_model_dir, '*/')), key=os.path.getmtime))\n",
                "    print(loaded({'userid_xf': [[42]], 'movieid_xf': [[15]]}).numpy()[0][0])\n",
                "except BaseException as err:\n",
                "    logging.error(f\"ERROR IN model predict:\\n{err}\")"
            ]
        }
    ],
    "metadata": {
        "kernelspec": {
            "display_name": "Python 3.8.0 ('movies-rec')",
            "language": "python",
            "name": "python3"
        },
        "language_info": {
            "codemirror_mode": {
                "name": "ipython",
                "version": 3
            },
            "file_extension": ".py",
            "mimetype": "text/x-python",
            "name": "python",
            "nbconvert_exporter": "python",
            "pygments_lexer": "ipython3",
            "version": "3.8.0"
        },
        "orig_nbformat": 4,
        "vscode": {
            "interpreter": {
                "hash": "c8bee75823cf711cdc108f50355468f4211d8df5db436ac62360d8c22fcdec6c"
            }
        }
    },
    "nbformat": 4,
    "nbformat_minor": 2
}
