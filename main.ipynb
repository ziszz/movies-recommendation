{
    "cells": [
        {
            "cell_type": "code",
            "execution_count": 1,
            "metadata": {},
            "outputs": [
                {
                    "name": "stderr",
                    "output_type": "stream",
                    "text": [
                        "c:\\Users\\zis\\anaconda3\\envs\\movies-rec\\lib\\site-packages\\paramiko\\transport.py:219: CryptographyDeprecationWarning: Blowfish has been deprecated\n",
                        "  \"class\": algorithms.Blowfish,\n"
                    ]
                }
            ],
            "source": [
                "import os\n",
                "import glob\n",
                "import tensorflow as tf\n",
                "from absl import logging\n",
                "from modules import components, pipeline\n",
                "from tfx.orchestration.beam.beam_dag_runner import BeamDagRunner"
            ]
        },
        {
            "cell_type": "code",
            "execution_count": 2,
            "metadata": {},
            "outputs": [],
            "source": [
                "PIPELINE_NAME = \"movie-recommender-pipeline\"\n",
                "\n",
                "# pipeline inputs\n",
                "DATA_ROOT = \"data/ratings\"\n",
                "TRANSFORM_MODULE_FILE = \"modules/transform.py\"\n",
                "TUNER_MODULE_FILE = \"modules/tuner.py\"\n",
                "TRAINER_MODULE_FILE = \"modules/trainer.py\"\n",
                "\n",
                "# pipeline outputs\n",
                "OUTPUT_BASE = \"outputs\"\n",
                "\n",
                "serving_model_dir = os.path.join(OUTPUT_BASE, \"serving_model\")\n",
                "pipeline_root = os.path.join(OUTPUT_BASE, PIPELINE_NAME)\n",
                "metadata_path = os.path.join(pipeline_root, \"metadata.sqlite\")"
            ]
        },
        {
            "cell_type": "code",
            "execution_count": 3,
            "metadata": {},
            "outputs": [
                {
                    "name": "stdout",
                    "output_type": "stream",
                    "text": [
                        "Trial 30 Complete [00h 01m 48s]\n",
                        "multi_objective: 1.7103838920593262\n",
                        "\n",
                        "Best multi_objective So Far: 1.4342665076255798\n",
                        "Total elapsed time: 00h 19m 29s\n",
                        "INFO:tensorflow:Oracle triggered exit\n"
                    ]
                },
                {
                    "name": "stderr",
                    "output_type": "stream",
                    "text": [
                        "INFO:tensorflow:Oracle triggered exit\n"
                    ]
                },
                {
                    "name": "stdout",
                    "output_type": "stream",
                    "text": [
                        "Results summary\n",
                        "Results in outputs\\movie-recommender-pipeline\\Tuner\\.system\\executor_execution\\7\\.temp\\7\\kt_hyperband\n",
                        "Showing 10 best trials\n",
                        "<keras_tuner.engine.objective.MultiObjective object at 0x0000021B3EC091F0>\n",
                        "Trial summary\n",
                        "Hyperparameters:\n",
                        "learning_rate: 0.0001\n",
                        "embedding_dims: 400\n",
                        "l2_regularizers: 0.001\n",
                        "num_hidden_layers: 3\n",
                        "dense_unit: 104\n",
                        "dropout_rate: 0.4\n",
                        "tuner/epochs: 10\n",
                        "tuner/initial_epoch: 0\n",
                        "tuner/bracket: 0\n",
                        "tuner/round: 0\n",
                        "Score: 1.4342665076255798\n",
                        "Trial summary\n",
                        "Hyperparameters:\n",
                        "learning_rate: 0.001\n",
                        "embedding_dims: 1008\n",
                        "l2_regularizers: 0.0001\n",
                        "num_hidden_layers: 3\n",
                        "dense_unit: 40\n",
                        "dropout_rate: 0.30000000000000004\n",
                        "tuner/epochs: 10\n",
                        "tuner/initial_epoch: 4\n",
                        "tuner/bracket: 2\n",
                        "tuner/round: 2\n",
                        "tuner/trial_id: 0012\n",
                        "Score: 1.5426243543624878\n",
                        "Trial summary\n",
                        "Hyperparameters:\n",
                        "learning_rate: 0.001\n",
                        "embedding_dims: 1008\n",
                        "l2_regularizers: 0.01\n",
                        "num_hidden_layers: 3\n",
                        "dense_unit: 168\n",
                        "dropout_rate: 0.7000000000000001\n",
                        "tuner/epochs: 4\n",
                        "tuner/initial_epoch: 0\n",
                        "tuner/bracket: 1\n",
                        "tuner/round: 0\n",
                        "Score: 1.5822893977165222\n",
                        "Trial summary\n",
                        "Hyperparameters:\n",
                        "learning_rate: 0.001\n",
                        "embedding_dims: 1008\n",
                        "l2_regularizers: 0.0001\n",
                        "num_hidden_layers: 3\n",
                        "dense_unit: 40\n",
                        "dropout_rate: 0.30000000000000004\n",
                        "tuner/epochs: 4\n",
                        "tuner/initial_epoch: 2\n",
                        "tuner/bracket: 2\n",
                        "tuner/round: 1\n",
                        "tuner/trial_id: 0003\n",
                        "Score: 1.6153672337532043\n",
                        "Trial summary\n",
                        "Hyperparameters:\n",
                        "learning_rate: 0.001\n",
                        "embedding_dims: 1008\n",
                        "l2_regularizers: 0.01\n",
                        "num_hidden_layers: 3\n",
                        "dense_unit: 168\n",
                        "dropout_rate: 0.7000000000000001\n",
                        "tuner/epochs: 10\n",
                        "tuner/initial_epoch: 4\n",
                        "tuner/bracket: 1\n",
                        "tuner/round: 1\n",
                        "tuner/trial_id: 0020\n",
                        "Score: 1.6349973678588867\n",
                        "Trial summary\n",
                        "Hyperparameters:\n",
                        "learning_rate: 0.0001\n",
                        "embedding_dims: 912\n",
                        "l2_regularizers: 0.001\n",
                        "num_hidden_layers: 1\n",
                        "dense_unit: 40\n",
                        "dropout_rate: 0.6\n",
                        "tuner/epochs: 10\n",
                        "tuner/initial_epoch: 0\n",
                        "tuner/bracket: 0\n",
                        "tuner/round: 0\n",
                        "Score: 1.6481106877326965\n",
                        "Trial summary\n",
                        "Hyperparameters:\n",
                        "learning_rate: 0.001\n",
                        "embedding_dims: 1008\n",
                        "l2_regularizers: 0.0001\n",
                        "num_hidden_layers: 3\n",
                        "dense_unit: 40\n",
                        "dropout_rate: 0.30000000000000004\n",
                        "tuner/epochs: 2\n",
                        "tuner/initial_epoch: 0\n",
                        "tuner/bracket: 2\n",
                        "tuner/round: 0\n",
                        "Score: 1.6826188564300537\n",
                        "Trial summary\n",
                        "Hyperparameters:\n",
                        "learning_rate: 0.01\n",
                        "embedding_dims: 720\n",
                        "l2_regularizers: 0.001\n",
                        "num_hidden_layers: 1\n",
                        "dense_unit: 136\n",
                        "dropout_rate: 0.6\n",
                        "tuner/epochs: 4\n",
                        "tuner/initial_epoch: 0\n",
                        "tuner/bracket: 1\n",
                        "tuner/round: 0\n",
                        "Score: 1.708523154258728\n",
                        "Trial summary\n",
                        "Hyperparameters:\n",
                        "learning_rate: 0.1\n",
                        "embedding_dims: 16\n",
                        "l2_regularizers: 0.0001\n",
                        "num_hidden_layers: 2\n",
                        "dense_unit: 40\n",
                        "dropout_rate: 0.30000000000000004\n",
                        "tuner/epochs: 2\n",
                        "tuner/initial_epoch: 0\n",
                        "tuner/bracket: 2\n",
                        "tuner/round: 0\n",
                        "Score: 1.708698809146881\n",
                        "Trial summary\n",
                        "Hyperparameters:\n",
                        "learning_rate: 0.0001\n",
                        "embedding_dims: 176\n",
                        "l2_regularizers: 0.01\n",
                        "num_hidden_layers: 1\n",
                        "dense_unit: 8\n",
                        "dropout_rate: 0.4\n",
                        "tuner/epochs: 10\n",
                        "tuner/initial_epoch: 0\n",
                        "tuner/bracket: 0\n",
                        "tuner/round: 0\n",
                        "Score: 1.7103838920593262\n"
                    ]
                },
                {
                    "name": "stderr",
                    "output_type": "stream",
                    "text": [
                        "WARNING:absl:ArtifactQuery.property_predicate is not supported.\n",
                        "WARNING:absl:ArtifactQuery.property_predicate is not supported.\n",
                        "WARNING:absl:ArtifactQuery.property_predicate is not supported.\n",
                        "WARNING:absl:ArtifactQuery.property_predicate is not supported.\n",
                        "WARNING:absl:Examples artifact does not have payload_format custom property. Falling back to FORMAT_TF_EXAMPLE\n",
                        "WARNING:absl:Examples artifact does not have payload_format custom property. Falling back to FORMAT_TF_EXAMPLE\n",
                        "WARNING:absl:Examples artifact does not have payload_format custom property. Falling back to FORMAT_TF_EXAMPLE\n"
                    ]
                },
                {
                    "name": "stdout",
                    "output_type": "stream",
                    "text": [
                        "Epoch 1/10\n",
                        "498/500 [============================>.] - ETA: 0s - root_mean_squared_error: 1.9872 - loss: 3.9492 - regularization_loss: 0.7896 - total_loss: 4.7388\n",
                        "Epoch 1: val_root_mean_squared_error improved from inf to 1.09967, saving model to outputs\\movie-recommender-pipeline\\Trainer\\model\\8\\Format-Serving\n"
                    ]
                },
                {
                    "name": "stderr",
                    "output_type": "stream",
                    "text": [
                        "WARNING:absl:Found untraced functions such as ranking_1_layer_call_fn, ranking_1_layer_call_and_return_conditional_losses while saving (showing 2 of 2). These functions will not be directly callable after loading.\n"
                    ]
                },
                {
                    "name": "stdout",
                    "output_type": "stream",
                    "text": [
                        "INFO:tensorflow:Assets written to: outputs\\movie-recommender-pipeline\\Trainer\\model\\8\\Format-Serving\\assets\n"
                    ]
                },
                {
                    "name": "stderr",
                    "output_type": "stream",
                    "text": [
                        "INFO:tensorflow:Assets written to: outputs\\movie-recommender-pipeline\\Trainer\\model\\8\\Format-Serving\\assets\n"
                    ]
                },
                {
                    "name": "stdout",
                    "output_type": "stream",
                    "text": [
                        "\n",
                        "Epoch 1: val_loss improved from inf to 1.13091, saving model to outputs\\movie-recommender-pipeline\\Trainer\\model\\8\\Format-Serving\n"
                    ]
                },
                {
                    "name": "stderr",
                    "output_type": "stream",
                    "text": [
                        "WARNING:absl:Found untraced functions such as ranking_1_layer_call_fn, ranking_1_layer_call_and_return_conditional_losses while saving (showing 2 of 2). These functions will not be directly callable after loading.\n"
                    ]
                },
                {
                    "name": "stdout",
                    "output_type": "stream",
                    "text": [
                        "INFO:tensorflow:Assets written to: outputs\\movie-recommender-pipeline\\Trainer\\model\\8\\Format-Serving\\assets\n"
                    ]
                },
                {
                    "name": "stderr",
                    "output_type": "stream",
                    "text": [
                        "INFO:tensorflow:Assets written to: outputs\\movie-recommender-pipeline\\Trainer\\model\\8\\Format-Serving\\assets\n"
                    ]
                },
                {
                    "name": "stdout",
                    "output_type": "stream",
                    "text": [
                        "500/500 [==============================] - 18s 34ms/step - root_mean_squared_error: 1.9843 - loss: 3.9321 - regularization_loss: 0.7883 - total_loss: 4.7203 - val_root_mean_squared_error: 1.0997 - val_loss: 1.1309 - val_regularization_loss: 0.5613 - val_total_loss: 1.6922\n",
                        "Epoch 2/10\n",
                        "497/500 [============================>.] - ETA: 0s - root_mean_squared_error: 0.9259 - loss: 0.8573 - regularization_loss: 0.5143 - total_loss: 1.3716\n",
                        "Epoch 2: val_root_mean_squared_error improved from 1.09967 to 0.92886, saving model to outputs\\movie-recommender-pipeline\\Trainer\\model\\8\\Format-Serving\n"
                    ]
                },
                {
                    "name": "stderr",
                    "output_type": "stream",
                    "text": [
                        "WARNING:absl:Found untraced functions such as ranking_1_layer_call_fn, ranking_1_layer_call_and_return_conditional_losses while saving (showing 2 of 2). These functions will not be directly callable after loading.\n"
                    ]
                },
                {
                    "name": "stdout",
                    "output_type": "stream",
                    "text": [
                        "INFO:tensorflow:Assets written to: outputs\\movie-recommender-pipeline\\Trainer\\model\\8\\Format-Serving\\assets\n"
                    ]
                },
                {
                    "name": "stderr",
                    "output_type": "stream",
                    "text": [
                        "INFO:tensorflow:Assets written to: outputs\\movie-recommender-pipeline\\Trainer\\model\\8\\Format-Serving\\assets\n"
                    ]
                },
                {
                    "name": "stdout",
                    "output_type": "stream",
                    "text": [
                        "\n",
                        "Epoch 2: val_loss improved from 1.13091 to 0.88838, saving model to outputs\\movie-recommender-pipeline\\Trainer\\model\\8\\Format-Serving\n"
                    ]
                },
                {
                    "name": "stderr",
                    "output_type": "stream",
                    "text": [
                        "WARNING:absl:Found untraced functions such as ranking_1_layer_call_fn, ranking_1_layer_call_and_return_conditional_losses while saving (showing 2 of 2). These functions will not be directly callable after loading.\n"
                    ]
                },
                {
                    "name": "stdout",
                    "output_type": "stream",
                    "text": [
                        "INFO:tensorflow:Assets written to: outputs\\movie-recommender-pipeline\\Trainer\\model\\8\\Format-Serving\\assets\n"
                    ]
                },
                {
                    "name": "stderr",
                    "output_type": "stream",
                    "text": [
                        "INFO:tensorflow:Assets written to: outputs\\movie-recommender-pipeline\\Trainer\\model\\8\\Format-Serving\\assets\n"
                    ]
                },
                {
                    "name": "stdout",
                    "output_type": "stream",
                    "text": [
                        "500/500 [==============================] - 17s 34ms/step - root_mean_squared_error: 0.9256 - loss: 0.8565 - regularization_loss: 0.5140 - total_loss: 1.3705 - val_root_mean_squared_error: 0.9289 - val_loss: 0.8884 - val_regularization_loss: 0.4731 - val_total_loss: 1.3615\n",
                        "Epoch 3/10\n",
                        "500/500 [==============================] - ETA: 0s - root_mean_squared_error: 0.8710 - loss: 0.7587 - regularization_loss: 0.4402 - total_loss: 1.1989\n",
                        "Epoch 3: val_root_mean_squared_error improved from 0.92886 to 0.91568, saving model to outputs\\movie-recommender-pipeline\\Trainer\\model\\8\\Format-Serving\n"
                    ]
                },
                {
                    "name": "stderr",
                    "output_type": "stream",
                    "text": [
                        "WARNING:absl:Found untraced functions such as ranking_1_layer_call_fn, ranking_1_layer_call_and_return_conditional_losses while saving (showing 2 of 2). These functions will not be directly callable after loading.\n"
                    ]
                },
                {
                    "name": "stdout",
                    "output_type": "stream",
                    "text": [
                        "INFO:tensorflow:Assets written to: outputs\\movie-recommender-pipeline\\Trainer\\model\\8\\Format-Serving\\assets\n"
                    ]
                },
                {
                    "name": "stderr",
                    "output_type": "stream",
                    "text": [
                        "INFO:tensorflow:Assets written to: outputs\\movie-recommender-pipeline\\Trainer\\model\\8\\Format-Serving\\assets\n"
                    ]
                },
                {
                    "name": "stdout",
                    "output_type": "stream",
                    "text": [
                        "\n",
                        "Epoch 3: val_loss improved from 0.88838 to 0.66340, saving model to outputs\\movie-recommender-pipeline\\Trainer\\model\\8\\Format-Serving\n"
                    ]
                },
                {
                    "name": "stderr",
                    "output_type": "stream",
                    "text": [
                        "WARNING:absl:Found untraced functions such as ranking_1_layer_call_fn, ranking_1_layer_call_and_return_conditional_losses while saving (showing 2 of 2). These functions will not be directly callable after loading.\n"
                    ]
                },
                {
                    "name": "stdout",
                    "output_type": "stream",
                    "text": [
                        "INFO:tensorflow:Assets written to: outputs\\movie-recommender-pipeline\\Trainer\\model\\8\\Format-Serving\\assets\n"
                    ]
                },
                {
                    "name": "stderr",
                    "output_type": "stream",
                    "text": [
                        "INFO:tensorflow:Assets written to: outputs\\movie-recommender-pipeline\\Trainer\\model\\8\\Format-Serving\\assets\n"
                    ]
                },
                {
                    "name": "stdout",
                    "output_type": "stream",
                    "text": [
                        "500/500 [==============================] - 17s 34ms/step - root_mean_squared_error: 0.8710 - loss: 0.7582 - regularization_loss: 0.4401 - total_loss: 1.1983 - val_root_mean_squared_error: 0.9157 - val_loss: 0.6634 - val_regularization_loss: 0.4085 - val_total_loss: 1.0719\n",
                        "Epoch 4/10\n",
                        "499/500 [============================>.] - ETA: 0s - root_mean_squared_error: 0.8635 - loss: 0.7456 - regularization_loss: 0.3807 - total_loss: 1.1263\n",
                        "Epoch 4: val_root_mean_squared_error improved from 0.91568 to 0.90556, saving model to outputs\\movie-recommender-pipeline\\Trainer\\model\\8\\Format-Serving\n"
                    ]
                },
                {
                    "name": "stderr",
                    "output_type": "stream",
                    "text": [
                        "WARNING:absl:Found untraced functions such as ranking_1_layer_call_fn, ranking_1_layer_call_and_return_conditional_losses while saving (showing 2 of 2). These functions will not be directly callable after loading.\n"
                    ]
                },
                {
                    "name": "stdout",
                    "output_type": "stream",
                    "text": [
                        "INFO:tensorflow:Assets written to: outputs\\movie-recommender-pipeline\\Trainer\\model\\8\\Format-Serving\\assets\n"
                    ]
                },
                {
                    "name": "stderr",
                    "output_type": "stream",
                    "text": [
                        "INFO:tensorflow:Assets written to: outputs\\movie-recommender-pipeline\\Trainer\\model\\8\\Format-Serving\\assets\n"
                    ]
                },
                {
                    "name": "stdout",
                    "output_type": "stream",
                    "text": [
                        "\n",
                        "Epoch 4: val_loss did not improve from 0.66340\n",
                        "500/500 [==============================] - 13s 26ms/step - root_mean_squared_error: 0.8635 - loss: 0.7458 - regularization_loss: 0.3806 - total_loss: 1.1264 - val_root_mean_squared_error: 0.9056 - val_loss: 0.6652 - val_regularization_loss: 0.3572 - val_total_loss: 1.0224\n",
                        "Epoch 5/10\n",
                        "497/500 [============================>.] - ETA: 0s - root_mean_squared_error: 0.8605 - loss: 0.7404 - regularization_loss: 0.3328 - total_loss: 1.0732\n",
                        "Epoch 5: val_root_mean_squared_error improved from 0.90556 to 0.89953, saving model to outputs\\movie-recommender-pipeline\\Trainer\\model\\8\\Format-Serving\n"
                    ]
                },
                {
                    "name": "stderr",
                    "output_type": "stream",
                    "text": [
                        "WARNING:absl:Found untraced functions such as ranking_1_layer_call_fn, ranking_1_layer_call_and_return_conditional_losses while saving (showing 2 of 2). These functions will not be directly callable after loading.\n"
                    ]
                },
                {
                    "name": "stdout",
                    "output_type": "stream",
                    "text": [
                        "INFO:tensorflow:Assets written to: outputs\\movie-recommender-pipeline\\Trainer\\model\\8\\Format-Serving\\assets\n"
                    ]
                },
                {
                    "name": "stderr",
                    "output_type": "stream",
                    "text": [
                        "INFO:tensorflow:Assets written to: outputs\\movie-recommender-pipeline\\Trainer\\model\\8\\Format-Serving\\assets\n"
                    ]
                },
                {
                    "name": "stdout",
                    "output_type": "stream",
                    "text": [
                        "\n",
                        "Epoch 5: val_loss did not improve from 0.66340\n",
                        "500/500 [==============================] - 12s 24ms/step - root_mean_squared_error: 0.8605 - loss: 0.7406 - regularization_loss: 0.3327 - total_loss: 1.0733 - val_root_mean_squared_error: 0.8995 - val_loss: 0.7923 - val_regularization_loss: 0.3103 - val_total_loss: 1.1026\n",
                        "Epoch 6/10\n",
                        "500/500 [==============================] - ETA: 0s - root_mean_squared_error: 0.8523 - loss: 0.7263 - regularization_loss: 0.2936 - total_loss: 1.0200\n",
                        "Epoch 6: val_root_mean_squared_error did not improve from 0.89953\n",
                        "\n",
                        "Epoch 6: val_loss did not improve from 0.66340\n",
                        "500/500 [==============================] - 8s 16ms/step - root_mean_squared_error: 0.8523 - loss: 0.7262 - regularization_loss: 0.2936 - total_loss: 1.0198 - val_root_mean_squared_error: 0.9034 - val_loss: 0.7919 - val_regularization_loss: 0.2754 - val_total_loss: 1.0673\n",
                        "Epoch 7/10\n",
                        "500/500 [==============================] - ETA: 0s - root_mean_squared_error: 0.8323 - loss: 0.6927 - regularization_loss: 0.2611 - total_loss: 0.9538\n",
                        "Epoch 7: val_root_mean_squared_error improved from 0.89953 to 0.89663, saving model to outputs\\movie-recommender-pipeline\\Trainer\\model\\8\\Format-Serving\n"
                    ]
                },
                {
                    "name": "stderr",
                    "output_type": "stream",
                    "text": [
                        "WARNING:absl:Found untraced functions such as ranking_1_layer_call_fn, ranking_1_layer_call_and_return_conditional_losses while saving (showing 2 of 2). These functions will not be directly callable after loading.\n"
                    ]
                },
                {
                    "name": "stdout",
                    "output_type": "stream",
                    "text": [
                        "INFO:tensorflow:Assets written to: outputs\\movie-recommender-pipeline\\Trainer\\model\\8\\Format-Serving\\assets\n"
                    ]
                },
                {
                    "name": "stderr",
                    "output_type": "stream",
                    "text": [
                        "INFO:tensorflow:Assets written to: outputs\\movie-recommender-pipeline\\Trainer\\model\\8\\Format-Serving\\assets\n"
                    ]
                },
                {
                    "name": "stdout",
                    "output_type": "stream",
                    "text": [
                        "\n",
                        "Epoch 7: val_loss improved from 0.66340 to 0.64661, saving model to outputs\\movie-recommender-pipeline\\Trainer\\model\\8\\Format-Serving\n"
                    ]
                },
                {
                    "name": "stderr",
                    "output_type": "stream",
                    "text": [
                        "WARNING:absl:Found untraced functions such as ranking_1_layer_call_fn, ranking_1_layer_call_and_return_conditional_losses while saving (showing 2 of 2). These functions will not be directly callable after loading.\n"
                    ]
                },
                {
                    "name": "stdout",
                    "output_type": "stream",
                    "text": [
                        "INFO:tensorflow:Assets written to: outputs\\movie-recommender-pipeline\\Trainer\\model\\8\\Format-Serving\\assets\n"
                    ]
                },
                {
                    "name": "stderr",
                    "output_type": "stream",
                    "text": [
                        "INFO:tensorflow:Assets written to: outputs\\movie-recommender-pipeline\\Trainer\\model\\8\\Format-Serving\\assets\n"
                    ]
                },
                {
                    "name": "stdout",
                    "output_type": "stream",
                    "text": [
                        "500/500 [==============================] - 17s 34ms/step - root_mean_squared_error: 0.8323 - loss: 0.6925 - regularization_loss: 0.2611 - total_loss: 0.9536 - val_root_mean_squared_error: 0.8966 - val_loss: 0.6466 - val_regularization_loss: 0.2471 - val_total_loss: 0.8937\n",
                        "Epoch 8/10\n",
                        "499/500 [============================>.] - ETA: 0s - root_mean_squared_error: 0.8253 - loss: 0.6812 - regularization_loss: 0.2344 - total_loss: 0.9156\n",
                        "Epoch 8: val_root_mean_squared_error did not improve from 0.89663\n",
                        "\n",
                        "Epoch 8: val_loss improved from 0.64661 to 0.64061, saving model to outputs\\movie-recommender-pipeline\\Trainer\\model\\8\\Format-Serving\n"
                    ]
                },
                {
                    "name": "stderr",
                    "output_type": "stream",
                    "text": [
                        "WARNING:absl:Found untraced functions such as ranking_1_layer_call_fn, ranking_1_layer_call_and_return_conditional_losses while saving (showing 2 of 2). These functions will not be directly callable after loading.\n"
                    ]
                },
                {
                    "name": "stdout",
                    "output_type": "stream",
                    "text": [
                        "INFO:tensorflow:Assets written to: outputs\\movie-recommender-pipeline\\Trainer\\model\\8\\Format-Serving\\assets\n"
                    ]
                },
                {
                    "name": "stderr",
                    "output_type": "stream",
                    "text": [
                        "INFO:tensorflow:Assets written to: outputs\\movie-recommender-pipeline\\Trainer\\model\\8\\Format-Serving\\assets\n"
                    ]
                },
                {
                    "name": "stdout",
                    "output_type": "stream",
                    "text": [
                        "500/500 [==============================] - 13s 25ms/step - root_mean_squared_error: 0.8252 - loss: 0.6808 - regularization_loss: 0.2343 - total_loss: 0.9151 - val_root_mean_squared_error: 0.9102 - val_loss: 0.6406 - val_regularization_loss: 0.2252 - val_total_loss: 0.8658\n",
                        "Epoch 9/10\n",
                        "500/500 [==============================] - ETA: 0s - root_mean_squared_error: 0.8209 - loss: 0.6740 - regularization_loss: 0.2134 - total_loss: 0.8873\n",
                        "Epoch 9: val_root_mean_squared_error did not improve from 0.89663\n",
                        "\n",
                        "Epoch 9: val_loss did not improve from 0.64061\n",
                        "500/500 [==============================] - 8s 16ms/step - root_mean_squared_error: 0.8209 - loss: 0.6741 - regularization_loss: 0.2133 - total_loss: 0.8874 - val_root_mean_squared_error: 0.9020 - val_loss: 0.7296 - val_regularization_loss: 0.2033 - val_total_loss: 0.9329\n",
                        "Epoch 10/10\n",
                        "497/500 [============================>.] - ETA: 0s - root_mean_squared_error: 0.7955 - loss: 0.6329 - regularization_loss: 0.1974 - total_loss: 0.8303\n",
                        "Epoch 10: val_root_mean_squared_error did not improve from 0.89663\n",
                        "\n",
                        "Epoch 10: val_loss did not improve from 0.64061\n",
                        "500/500 [==============================] - 8s 16ms/step - root_mean_squared_error: 0.7959 - loss: 0.6333 - regularization_loss: 0.1974 - total_loss: 0.8307 - val_root_mean_squared_error: 0.9031 - val_loss: 1.0424 - val_regularization_loss: 0.1896 - val_total_loss: 1.2319\n",
                        "INFO:tensorflow:struct2tensor is not available.\n"
                    ]
                },
                {
                    "name": "stderr",
                    "output_type": "stream",
                    "text": [
                        "INFO:tensorflow:struct2tensor is not available.\n"
                    ]
                },
                {
                    "name": "stdout",
                    "output_type": "stream",
                    "text": [
                        "INFO:tensorflow:tensorflow_decision_forests is not available.\n"
                    ]
                },
                {
                    "name": "stderr",
                    "output_type": "stream",
                    "text": [
                        "INFO:tensorflow:tensorflow_decision_forests is not available.\n"
                    ]
                },
                {
                    "name": "stdout",
                    "output_type": "stream",
                    "text": [
                        "INFO:tensorflow:tensorflow_text is not available.\n"
                    ]
                },
                {
                    "name": "stderr",
                    "output_type": "stream",
                    "text": [
                        "INFO:tensorflow:tensorflow_text is not available.\n",
                        "WARNING:absl:Found untraced functions such as ranking_1_layer_call_fn, ranking_1_layer_call_and_return_conditional_losses while saving (showing 2 of 2). These functions will not be directly callable after loading.\n"
                    ]
                },
                {
                    "name": "stdout",
                    "output_type": "stream",
                    "text": [
                        "INFO:tensorflow:Assets written to: outputs\\movie-recommender-pipeline\\Trainer\\model\\8\\Format-Serving\\assets\n"
                    ]
                },
                {
                    "name": "stderr",
                    "output_type": "stream",
                    "text": [
                        "INFO:tensorflow:Assets written to: outputs\\movie-recommender-pipeline\\Trainer\\model\\8\\Format-Serving\\assets\n",
                        "WARNING:absl:ArtifactQuery.property_predicate is not supported.\n",
                        "WARNING:absl:ArtifactQuery.property_predicate is not supported.\n"
                    ]
                },
                {
                    "name": "stdout",
                    "output_type": "stream",
                    "text": [
                        "WARNING:tensorflow:From c:\\Users\\zis\\anaconda3\\envs\\movies-rec\\lib\\site-packages\\tensorflow_model_analysis\\writers\\metrics_plots_and_validations_writer.py:110: tf_record_iterator (from tensorflow.python.lib.io.tf_record) is deprecated and will be removed in a future version.\n",
                        "Instructions for updating:\n",
                        "Use eager execution and: \n",
                        "`tf.data.TFRecordDataset(path)`\n"
                    ]
                },
                {
                    "name": "stderr",
                    "output_type": "stream",
                    "text": [
                        "WARNING:tensorflow:From c:\\Users\\zis\\anaconda3\\envs\\movies-rec\\lib\\site-packages\\tensorflow_model_analysis\\writers\\metrics_plots_and_validations_writer.py:110: tf_record_iterator (from tensorflow.python.lib.io.tf_record) is deprecated and will be removed in a future version.\n",
                        "Instructions for updating:\n",
                        "Use eager execution and: \n",
                        "`tf.data.TFRecordDataset(path)`\n",
                        "WARNING:absl:ArtifactQuery.property_predicate is not supported.\n",
                        "WARNING:absl:ArtifactQuery.property_predicate is not supported.\n"
                    ]
                }
            ],
            "source": [
                "components = components.init_components(\n",
                "    data_dir=DATA_ROOT,\n",
                "    transform_module=TRANSFORM_MODULE_FILE,\n",
                "    tuner_module=TUNER_MODULE_FILE,\n",
                "    trainer_module=TRAINER_MODULE_FILE,\n",
                "    train_steps=500,\n",
                "    eval_steps=100,\n",
                "    serving_model_dir=serving_model_dir,\n",
                "    epochs=10,\n",
                ")\n",
                "\n",
                "pipeline = pipeline.init_pipeline(\n",
                "    pipeline_root=pipeline_root,\n",
                "    pipeline_name=PIPELINE_NAME,\n",
                "    metadata_path=metadata_path,\n",
                "    components=components,\n",
                ")\n",
                "\n",
                "BeamDagRunner().run(pipeline)"
            ]
        }
    ],
    "metadata": {
        "kernelspec": {
            "display_name": "movies-rec",
            "language": "python",
            "name": "python3"
        },
        "language_info": {
            "codemirror_mode": {
                "name": "ipython",
                "version": 3
            },
            "file_extension": ".py",
            "mimetype": "text/x-python",
            "name": "python",
            "nbconvert_exporter": "python",
            "pygments_lexer": "ipython3",
            "version": "3.9.15"
        },
        "orig_nbformat": 4,
        "vscode": {
            "interpreter": {
                "hash": "6e25223de69fee5703ad0c26aae235f0717de5f7833afcaf5995714c1d7d9212"
            }
        }
    },
    "nbformat": 4,
    "nbformat_minor": 2
}
