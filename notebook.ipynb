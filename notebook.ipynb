{
    "cells": [
        {
            "cell_type": "code",
            "execution_count": null,
            "metadata": {},
            "outputs": [],
            "source": [
                "import os\n",
                "import tensorflow as tf\n",
                "import tensorflow_recommenders as tfrs\n",
                "import tensorflow_model_analysis as tfma\n",
                "\n",
                "from tfx import components\n",
                "from tfx.proto import example_gen_pb2, trainer_pb2, pusher_pb2\n",
                "from tfx.orchestration.experimental.interactive.interactive_context import InteractiveContext\n",
                "from tfx.dsl.components.common.resolver import Resolver\n",
                "from tfx.dsl.input_resolution.strategies.latest_blessed_model_strategy import LatestBlessedModelStrategy\n",
                "from tfx.types import Channel\n",
                "from tfx.types.standard_artifacts import Model, ModelBlessing\n"
            ]
        },
        {
            "cell_type": "code",
            "execution_count": null,
            "metadata": {},
            "outputs": [],
            "source": [
                "PIPELINE_ROOT = \"pipeline\"\n",
                "SCHEMA_PIPELINE_NAME = \"movies-rec\"\n",
                "SERVING_MODEL_DIR = \"serving_model_dir\""
            ]
        },
        {
            "cell_type": "code",
            "execution_count": null,
            "metadata": {},
            "outputs": [],
            "source": [
                "MOVIE_DATA_ROOT = \"data/movie\"\n",
                "RATING_DATA_ROOT = \"data/rating/\""
            ]
        },
        {
            "cell_type": "code",
            "execution_count": null,
            "metadata": {},
            "outputs": [],
            "source": [
                "context = InteractiveContext(pipeline_root=PIPELINE_ROOT)"
            ]
        },
        {
            "cell_type": "code",
            "execution_count": null,
            "metadata": {},
            "outputs": [],
            "source": [
                "movie_output = example_gen_pb2.Output(\n",
                "    split_config=example_gen_pb2.SplitConfig(splits=[\n",
                "        example_gen_pb2.SplitConfig.Split(name=\"train\", hash_buckets=9),\n",
                "        example_gen_pb2.SplitConfig.Split(name=\"eval\", hash_buckets=1),\n",
                "    ])\n",
                ")\n",
                "\n",
                "movie_example_gen = components.CsvExampleGen(\n",
                "    input_base=MOVIE_DATA_ROOT,\n",
                "    output_config=movie_output\n",
                ")\n",
                "context.run(movie_example_gen)"
            ]
        },
        {
            "cell_type": "code",
            "execution_count": null,
            "metadata": {},
            "outputs": [],
            "source": [
                "rating_output = example_gen_pb2.Output(\n",
                "    split_config=example_gen_pb2.SplitConfig(splits=[\n",
                "        example_gen_pb2.SplitConfig.Split(name=\"train\", hash_buckets=9),\n",
                "        example_gen_pb2.SplitConfig.Split(name=\"eval\", hash_buckets=1),\n",
                "    ])\n",
                ")\n",
                "\n",
                "rating_example_gen = components.CsvExampleGen(\n",
                "    input_base=RATING_DATA_ROOT,\n",
                "    output_config=rating_output\n",
                ")\n",
                "context.run(rating_example_gen)"
            ]
        },
        {
            "cell_type": "code",
            "execution_count": null,
            "metadata": {},
            "outputs": [],
            "source": [
                "movie_stats_gen = components.StatisticsGen(\n",
                "    examples=movie_example_gen.outputs[\"examples\"]\n",
                ")\n",
                "context.run(movie_stats_gen)"
            ]
        },
        {
            "cell_type": "code",
            "execution_count": null,
            "metadata": {},
            "outputs": [],
            "source": [
                "context.show(movie_stats_gen.outputs[\"statistics\"])"
            ]
        },
        {
            "cell_type": "code",
            "execution_count": null,
            "metadata": {},
            "outputs": [],
            "source": [
                "rating_stats_gen = components.StatisticsGen(\n",
                "    examples=rating_example_gen.outputs[\"examples\"]\n",
                ")\n",
                "context.run(rating_stats_gen)"
            ]
        },
        {
            "cell_type": "code",
            "execution_count": null,
            "metadata": {},
            "outputs": [],
            "source": [
                "context.show(rating_stats_gen.outputs[\"statistics\"])"
            ]
        },
        {
            "cell_type": "code",
            "execution_count": null,
            "metadata": {},
            "outputs": [],
            "source": [
                "movie_schema_gen = components.SchemaGen(\n",
                "    statistics=movie_stats_gen.outputs[\"statistics\"]\n",
                ")\n",
                "context.run(movie_schema_gen)"
            ]
        },
        {
            "cell_type": "code",
            "execution_count": null,
            "metadata": {},
            "outputs": [],
            "source": [
                "rating_schema_gen = components.SchemaGen(\n",
                "    statistics=rating_stats_gen.outputs[\"statistics\"]\n",
                ")\n",
                "context.run(rating_schema_gen)"
            ]
        }
    ],
    "metadata": {
        "kernelspec": {
            "display_name": "Python 3.8.0 ('movies-rec')",
            "language": "python",
            "name": "python3"
        },
        "language_info": {
            "codemirror_mode": {
                "name": "ipython",
                "version": 3
            },
            "file_extension": ".py",
            "mimetype": "text/x-python",
            "name": "python",
            "nbconvert_exporter": "python",
            "pygments_lexer": "ipython3",
            "version": "3.8.0"
        },
        "orig_nbformat": 4,
        "vscode": {
            "interpreter": {
                "hash": "c8bee75823cf711cdc108f50355468f4211d8df5db436ac62360d8c22fcdec6c"
            }
        }
    },
    "nbformat": 4,
    "nbformat_minor": 2
}
