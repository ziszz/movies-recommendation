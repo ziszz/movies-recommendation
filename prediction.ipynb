{
 "cells": [
  {
   "cell_type": "code",
   "execution_count": 2,
   "metadata": {},
   "outputs": [],
   "source": [
    "import tensorflow as tf\n",
    "import pandas as pd\n",
    "import requests \n",
    "import json\n",
    "import base64\n",
    "\n",
    "from modules.utils import create_int_feature, create_float_feature, create_str_feature\n",
    "from typing import Dict"
   ]
  },
  {
   "cell_type": "code",
   "execution_count": 3,
   "metadata": {},
   "outputs": [],
   "source": [
    "def prepare_json(inputs: Dict):\n",
    "    feature_spec = {}\n",
    "    \n",
    "    for key, value in inputs.items():\n",
    "        if isinstance(value, float):\n",
    "            feature_spec[key] = create_float_feature(value)\n",
    "        elif isinstance(value, str):\n",
    "            feature_spec[key] = create_str_feature(value)\n",
    "        else:    \n",
    "            feature_spec[key] = create_int_feature(value)\n",
    "        \n",
    "    example = tf.train.Example(\n",
    "        features=tf.train.Features(feature=feature_spec)\n",
    "    ).SerializeToString()\n",
    "    \n",
    "    result = [\n",
    "        {\n",
    "            \"examples\": {\n",
    "                \"b64\": base64.b64encode(example).decode()\n",
    "            }\n",
    "        }\n",
    "    ]\n",
    "    \n",
    "    return json.dumps({\"instances\": result})"
   ]
  },
  {
   "cell_type": "code",
   "execution_count": 7,
   "metadata": {},
   "outputs": [],
   "source": [
    "def make_prediction(inputs: Dict):\n",
    "    json_data = prepare_json(inputs)\n",
    "    \n",
    "    endpoint = \"http://localhost:8080/v1/models/movies-cbf-model:predict\"\n",
    "    response = requests.post(endpoint, data=json_data)\n",
    "    \n",
    "    prediction = response.json()[\"predictions\"][0][0]\n",
    "    \n",
    "    return f\"Predict movie rating with Movie Id {inputs['movieId']} and User Id {inputs['userId']}: {prediction}\""
   ]
  },
  {
   "cell_type": "code",
   "execution_count": 27,
   "metadata": {},
   "outputs": [
    {
     "data": {
      "text/plain": [
       "'Predict movie rating with Movie Id 2 and User Id 2: 0.999995828'"
      ]
     },
     "execution_count": 27,
     "metadata": {},
     "output_type": "execute_result"
    }
   ],
   "source": [
    "make_prediction({\"movieId\": 2, \"userId\": 2, \"genres\": \"Romance\"})\n"
   ]
  }
 ],
 "metadata": {
  "kernelspec": {
   "display_name": "movies-rec",
   "language": "python",
   "name": "python3"
  },
  "language_info": {
   "codemirror_mode": {
    "name": "ipython",
    "version": 3
   },
   "file_extension": ".py",
   "mimetype": "text/x-python",
   "name": "python",
   "nbconvert_exporter": "python",
   "pygments_lexer": "ipython3",
   "version": "3.9.15"
  },
  "orig_nbformat": 4,
  "vscode": {
   "interpreter": {
    "hash": "6e25223de69fee5703ad0c26aae235f0717de5f7833afcaf5995714c1d7d9212"
   }
  }
 },
 "nbformat": 4,
 "nbformat_minor": 2
}
