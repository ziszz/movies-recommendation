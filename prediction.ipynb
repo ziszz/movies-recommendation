{
 "cells": [
  {
   "cell_type": "code",
   "execution_count": 1,
   "metadata": {},
   "outputs": [],
   "source": [
    "import tensorflow as tf\n",
    "import requests \n",
    "import json\n",
    "import base64\n",
    "import random\n",
    "\n",
    "from modules.utils import create_int_feature, create_float_feature, create_str_feature\n",
    "from typing import Dict"
   ]
  },
  {
   "cell_type": "code",
   "execution_count": 2,
   "metadata": {},
   "outputs": [],
   "source": [
    "def prepare_json(inputs: Dict):\n",
    "    feature_spec = {}\n",
    "    \n",
    "    for key, value in inputs.items():\n",
    "        if isinstance(value, float):\n",
    "            feature_spec[key] = create_float_feature(value)\n",
    "        elif isinstance(value, str):\n",
    "            feature_spec[key] = create_str_feature(value)\n",
    "        else:    \n",
    "            feature_spec[key] = create_int_feature(value)\n",
    "        \n",
    "    example = tf.train.Example(\n",
    "        features=tf.train.Features(feature=feature_spec)\n",
    "    ).SerializeToString()\n",
    "    \n",
    "    result = [\n",
    "        {\n",
    "            \"examples\": {\n",
    "                \"b64\": base64.b64encode(example).decode()\n",
    "            }\n",
    "        }\n",
    "    ]\n",
    "    \n",
    "    return json.dumps({\"instances\": result})"
   ]
  },
  {
   "cell_type": "code",
   "execution_count": 3,
   "metadata": {},
   "outputs": [],
   "source": [
    "def make_prediction(inputs: Dict, endpoint: str):\n",
    "    json_data = prepare_json(inputs)\n",
    "    \n",
    "    endpoint = endpoint\n",
    "    response = requests.post(endpoint, data=json_data)\n",
    "    \n",
    "    prediction = response.json()[\"predictions\"]\n",
    "    \n",
    "    return prediction"
   ]
  },
  {
   "cell_type": "code",
   "execution_count": 6,
   "metadata": {},
   "outputs": [
    {
     "data": {
      "text/plain": [
       "3.13760757"
      ]
     },
     "execution_count": 6,
     "metadata": {},
     "output_type": "execute_result"
    }
   ],
   "source": [
    "# collaborative filtering model predict\n",
    "\n",
    "cf_pred = make_prediction(\n",
    "    inputs={\"movieId\": 10, \"userId\": 1},\n",
    "    endpoint=\"http://localhost:8080/v1/models/movies-cf-model:predict\",\n",
    ")\n",
    "cf_pred[0][0]"
   ]
  },
  {
   "cell_type": "code",
   "execution_count": null,
   "metadata": {},
   "outputs": [],
   "source": [
    "# content-based filtering model predict\n",
    "\n",
    "cbf_pred = make_prediction(\n",
    "    inputs={\"title\": \"Ngeri Ngeri Sedap\", \"userId\": 1000, \"genres\": \"Comedy\"},\n",
    "    endpoint=\"http://localhost:8081/v1/models/movies-cbf-model:predict\",\n",
    ")\n",
    "cbf_pred[0][0]"
   ]
  }
 ],
 "metadata": {
  "kernelspec": {
   "display_name": "movies-rec",
   "language": "python",
   "name": "python3"
  },
  "language_info": {
   "codemirror_mode": {
    "name": "ipython",
    "version": 3
   },
   "file_extension": ".py",
   "mimetype": "text/x-python",
   "name": "python",
   "nbconvert_exporter": "python",
   "pygments_lexer": "ipython3",
   "version": "3.9.15"
  },
  "orig_nbformat": 4,
  "vscode": {
   "interpreter": {
    "hash": "6e25223de69fee5703ad0c26aae235f0717de5f7833afcaf5995714c1d7d9212"
   }
  }
 },
 "nbformat": 4,
 "nbformat_minor": 2
}
